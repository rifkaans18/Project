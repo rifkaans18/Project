{
  "nbformat": 4,
  "nbformat_minor": 0,
  "metadata": {
    "colab": {
      "provenance": [],
      "collapsed_sections": [
        "BtbQTO_5mjxJ",
        "kuPBNqTGmL6B",
        "1VKySzdMpyKE",
        "XCW1_Dnyxz4q",
        "gSoaM6-12QEq",
        "heug10cc2gvJ"
      ],
      "toc_visible": true
    },
    "kernelspec": {
      "name": "python3",
      "display_name": "Python 3"
    },
    "language_info": {
      "name": "python"
    }
  },
  "cells": [
    {
      "cell_type": "markdown",
      "source": [
        "# Import Library"
      ],
      "metadata": {
        "id": "BkHRAJhI11D3"
      }
    },
    {
      "cell_type": "code",
      "source": [
        "import pandas as pd\n",
        "import numpy as np\n",
        "import matplotlib.pyplot as plt \n",
        "import seaborn as sns\n",
        "import xgboost as xgb\n",
        "\n",
        "from sklearn.preprocessing import StandardScaler\n",
        "from sklearn.pipeline import Pipeline\n",
        "from sklearn.model_selection import train_test_split, RepeatedStratifiedKFold, cross_val_score\n",
        "from sklearn.linear_model import LogisticRegression\n",
        "from sklearn.ensemble import RandomForestClassifier\n",
        "from xgboost import XGBClassifier\n",
        "from sklearn.ensemble import GradientBoostingClassifier\n",
        "from sklearn.metrics import roc_curve, roc_auc_score, confusion_matrix, precision_recall_curve, auc\n",
        "from sklearn.feature_selection import f_classif\n",
        "from sklearn.base import BaseEstimator, TransformerMixin\n",
        "from sklearn.metrics import accuracy_score, precision_score, recall_score, f1_score, confusion_matrix, classification_report"
      ],
      "metadata": {
        "id": "3wwIx-u1sixR"
      },
      "execution_count": 1,
      "outputs": []
    },
    {
      "cell_type": "markdown",
      "source": [
        "# Exploring Data"
      ],
      "metadata": {
        "id": "0wrh6zSGg1ja"
      }
    },
    {
      "cell_type": "code",
      "source": [
        "df = pd.read_csv('loan_data_2007_2014.csv')"
      ],
      "metadata": {
        "id": "YhcW6HJwtBWc",
        "colab": {
          "base_uri": "https://localhost:8080/"
        },
        "outputId": "8632da75-1469-456b-9c93-2649b4e42487"
      },
      "execution_count": 2,
      "outputs": [
        {
          "output_type": "stream",
          "name": "stderr",
          "text": [
            "/usr/local/lib/python3.8/dist-packages/IPython/core/interactiveshell.py:3326: DtypeWarning: Columns (20) have mixed types.Specify dtype option on import or set low_memory=False.\n",
            "  exec(code_obj, self.user_global_ns, self.user_ns)\n"
          ]
        }
      ]
    },
    {
      "cell_type": "code",
      "source": [
        "df.head(5)"
      ],
      "metadata": {
        "id": "7M8NolgEtIe5",
        "colab": {
          "base_uri": "https://localhost:8080/",
          "height": 404
        },
        "outputId": "82fc1034-b696-443c-8d54-0969ec5da930"
      },
      "execution_count": 3,
      "outputs": [
        {
          "output_type": "execute_result",
          "data": {
            "text/plain": [
              "   Unnamed: 0       id  member_id  loan_amnt  funded_amnt  funded_amnt_inv  \\\n",
              "0           0  1077501    1296599       5000         5000           4975.0   \n",
              "1           1  1077430    1314167       2500         2500           2500.0   \n",
              "2           2  1077175    1313524       2400         2400           2400.0   \n",
              "3           3  1076863    1277178      10000        10000          10000.0   \n",
              "4           4  1075358    1311748       3000         3000           3000.0   \n",
              "\n",
              "         term  int_rate  installment grade  ... total_bal_il il_util  \\\n",
              "0   36 months     10.65       162.87     B  ...          NaN     NaN   \n",
              "1   60 months     15.27        59.83     C  ...          NaN     NaN   \n",
              "2   36 months     15.96        84.33     C  ...          NaN     NaN   \n",
              "3   36 months     13.49       339.31     C  ...          NaN     NaN   \n",
              "4   60 months     12.69        67.79     B  ...          NaN     NaN   \n",
              "\n",
              "  open_rv_12m open_rv_24m  max_bal_bc all_util total_rev_hi_lim inq_fi  \\\n",
              "0         NaN         NaN         NaN      NaN              NaN    NaN   \n",
              "1         NaN         NaN         NaN      NaN              NaN    NaN   \n",
              "2         NaN         NaN         NaN      NaN              NaN    NaN   \n",
              "3         NaN         NaN         NaN      NaN              NaN    NaN   \n",
              "4         NaN         NaN         NaN      NaN              NaN    NaN   \n",
              "\n",
              "  total_cu_tl inq_last_12m  \n",
              "0         NaN          NaN  \n",
              "1         NaN          NaN  \n",
              "2         NaN          NaN  \n",
              "3         NaN          NaN  \n",
              "4         NaN          NaN  \n",
              "\n",
              "[5 rows x 75 columns]"
            ],
            "text/html": [
              "\n",
              "  <div id=\"df-e07deff3-5e24-456b-ad7d-9d2593196d6a\">\n",
              "    <div class=\"colab-df-container\">\n",
              "      <div>\n",
              "<style scoped>\n",
              "    .dataframe tbody tr th:only-of-type {\n",
              "        vertical-align: middle;\n",
              "    }\n",
              "\n",
              "    .dataframe tbody tr th {\n",
              "        vertical-align: top;\n",
              "    }\n",
              "\n",
              "    .dataframe thead th {\n",
              "        text-align: right;\n",
              "    }\n",
              "</style>\n",
              "<table border=\"1\" class=\"dataframe\">\n",
              "  <thead>\n",
              "    <tr style=\"text-align: right;\">\n",
              "      <th></th>\n",
              "      <th>Unnamed: 0</th>\n",
              "      <th>id</th>\n",
              "      <th>member_id</th>\n",
              "      <th>loan_amnt</th>\n",
              "      <th>funded_amnt</th>\n",
              "      <th>funded_amnt_inv</th>\n",
              "      <th>term</th>\n",
              "      <th>int_rate</th>\n",
              "      <th>installment</th>\n",
              "      <th>grade</th>\n",
              "      <th>...</th>\n",
              "      <th>total_bal_il</th>\n",
              "      <th>il_util</th>\n",
              "      <th>open_rv_12m</th>\n",
              "      <th>open_rv_24m</th>\n",
              "      <th>max_bal_bc</th>\n",
              "      <th>all_util</th>\n",
              "      <th>total_rev_hi_lim</th>\n",
              "      <th>inq_fi</th>\n",
              "      <th>total_cu_tl</th>\n",
              "      <th>inq_last_12m</th>\n",
              "    </tr>\n",
              "  </thead>\n",
              "  <tbody>\n",
              "    <tr>\n",
              "      <th>0</th>\n",
              "      <td>0</td>\n",
              "      <td>1077501</td>\n",
              "      <td>1296599</td>\n",
              "      <td>5000</td>\n",
              "      <td>5000</td>\n",
              "      <td>4975.0</td>\n",
              "      <td>36 months</td>\n",
              "      <td>10.65</td>\n",
              "      <td>162.87</td>\n",
              "      <td>B</td>\n",
              "      <td>...</td>\n",
              "      <td>NaN</td>\n",
              "      <td>NaN</td>\n",
              "      <td>NaN</td>\n",
              "      <td>NaN</td>\n",
              "      <td>NaN</td>\n",
              "      <td>NaN</td>\n",
              "      <td>NaN</td>\n",
              "      <td>NaN</td>\n",
              "      <td>NaN</td>\n",
              "      <td>NaN</td>\n",
              "    </tr>\n",
              "    <tr>\n",
              "      <th>1</th>\n",
              "      <td>1</td>\n",
              "      <td>1077430</td>\n",
              "      <td>1314167</td>\n",
              "      <td>2500</td>\n",
              "      <td>2500</td>\n",
              "      <td>2500.0</td>\n",
              "      <td>60 months</td>\n",
              "      <td>15.27</td>\n",
              "      <td>59.83</td>\n",
              "      <td>C</td>\n",
              "      <td>...</td>\n",
              "      <td>NaN</td>\n",
              "      <td>NaN</td>\n",
              "      <td>NaN</td>\n",
              "      <td>NaN</td>\n",
              "      <td>NaN</td>\n",
              "      <td>NaN</td>\n",
              "      <td>NaN</td>\n",
              "      <td>NaN</td>\n",
              "      <td>NaN</td>\n",
              "      <td>NaN</td>\n",
              "    </tr>\n",
              "    <tr>\n",
              "      <th>2</th>\n",
              "      <td>2</td>\n",
              "      <td>1077175</td>\n",
              "      <td>1313524</td>\n",
              "      <td>2400</td>\n",
              "      <td>2400</td>\n",
              "      <td>2400.0</td>\n",
              "      <td>36 months</td>\n",
              "      <td>15.96</td>\n",
              "      <td>84.33</td>\n",
              "      <td>C</td>\n",
              "      <td>...</td>\n",
              "      <td>NaN</td>\n",
              "      <td>NaN</td>\n",
              "      <td>NaN</td>\n",
              "      <td>NaN</td>\n",
              "      <td>NaN</td>\n",
              "      <td>NaN</td>\n",
              "      <td>NaN</td>\n",
              "      <td>NaN</td>\n",
              "      <td>NaN</td>\n",
              "      <td>NaN</td>\n",
              "    </tr>\n",
              "    <tr>\n",
              "      <th>3</th>\n",
              "      <td>3</td>\n",
              "      <td>1076863</td>\n",
              "      <td>1277178</td>\n",
              "      <td>10000</td>\n",
              "      <td>10000</td>\n",
              "      <td>10000.0</td>\n",
              "      <td>36 months</td>\n",
              "      <td>13.49</td>\n",
              "      <td>339.31</td>\n",
              "      <td>C</td>\n",
              "      <td>...</td>\n",
              "      <td>NaN</td>\n",
              "      <td>NaN</td>\n",
              "      <td>NaN</td>\n",
              "      <td>NaN</td>\n",
              "      <td>NaN</td>\n",
              "      <td>NaN</td>\n",
              "      <td>NaN</td>\n",
              "      <td>NaN</td>\n",
              "      <td>NaN</td>\n",
              "      <td>NaN</td>\n",
              "    </tr>\n",
              "    <tr>\n",
              "      <th>4</th>\n",
              "      <td>4</td>\n",
              "      <td>1075358</td>\n",
              "      <td>1311748</td>\n",
              "      <td>3000</td>\n",
              "      <td>3000</td>\n",
              "      <td>3000.0</td>\n",
              "      <td>60 months</td>\n",
              "      <td>12.69</td>\n",
              "      <td>67.79</td>\n",
              "      <td>B</td>\n",
              "      <td>...</td>\n",
              "      <td>NaN</td>\n",
              "      <td>NaN</td>\n",
              "      <td>NaN</td>\n",
              "      <td>NaN</td>\n",
              "      <td>NaN</td>\n",
              "      <td>NaN</td>\n",
              "      <td>NaN</td>\n",
              "      <td>NaN</td>\n",
              "      <td>NaN</td>\n",
              "      <td>NaN</td>\n",
              "    </tr>\n",
              "  </tbody>\n",
              "</table>\n",
              "<p>5 rows × 75 columns</p>\n",
              "</div>\n",
              "      <button class=\"colab-df-convert\" onclick=\"convertToInteractive('df-e07deff3-5e24-456b-ad7d-9d2593196d6a')\"\n",
              "              title=\"Convert this dataframe to an interactive table.\"\n",
              "              style=\"display:none;\">\n",
              "        \n",
              "  <svg xmlns=\"http://www.w3.org/2000/svg\" height=\"24px\"viewBox=\"0 0 24 24\"\n",
              "       width=\"24px\">\n",
              "    <path d=\"M0 0h24v24H0V0z\" fill=\"none\"/>\n",
              "    <path d=\"M18.56 5.44l.94 2.06.94-2.06 2.06-.94-2.06-.94-.94-2.06-.94 2.06-2.06.94zm-11 1L8.5 8.5l.94-2.06 2.06-.94-2.06-.94L8.5 2.5l-.94 2.06-2.06.94zm10 10l.94 2.06.94-2.06 2.06-.94-2.06-.94-.94-2.06-.94 2.06-2.06.94z\"/><path d=\"M17.41 7.96l-1.37-1.37c-.4-.4-.92-.59-1.43-.59-.52 0-1.04.2-1.43.59L10.3 9.45l-7.72 7.72c-.78.78-.78 2.05 0 2.83L4 21.41c.39.39.9.59 1.41.59.51 0 1.02-.2 1.41-.59l7.78-7.78 2.81-2.81c.8-.78.8-2.07 0-2.86zM5.41 20L4 18.59l7.72-7.72 1.47 1.35L5.41 20z\"/>\n",
              "  </svg>\n",
              "      </button>\n",
              "      \n",
              "  <style>\n",
              "    .colab-df-container {\n",
              "      display:flex;\n",
              "      flex-wrap:wrap;\n",
              "      gap: 12px;\n",
              "    }\n",
              "\n",
              "    .colab-df-convert {\n",
              "      background-color: #E8F0FE;\n",
              "      border: none;\n",
              "      border-radius: 50%;\n",
              "      cursor: pointer;\n",
              "      display: none;\n",
              "      fill: #1967D2;\n",
              "      height: 32px;\n",
              "      padding: 0 0 0 0;\n",
              "      width: 32px;\n",
              "    }\n",
              "\n",
              "    .colab-df-convert:hover {\n",
              "      background-color: #E2EBFA;\n",
              "      box-shadow: 0px 1px 2px rgba(60, 64, 67, 0.3), 0px 1px 3px 1px rgba(60, 64, 67, 0.15);\n",
              "      fill: #174EA6;\n",
              "    }\n",
              "\n",
              "    [theme=dark] .colab-df-convert {\n",
              "      background-color: #3B4455;\n",
              "      fill: #D2E3FC;\n",
              "    }\n",
              "\n",
              "    [theme=dark] .colab-df-convert:hover {\n",
              "      background-color: #434B5C;\n",
              "      box-shadow: 0px 1px 3px 1px rgba(0, 0, 0, 0.15);\n",
              "      filter: drop-shadow(0px 1px 2px rgba(0, 0, 0, 0.3));\n",
              "      fill: #FFFFFF;\n",
              "    }\n",
              "  </style>\n",
              "\n",
              "      <script>\n",
              "        const buttonEl =\n",
              "          document.querySelector('#df-e07deff3-5e24-456b-ad7d-9d2593196d6a button.colab-df-convert');\n",
              "        buttonEl.style.display =\n",
              "          google.colab.kernel.accessAllowed ? 'block' : 'none';\n",
              "\n",
              "        async function convertToInteractive(key) {\n",
              "          const element = document.querySelector('#df-e07deff3-5e24-456b-ad7d-9d2593196d6a');\n",
              "          const dataTable =\n",
              "            await google.colab.kernel.invokeFunction('convertToInteractive',\n",
              "                                                     [key], {});\n",
              "          if (!dataTable) return;\n",
              "\n",
              "          const docLinkHtml = 'Like what you see? Visit the ' +\n",
              "            '<a target=\"_blank\" href=https://colab.research.google.com/notebooks/data_table.ipynb>data table notebook</a>'\n",
              "            + ' to learn more about interactive tables.';\n",
              "          element.innerHTML = '';\n",
              "          dataTable['output_type'] = 'display_data';\n",
              "          await google.colab.output.renderOutput(dataTable, element);\n",
              "          const docLink = document.createElement('div');\n",
              "          docLink.innerHTML = docLinkHtml;\n",
              "          element.appendChild(docLink);\n",
              "        }\n",
              "      </script>\n",
              "    </div>\n",
              "  </div>\n",
              "  "
            ]
          },
          "metadata": {},
          "execution_count": 3
        }
      ]
    },
    {
      "cell_type": "code",
      "source": [
        "df.duplicated().sum()"
      ],
      "metadata": {
        "colab": {
          "base_uri": "https://localhost:8080/"
        },
        "id": "UO4DOLA5qQh_",
        "outputId": "2ce9154b-500c-407d-cac5-fa595d8bd932"
      },
      "execution_count": 4,
      "outputs": [
        {
          "output_type": "execute_result",
          "data": {
            "text/plain": [
              "0"
            ]
          },
          "metadata": {},
          "execution_count": 4
        }
      ]
    },
    {
      "cell_type": "markdown",
      "source": [
        "Tidak terdapat data duplikat"
      ],
      "metadata": {
        "id": "x84jReXzqX6d"
      }
    },
    {
      "cell_type": "code",
      "source": [
        "df.info()"
      ],
      "metadata": {
        "colab": {
          "base_uri": "https://localhost:8080/"
        },
        "id": "KVYSht2Gz5xn",
        "outputId": "11b3b77d-f084-453e-f784-f3b335c3253d"
      },
      "execution_count": 5,
      "outputs": [
        {
          "output_type": "stream",
          "name": "stdout",
          "text": [
            "<class 'pandas.core.frame.DataFrame'>\n",
            "RangeIndex: 466285 entries, 0 to 466284\n",
            "Data columns (total 75 columns):\n",
            " #   Column                       Non-Null Count   Dtype  \n",
            "---  ------                       --------------   -----  \n",
            " 0   Unnamed: 0                   466285 non-null  int64  \n",
            " 1   id                           466285 non-null  int64  \n",
            " 2   member_id                    466285 non-null  int64  \n",
            " 3   loan_amnt                    466285 non-null  int64  \n",
            " 4   funded_amnt                  466285 non-null  int64  \n",
            " 5   funded_amnt_inv              466285 non-null  float64\n",
            " 6   term                         466285 non-null  object \n",
            " 7   int_rate                     466285 non-null  float64\n",
            " 8   installment                  466285 non-null  float64\n",
            " 9   grade                        466285 non-null  object \n",
            " 10  sub_grade                    466285 non-null  object \n",
            " 11  emp_title                    438697 non-null  object \n",
            " 12  emp_length                   445277 non-null  object \n",
            " 13  home_ownership               466285 non-null  object \n",
            " 14  annual_inc                   466281 non-null  float64\n",
            " 15  verification_status          466285 non-null  object \n",
            " 16  issue_d                      466285 non-null  object \n",
            " 17  loan_status                  466285 non-null  object \n",
            " 18  pymnt_plan                   466285 non-null  object \n",
            " 19  url                          466285 non-null  object \n",
            " 20  desc                         125983 non-null  object \n",
            " 21  purpose                      466285 non-null  object \n",
            " 22  title                        466265 non-null  object \n",
            " 23  zip_code                     466285 non-null  object \n",
            " 24  addr_state                   466285 non-null  object \n",
            " 25  dti                          466285 non-null  float64\n",
            " 26  delinq_2yrs                  466256 non-null  float64\n",
            " 27  earliest_cr_line             466256 non-null  object \n",
            " 28  inq_last_6mths               466256 non-null  float64\n",
            " 29  mths_since_last_delinq       215934 non-null  float64\n",
            " 30  mths_since_last_record       62638 non-null   float64\n",
            " 31  open_acc                     466256 non-null  float64\n",
            " 32  pub_rec                      466256 non-null  float64\n",
            " 33  revol_bal                    466285 non-null  int64  \n",
            " 34  revol_util                   465945 non-null  float64\n",
            " 35  total_acc                    466256 non-null  float64\n",
            " 36  initial_list_status          466285 non-null  object \n",
            " 37  out_prncp                    466285 non-null  float64\n",
            " 38  out_prncp_inv                466285 non-null  float64\n",
            " 39  total_pymnt                  466285 non-null  float64\n",
            " 40  total_pymnt_inv              466285 non-null  float64\n",
            " 41  total_rec_prncp              466285 non-null  float64\n",
            " 42  total_rec_int                466285 non-null  float64\n",
            " 43  total_rec_late_fee           466285 non-null  float64\n",
            " 44  recoveries                   466285 non-null  float64\n",
            " 45  collection_recovery_fee      466285 non-null  float64\n",
            " 46  last_pymnt_d                 465909 non-null  object \n",
            " 47  last_pymnt_amnt              466285 non-null  float64\n",
            " 48  next_pymnt_d                 239071 non-null  object \n",
            " 49  last_credit_pull_d           466243 non-null  object \n",
            " 50  collections_12_mths_ex_med   466140 non-null  float64\n",
            " 51  mths_since_last_major_derog  98974 non-null   float64\n",
            " 52  policy_code                  466285 non-null  int64  \n",
            " 53  application_type             466285 non-null  object \n",
            " 54  annual_inc_joint             0 non-null       float64\n",
            " 55  dti_joint                    0 non-null       float64\n",
            " 56  verification_status_joint    0 non-null       float64\n",
            " 57  acc_now_delinq               466256 non-null  float64\n",
            " 58  tot_coll_amt                 396009 non-null  float64\n",
            " 59  tot_cur_bal                  396009 non-null  float64\n",
            " 60  open_acc_6m                  0 non-null       float64\n",
            " 61  open_il_6m                   0 non-null       float64\n",
            " 62  open_il_12m                  0 non-null       float64\n",
            " 63  open_il_24m                  0 non-null       float64\n",
            " 64  mths_since_rcnt_il           0 non-null       float64\n",
            " 65  total_bal_il                 0 non-null       float64\n",
            " 66  il_util                      0 non-null       float64\n",
            " 67  open_rv_12m                  0 non-null       float64\n",
            " 68  open_rv_24m                  0 non-null       float64\n",
            " 69  max_bal_bc                   0 non-null       float64\n",
            " 70  all_util                     0 non-null       float64\n",
            " 71  total_rev_hi_lim             396009 non-null  float64\n",
            " 72  inq_fi                       0 non-null       float64\n",
            " 73  total_cu_tl                  0 non-null       float64\n",
            " 74  inq_last_12m                 0 non-null       float64\n",
            "dtypes: float64(46), int64(7), object(22)\n",
            "memory usage: 266.8+ MB\n"
          ]
        }
      ]
    },
    {
      "cell_type": "markdown",
      "source": [
        "Terdapat 75 kolom dan 466285 baris. "
      ],
      "metadata": {
        "id": "stYWw8MFO5Gg"
      }
    },
    {
      "cell_type": "markdown",
      "source": [
        "# Labeling Target"
      ],
      "metadata": {
        "id": "8hPQVrpdheSr"
      }
    },
    {
      "cell_type": "code",
      "source": [
        "df.head(5)"
      ],
      "metadata": {
        "colab": {
          "base_uri": "https://localhost:8080/",
          "height": 404
        },
        "id": "2pExwFr5kFXR",
        "outputId": "bf74dc2a-0681-4207-f731-0ea671617030"
      },
      "execution_count": 6,
      "outputs": [
        {
          "output_type": "execute_result",
          "data": {
            "text/plain": [
              "   Unnamed: 0       id  member_id  loan_amnt  funded_amnt  funded_amnt_inv  \\\n",
              "0           0  1077501    1296599       5000         5000           4975.0   \n",
              "1           1  1077430    1314167       2500         2500           2500.0   \n",
              "2           2  1077175    1313524       2400         2400           2400.0   \n",
              "3           3  1076863    1277178      10000        10000          10000.0   \n",
              "4           4  1075358    1311748       3000         3000           3000.0   \n",
              "\n",
              "         term  int_rate  installment grade  ... total_bal_il il_util  \\\n",
              "0   36 months     10.65       162.87     B  ...          NaN     NaN   \n",
              "1   60 months     15.27        59.83     C  ...          NaN     NaN   \n",
              "2   36 months     15.96        84.33     C  ...          NaN     NaN   \n",
              "3   36 months     13.49       339.31     C  ...          NaN     NaN   \n",
              "4   60 months     12.69        67.79     B  ...          NaN     NaN   \n",
              "\n",
              "  open_rv_12m open_rv_24m  max_bal_bc all_util total_rev_hi_lim inq_fi  \\\n",
              "0         NaN         NaN         NaN      NaN              NaN    NaN   \n",
              "1         NaN         NaN         NaN      NaN              NaN    NaN   \n",
              "2         NaN         NaN         NaN      NaN              NaN    NaN   \n",
              "3         NaN         NaN         NaN      NaN              NaN    NaN   \n",
              "4         NaN         NaN         NaN      NaN              NaN    NaN   \n",
              "\n",
              "  total_cu_tl inq_last_12m  \n",
              "0         NaN          NaN  \n",
              "1         NaN          NaN  \n",
              "2         NaN          NaN  \n",
              "3         NaN          NaN  \n",
              "4         NaN          NaN  \n",
              "\n",
              "[5 rows x 75 columns]"
            ],
            "text/html": [
              "\n",
              "  <div id=\"df-0f27c5f7-f002-429e-93fb-b62ba6bc2d34\">\n",
              "    <div class=\"colab-df-container\">\n",
              "      <div>\n",
              "<style scoped>\n",
              "    .dataframe tbody tr th:only-of-type {\n",
              "        vertical-align: middle;\n",
              "    }\n",
              "\n",
              "    .dataframe tbody tr th {\n",
              "        vertical-align: top;\n",
              "    }\n",
              "\n",
              "    .dataframe thead th {\n",
              "        text-align: right;\n",
              "    }\n",
              "</style>\n",
              "<table border=\"1\" class=\"dataframe\">\n",
              "  <thead>\n",
              "    <tr style=\"text-align: right;\">\n",
              "      <th></th>\n",
              "      <th>Unnamed: 0</th>\n",
              "      <th>id</th>\n",
              "      <th>member_id</th>\n",
              "      <th>loan_amnt</th>\n",
              "      <th>funded_amnt</th>\n",
              "      <th>funded_amnt_inv</th>\n",
              "      <th>term</th>\n",
              "      <th>int_rate</th>\n",
              "      <th>installment</th>\n",
              "      <th>grade</th>\n",
              "      <th>...</th>\n",
              "      <th>total_bal_il</th>\n",
              "      <th>il_util</th>\n",
              "      <th>open_rv_12m</th>\n",
              "      <th>open_rv_24m</th>\n",
              "      <th>max_bal_bc</th>\n",
              "      <th>all_util</th>\n",
              "      <th>total_rev_hi_lim</th>\n",
              "      <th>inq_fi</th>\n",
              "      <th>total_cu_tl</th>\n",
              "      <th>inq_last_12m</th>\n",
              "    </tr>\n",
              "  </thead>\n",
              "  <tbody>\n",
              "    <tr>\n",
              "      <th>0</th>\n",
              "      <td>0</td>\n",
              "      <td>1077501</td>\n",
              "      <td>1296599</td>\n",
              "      <td>5000</td>\n",
              "      <td>5000</td>\n",
              "      <td>4975.0</td>\n",
              "      <td>36 months</td>\n",
              "      <td>10.65</td>\n",
              "      <td>162.87</td>\n",
              "      <td>B</td>\n",
              "      <td>...</td>\n",
              "      <td>NaN</td>\n",
              "      <td>NaN</td>\n",
              "      <td>NaN</td>\n",
              "      <td>NaN</td>\n",
              "      <td>NaN</td>\n",
              "      <td>NaN</td>\n",
              "      <td>NaN</td>\n",
              "      <td>NaN</td>\n",
              "      <td>NaN</td>\n",
              "      <td>NaN</td>\n",
              "    </tr>\n",
              "    <tr>\n",
              "      <th>1</th>\n",
              "      <td>1</td>\n",
              "      <td>1077430</td>\n",
              "      <td>1314167</td>\n",
              "      <td>2500</td>\n",
              "      <td>2500</td>\n",
              "      <td>2500.0</td>\n",
              "      <td>60 months</td>\n",
              "      <td>15.27</td>\n",
              "      <td>59.83</td>\n",
              "      <td>C</td>\n",
              "      <td>...</td>\n",
              "      <td>NaN</td>\n",
              "      <td>NaN</td>\n",
              "      <td>NaN</td>\n",
              "      <td>NaN</td>\n",
              "      <td>NaN</td>\n",
              "      <td>NaN</td>\n",
              "      <td>NaN</td>\n",
              "      <td>NaN</td>\n",
              "      <td>NaN</td>\n",
              "      <td>NaN</td>\n",
              "    </tr>\n",
              "    <tr>\n",
              "      <th>2</th>\n",
              "      <td>2</td>\n",
              "      <td>1077175</td>\n",
              "      <td>1313524</td>\n",
              "      <td>2400</td>\n",
              "      <td>2400</td>\n",
              "      <td>2400.0</td>\n",
              "      <td>36 months</td>\n",
              "      <td>15.96</td>\n",
              "      <td>84.33</td>\n",
              "      <td>C</td>\n",
              "      <td>...</td>\n",
              "      <td>NaN</td>\n",
              "      <td>NaN</td>\n",
              "      <td>NaN</td>\n",
              "      <td>NaN</td>\n",
              "      <td>NaN</td>\n",
              "      <td>NaN</td>\n",
              "      <td>NaN</td>\n",
              "      <td>NaN</td>\n",
              "      <td>NaN</td>\n",
              "      <td>NaN</td>\n",
              "    </tr>\n",
              "    <tr>\n",
              "      <th>3</th>\n",
              "      <td>3</td>\n",
              "      <td>1076863</td>\n",
              "      <td>1277178</td>\n",
              "      <td>10000</td>\n",
              "      <td>10000</td>\n",
              "      <td>10000.0</td>\n",
              "      <td>36 months</td>\n",
              "      <td>13.49</td>\n",
              "      <td>339.31</td>\n",
              "      <td>C</td>\n",
              "      <td>...</td>\n",
              "      <td>NaN</td>\n",
              "      <td>NaN</td>\n",
              "      <td>NaN</td>\n",
              "      <td>NaN</td>\n",
              "      <td>NaN</td>\n",
              "      <td>NaN</td>\n",
              "      <td>NaN</td>\n",
              "      <td>NaN</td>\n",
              "      <td>NaN</td>\n",
              "      <td>NaN</td>\n",
              "    </tr>\n",
              "    <tr>\n",
              "      <th>4</th>\n",
              "      <td>4</td>\n",
              "      <td>1075358</td>\n",
              "      <td>1311748</td>\n",
              "      <td>3000</td>\n",
              "      <td>3000</td>\n",
              "      <td>3000.0</td>\n",
              "      <td>60 months</td>\n",
              "      <td>12.69</td>\n",
              "      <td>67.79</td>\n",
              "      <td>B</td>\n",
              "      <td>...</td>\n",
              "      <td>NaN</td>\n",
              "      <td>NaN</td>\n",
              "      <td>NaN</td>\n",
              "      <td>NaN</td>\n",
              "      <td>NaN</td>\n",
              "      <td>NaN</td>\n",
              "      <td>NaN</td>\n",
              "      <td>NaN</td>\n",
              "      <td>NaN</td>\n",
              "      <td>NaN</td>\n",
              "    </tr>\n",
              "  </tbody>\n",
              "</table>\n",
              "<p>5 rows × 75 columns</p>\n",
              "</div>\n",
              "      <button class=\"colab-df-convert\" onclick=\"convertToInteractive('df-0f27c5f7-f002-429e-93fb-b62ba6bc2d34')\"\n",
              "              title=\"Convert this dataframe to an interactive table.\"\n",
              "              style=\"display:none;\">\n",
              "        \n",
              "  <svg xmlns=\"http://www.w3.org/2000/svg\" height=\"24px\"viewBox=\"0 0 24 24\"\n",
              "       width=\"24px\">\n",
              "    <path d=\"M0 0h24v24H0V0z\" fill=\"none\"/>\n",
              "    <path d=\"M18.56 5.44l.94 2.06.94-2.06 2.06-.94-2.06-.94-.94-2.06-.94 2.06-2.06.94zm-11 1L8.5 8.5l.94-2.06 2.06-.94-2.06-.94L8.5 2.5l-.94 2.06-2.06.94zm10 10l.94 2.06.94-2.06 2.06-.94-2.06-.94-.94-2.06-.94 2.06-2.06.94z\"/><path d=\"M17.41 7.96l-1.37-1.37c-.4-.4-.92-.59-1.43-.59-.52 0-1.04.2-1.43.59L10.3 9.45l-7.72 7.72c-.78.78-.78 2.05 0 2.83L4 21.41c.39.39.9.59 1.41.59.51 0 1.02-.2 1.41-.59l7.78-7.78 2.81-2.81c.8-.78.8-2.07 0-2.86zM5.41 20L4 18.59l7.72-7.72 1.47 1.35L5.41 20z\"/>\n",
              "  </svg>\n",
              "      </button>\n",
              "      \n",
              "  <style>\n",
              "    .colab-df-container {\n",
              "      display:flex;\n",
              "      flex-wrap:wrap;\n",
              "      gap: 12px;\n",
              "    }\n",
              "\n",
              "    .colab-df-convert {\n",
              "      background-color: #E8F0FE;\n",
              "      border: none;\n",
              "      border-radius: 50%;\n",
              "      cursor: pointer;\n",
              "      display: none;\n",
              "      fill: #1967D2;\n",
              "      height: 32px;\n",
              "      padding: 0 0 0 0;\n",
              "      width: 32px;\n",
              "    }\n",
              "\n",
              "    .colab-df-convert:hover {\n",
              "      background-color: #E2EBFA;\n",
              "      box-shadow: 0px 1px 2px rgba(60, 64, 67, 0.3), 0px 1px 3px 1px rgba(60, 64, 67, 0.15);\n",
              "      fill: #174EA6;\n",
              "    }\n",
              "\n",
              "    [theme=dark] .colab-df-convert {\n",
              "      background-color: #3B4455;\n",
              "      fill: #D2E3FC;\n",
              "    }\n",
              "\n",
              "    [theme=dark] .colab-df-convert:hover {\n",
              "      background-color: #434B5C;\n",
              "      box-shadow: 0px 1px 3px 1px rgba(0, 0, 0, 0.15);\n",
              "      filter: drop-shadow(0px 1px 2px rgba(0, 0, 0, 0.3));\n",
              "      fill: #FFFFFF;\n",
              "    }\n",
              "  </style>\n",
              "\n",
              "      <script>\n",
              "        const buttonEl =\n",
              "          document.querySelector('#df-0f27c5f7-f002-429e-93fb-b62ba6bc2d34 button.colab-df-convert');\n",
              "        buttonEl.style.display =\n",
              "          google.colab.kernel.accessAllowed ? 'block' : 'none';\n",
              "\n",
              "        async function convertToInteractive(key) {\n",
              "          const element = document.querySelector('#df-0f27c5f7-f002-429e-93fb-b62ba6bc2d34');\n",
              "          const dataTable =\n",
              "            await google.colab.kernel.invokeFunction('convertToInteractive',\n",
              "                                                     [key], {});\n",
              "          if (!dataTable) return;\n",
              "\n",
              "          const docLinkHtml = 'Like what you see? Visit the ' +\n",
              "            '<a target=\"_blank\" href=https://colab.research.google.com/notebooks/data_table.ipynb>data table notebook</a>'\n",
              "            + ' to learn more about interactive tables.';\n",
              "          element.innerHTML = '';\n",
              "          dataTable['output_type'] = 'display_data';\n",
              "          await google.colab.output.renderOutput(dataTable, element);\n",
              "          const docLink = document.createElement('div');\n",
              "          docLink.innerHTML = docLinkHtml;\n",
              "          element.appendChild(docLink);\n",
              "        }\n",
              "      </script>\n",
              "    </div>\n",
              "  </div>\n",
              "  "
            ]
          },
          "metadata": {},
          "execution_count": 6
        }
      ]
    },
    {
      "cell_type": "code",
      "source": [
        "df['loan_status'].unique()\n",
        "df['loan_status'].value_counts()"
      ],
      "metadata": {
        "colab": {
          "base_uri": "https://localhost:8080/"
        },
        "id": "RI9D-6DKsI4E",
        "outputId": "99c0f040-cccd-41b7-a368-afb3d0f5677e"
      },
      "execution_count": 7,
      "outputs": [
        {
          "output_type": "execute_result",
          "data": {
            "text/plain": [
              "Current                                                224226\n",
              "Fully Paid                                             184739\n",
              "Charged Off                                             42475\n",
              "Late (31-120 days)                                       6900\n",
              "In Grace Period                                          3146\n",
              "Does not meet the credit policy. Status:Fully Paid       1988\n",
              "Late (16-30 days)                                        1218\n",
              "Default                                                   832\n",
              "Does not meet the credit policy. Status:Charged Off       761\n",
              "Name: loan_status, dtype: int64"
            ]
          },
          "metadata": {},
          "execution_count": 7
        }
      ]
    },
    {
      "cell_type": "code",
      "source": [
        "df['good_bad'] = np.where(df['loan_status'].isin(['Charged Off', 'Default', 'Does not meet the credit policy. Status:Charged Off','Late (31-120 days)']), 0, 1)"
      ],
      "metadata": {
        "id": "5QLLD6gmvfqM"
      },
      "execution_count": 8,
      "outputs": []
    },
    {
      "cell_type": "code",
      "source": [
        "df.drop(['loan_status'], axis=1, inplace = True)"
      ],
      "metadata": {
        "id": "f9HyWulw-kiA"
      },
      "execution_count": 9,
      "outputs": []
    },
    {
      "cell_type": "markdown",
      "source": [
        "# Feature Enginering"
      ],
      "metadata": {
        "id": "dMrhbp0SmAoA"
      }
    },
    {
      "cell_type": "markdown",
      "source": [
        "## term"
      ],
      "metadata": {
        "id": "BtbQTO_5mjxJ"
      }
    },
    {
      "cell_type": "code",
      "source": [
        "df['term'].unique()"
      ],
      "metadata": {
        "colab": {
          "base_uri": "https://localhost:8080/"
        },
        "id": "Zs1O5S4XmjSc",
        "outputId": "e34d4f39-6387-4afb-addb-b4cc16fef9a4"
      },
      "execution_count": 10,
      "outputs": [
        {
          "output_type": "execute_result",
          "data": {
            "text/plain": [
              "array([' 36 months', ' 60 months'], dtype=object)"
            ]
          },
          "metadata": {},
          "execution_count": 10
        }
      ]
    },
    {
      "cell_type": "markdown",
      "source": [
        "Menghapus teks \"months\" dan mengkonversi dari string ke numerik"
      ],
      "metadata": {
        "id": "Ai1w95Mrm0mP"
      }
    },
    {
      "cell_type": "code",
      "source": [
        "df['term'] = pd.to_numeric(df['term'].str.replace(' months', ''))"
      ],
      "metadata": {
        "id": "Nes6QDUom_37"
      },
      "execution_count": 11,
      "outputs": []
    },
    {
      "cell_type": "markdown",
      "source": [
        "## emp_length"
      ],
      "metadata": {
        "id": "kuPBNqTGmL6B"
      }
    },
    {
      "cell_type": "code",
      "source": [
        "df['emp_length'].unique()"
      ],
      "metadata": {
        "colab": {
          "base_uri": "https://localhost:8080/"
        },
        "id": "MApUqXiBmFjZ",
        "outputId": "e2307aae-23c2-4436-e1a3-6ca0049436a6"
      },
      "execution_count": 12,
      "outputs": [
        {
          "output_type": "execute_result",
          "data": {
            "text/plain": [
              "array(['10+ years', '< 1 year', '1 year', '3 years', '8 years', '9 years',\n",
              "       '4 years', '5 years', '6 years', '2 years', '7 years', nan],\n",
              "      dtype=object)"
            ]
          },
          "metadata": {},
          "execution_count": 12
        }
      ]
    },
    {
      "cell_type": "markdown",
      "source": [
        "Menghapus teks dan mengkonversi dari string ke numerik"
      ],
      "metadata": {
        "id": "M2NP-zYzmXWB"
      }
    },
    {
      "cell_type": "code",
      "source": [
        "df['emp_length'] = df['emp_length'].str.replace('\\\\+ years', '')\n",
        "df['emp_length'] = df['emp_length'].str.replace('< 1 year', str(0))\n",
        "df['emp_length'] = df['emp_length'].str.replace(' years', '')\n",
        "df['emp_length'] = df['emp_length'].str.replace(' year', '')"
      ],
      "metadata": {
        "colab": {
          "base_uri": "https://localhost:8080/"
        },
        "id": "vhx5I8MAn4d-",
        "outputId": "c61fb92a-5bae-4169-f70c-4f274326a733"
      },
      "execution_count": 13,
      "outputs": [
        {
          "output_type": "stream",
          "name": "stderr",
          "text": [
            "<ipython-input-13-baea8f149af0>:1: FutureWarning: The default value of regex will change from True to False in a future version.\n",
            "  df['emp_length'] = df['emp_length'].str.replace('\\\\+ years', '')\n"
          ]
        }
      ]
    },
    {
      "cell_type": "code",
      "source": [
        "type(df['emp_length'][0])\n",
        "df['emp_length'] = pd.to_numeric(df['emp_length'])"
      ],
      "metadata": {
        "id": "EIz_VsVgUcTu"
      },
      "execution_count": 14,
      "outputs": []
    },
    {
      "cell_type": "code",
      "source": [
        "df[['emp_length']].head(5)"
      ],
      "metadata": {
        "colab": {
          "base_uri": "https://localhost:8080/",
          "height": 0
        },
        "id": "l9YjSrDopdST",
        "outputId": "33328756-f98f-4ae0-bca4-8a562f546db2"
      },
      "execution_count": 15,
      "outputs": [
        {
          "output_type": "execute_result",
          "data": {
            "text/plain": [
              "   emp_length\n",
              "0        10.0\n",
              "1         0.0\n",
              "2        10.0\n",
              "3        10.0\n",
              "4         1.0"
            ],
            "text/html": [
              "\n",
              "  <div id=\"df-68a2a167-5a70-4c3f-822b-dcb206e699bf\">\n",
              "    <div class=\"colab-df-container\">\n",
              "      <div>\n",
              "<style scoped>\n",
              "    .dataframe tbody tr th:only-of-type {\n",
              "        vertical-align: middle;\n",
              "    }\n",
              "\n",
              "    .dataframe tbody tr th {\n",
              "        vertical-align: top;\n",
              "    }\n",
              "\n",
              "    .dataframe thead th {\n",
              "        text-align: right;\n",
              "    }\n",
              "</style>\n",
              "<table border=\"1\" class=\"dataframe\">\n",
              "  <thead>\n",
              "    <tr style=\"text-align: right;\">\n",
              "      <th></th>\n",
              "      <th>emp_length</th>\n",
              "    </tr>\n",
              "  </thead>\n",
              "  <tbody>\n",
              "    <tr>\n",
              "      <th>0</th>\n",
              "      <td>10.0</td>\n",
              "    </tr>\n",
              "    <tr>\n",
              "      <th>1</th>\n",
              "      <td>0.0</td>\n",
              "    </tr>\n",
              "    <tr>\n",
              "      <th>2</th>\n",
              "      <td>10.0</td>\n",
              "    </tr>\n",
              "    <tr>\n",
              "      <th>3</th>\n",
              "      <td>10.0</td>\n",
              "    </tr>\n",
              "    <tr>\n",
              "      <th>4</th>\n",
              "      <td>1.0</td>\n",
              "    </tr>\n",
              "  </tbody>\n",
              "</table>\n",
              "</div>\n",
              "      <button class=\"colab-df-convert\" onclick=\"convertToInteractive('df-68a2a167-5a70-4c3f-822b-dcb206e699bf')\"\n",
              "              title=\"Convert this dataframe to an interactive table.\"\n",
              "              style=\"display:none;\">\n",
              "        \n",
              "  <svg xmlns=\"http://www.w3.org/2000/svg\" height=\"24px\"viewBox=\"0 0 24 24\"\n",
              "       width=\"24px\">\n",
              "    <path d=\"M0 0h24v24H0V0z\" fill=\"none\"/>\n",
              "    <path d=\"M18.56 5.44l.94 2.06.94-2.06 2.06-.94-2.06-.94-.94-2.06-.94 2.06-2.06.94zm-11 1L8.5 8.5l.94-2.06 2.06-.94-2.06-.94L8.5 2.5l-.94 2.06-2.06.94zm10 10l.94 2.06.94-2.06 2.06-.94-2.06-.94-.94-2.06-.94 2.06-2.06.94z\"/><path d=\"M17.41 7.96l-1.37-1.37c-.4-.4-.92-.59-1.43-.59-.52 0-1.04.2-1.43.59L10.3 9.45l-7.72 7.72c-.78.78-.78 2.05 0 2.83L4 21.41c.39.39.9.59 1.41.59.51 0 1.02-.2 1.41-.59l7.78-7.78 2.81-2.81c.8-.78.8-2.07 0-2.86zM5.41 20L4 18.59l7.72-7.72 1.47 1.35L5.41 20z\"/>\n",
              "  </svg>\n",
              "      </button>\n",
              "      \n",
              "  <style>\n",
              "    .colab-df-container {\n",
              "      display:flex;\n",
              "      flex-wrap:wrap;\n",
              "      gap: 12px;\n",
              "    }\n",
              "\n",
              "    .colab-df-convert {\n",
              "      background-color: #E8F0FE;\n",
              "      border: none;\n",
              "      border-radius: 50%;\n",
              "      cursor: pointer;\n",
              "      display: none;\n",
              "      fill: #1967D2;\n",
              "      height: 32px;\n",
              "      padding: 0 0 0 0;\n",
              "      width: 32px;\n",
              "    }\n",
              "\n",
              "    .colab-df-convert:hover {\n",
              "      background-color: #E2EBFA;\n",
              "      box-shadow: 0px 1px 2px rgba(60, 64, 67, 0.3), 0px 1px 3px 1px rgba(60, 64, 67, 0.15);\n",
              "      fill: #174EA6;\n",
              "    }\n",
              "\n",
              "    [theme=dark] .colab-df-convert {\n",
              "      background-color: #3B4455;\n",
              "      fill: #D2E3FC;\n",
              "    }\n",
              "\n",
              "    [theme=dark] .colab-df-convert:hover {\n",
              "      background-color: #434B5C;\n",
              "      box-shadow: 0px 1px 3px 1px rgba(0, 0, 0, 0.15);\n",
              "      filter: drop-shadow(0px 1px 2px rgba(0, 0, 0, 0.3));\n",
              "      fill: #FFFFFF;\n",
              "    }\n",
              "  </style>\n",
              "\n",
              "      <script>\n",
              "        const buttonEl =\n",
              "          document.querySelector('#df-68a2a167-5a70-4c3f-822b-dcb206e699bf button.colab-df-convert');\n",
              "        buttonEl.style.display =\n",
              "          google.colab.kernel.accessAllowed ? 'block' : 'none';\n",
              "\n",
              "        async function convertToInteractive(key) {\n",
              "          const element = document.querySelector('#df-68a2a167-5a70-4c3f-822b-dcb206e699bf');\n",
              "          const dataTable =\n",
              "            await google.colab.kernel.invokeFunction('convertToInteractive',\n",
              "                                                     [key], {});\n",
              "          if (!dataTable) return;\n",
              "\n",
              "          const docLinkHtml = 'Like what you see? Visit the ' +\n",
              "            '<a target=\"_blank\" href=https://colab.research.google.com/notebooks/data_table.ipynb>data table notebook</a>'\n",
              "            + ' to learn more about interactive tables.';\n",
              "          element.innerHTML = '';\n",
              "          dataTable['output_type'] = 'display_data';\n",
              "          await google.colab.output.renderOutput(dataTable, element);\n",
              "          const docLink = document.createElement('div');\n",
              "          docLink.innerHTML = docLinkHtml;\n",
              "          element.appendChild(docLink);\n",
              "        }\n",
              "      </script>\n",
              "    </div>\n",
              "  </div>\n",
              "  "
            ]
          },
          "metadata": {},
          "execution_count": 15
        }
      ]
    },
    {
      "cell_type": "code",
      "source": [
        "sns.countplot(data=df, x='emp_length')"
      ],
      "metadata": {
        "colab": {
          "base_uri": "https://localhost:8080/",
          "height": 0
        },
        "id": "lnMd9I1pluyL",
        "outputId": "bdf5f245-cc03-4188-99ff-156c05fa26dc"
      },
      "execution_count": 16,
      "outputs": [
        {
          "output_type": "execute_result",
          "data": {
            "text/plain": [
              "<matplotlib.axes._subplots.AxesSubplot at 0x7ff1c80c21f0>"
            ]
          },
          "metadata": {},
          "execution_count": 16
        },
        {
          "output_type": "display_data",
          "data": {
            "text/plain": [
              "<Figure size 432x288 with 1 Axes>"
            ],
            "image/png": "[encoded data removed]"
          },
          "metadata": {
            "needs_background": "light"
          }
        }
      ]
    },
    {
      "cell_type": "markdown",
      "source": [
        "## Issue_d"
      ],
      "metadata": {
        "id": "1VKySzdMpyKE"
      }
    },
    {
      "cell_type": "code",
      "source": [
        "df['issue_d'] = pd.to_datetime(df['issue_d'], format = '%b-%y')\n",
        "df['issue_d']"
      ],
      "metadata": {
        "colab": {
          "base_uri": "https://localhost:8080/"
        },
        "id": "NJrOlxNMp2FW",
        "outputId": "d318ba1d-f37a-44b4-8303-ad43527828c3"
      },
      "execution_count": 17,
      "outputs": [
        {
          "output_type": "execute_result",
          "data": {
            "text/plain": [
              "0        2011-12-01\n",
              "1        2011-12-01\n",
              "2        2011-12-01\n",
              "3        2011-12-01\n",
              "4        2011-12-01\n",
              "            ...    \n",
              "466280   2014-01-01\n",
              "466281   2014-01-01\n",
              "466282   2014-01-01\n",
              "466283   2014-01-01\n",
              "466284   2014-01-01\n",
              "Name: issue_d, Length: 466285, dtype: datetime64[ns]"
            ]
          },
          "metadata": {},
          "execution_count": 17
        }
      ]
    },
    {
      "cell_type": "code",
      "source": [
        "# diasumsikan untuk tanggal sekarang adalah 2022-12-3\n",
        "df['mths_since_issue_d'] = round(pd.to_numeric((pd.to_datetime('2022-12-3')\n",
        " - df['issue_d'])/np.timedelta64(1, 'M') ))"
      ],
      "metadata": {
        "id": "MismszRsqgez"
      },
      "execution_count": 18,
      "outputs": []
    },
    {
      "cell_type": "code",
      "source": [
        "df['mths_since_issue_d'].describe()"
      ],
      "metadata": {
        "colab": {
          "base_uri": "https://localhost:8080/"
        },
        "id": "PH5HRhpaQcLg",
        "outputId": "a163a038-30ac-496d-d2b4-92c7f092fd40"
      },
      "execution_count": 19,
      "outputs": [
        {
          "output_type": "execute_result",
          "data": {
            "text/plain": [
              "count    466285.000000\n",
              "mean        111.255187\n",
              "std          14.340154\n",
              "min          96.000000\n",
              "25%         101.000000\n",
              "50%         107.000000\n",
              "75%         117.000000\n",
              "max         186.000000\n",
              "Name: mths_since_issue_d, dtype: float64"
            ]
          },
          "metadata": {},
          "execution_count": 19
        }
      ]
    },
    {
      "cell_type": "code",
      "source": [
        "df['mths_since_issue_d']"
      ],
      "metadata": {
        "colab": {
          "base_uri": "https://localhost:8080/"
        },
        "id": "eioslD47QY_8",
        "outputId": "0b2ca004-51bb-4b52-f697-507c6417bab0"
      },
      "execution_count": 20,
      "outputs": [
        {
          "output_type": "execute_result",
          "data": {
            "text/plain": [
              "0         132.0\n",
              "1         132.0\n",
              "2         132.0\n",
              "3         132.0\n",
              "4         132.0\n",
              "          ...  \n",
              "466280    107.0\n",
              "466281    107.0\n",
              "466282    107.0\n",
              "466283    107.0\n",
              "466284    107.0\n",
              "Name: mths_since_issue_d, Length: 466285, dtype: float64"
            ]
          },
          "metadata": {},
          "execution_count": 20
        }
      ]
    },
    {
      "cell_type": "code",
      "source": [
        "df.drop(['issue_d'], axis=1, inplace=True)"
      ],
      "metadata": {
        "id": "nsS-xaSi7vAR"
      },
      "execution_count": 21,
      "outputs": []
    },
    {
      "cell_type": "markdown",
      "source": [
        "## Earliest_cr_line"
      ],
      "metadata": {
        "id": "XCW1_Dnyxz4q"
      }
    },
    {
      "cell_type": "code",
      "source": [
        "df['earliest_cr_line']"
      ],
      "metadata": {
        "colab": {
          "base_uri": "https://localhost:8080/"
        },
        "id": "fWJrOISWyIgy",
        "outputId": "471917cf-5eb2-4b6d-be34-7895443a0c3f"
      },
      "execution_count": 22,
      "outputs": [
        {
          "output_type": "execute_result",
          "data": {
            "text/plain": [
              "0         Jan-85\n",
              "1         Apr-99\n",
              "2         Nov-01\n",
              "3         Feb-96\n",
              "4         Jan-96\n",
              "           ...  \n",
              "466280    Apr-03\n",
              "466281    Jun-97\n",
              "466282    Dec-01\n",
              "466283    Feb-03\n",
              "466284    Feb-00\n",
              "Name: earliest_cr_line, Length: 466285, dtype: object"
            ]
          },
          "metadata": {},
          "execution_count": 22
        }
      ]
    },
    {
      "cell_type": "code",
      "source": [
        "#Konversi dari object ke date time\n",
        "df['earliest_cr_line'] = pd.to_datetime(df['earliest_cr_line'], format = '%b-%y')"
      ],
      "metadata": {
        "id": "mwkGUvhRx4Zm"
      },
      "execution_count": 23,
      "outputs": []
    },
    {
      "cell_type": "code",
      "source": [
        "df['mths_since_earliest_cr_line'] = round(pd.to_numeric((pd.to_datetime('2022-12-3') \n",
        "- df['earliest_cr_line'])/np.timedelta64(1, 'M') ))\n",
        "df['mths_since_earliest_cr_line'].describe()"
      ],
      "metadata": {
        "colab": {
          "base_uri": "https://localhost:8080/"
        },
        "id": "Cl9d_5tuypMy",
        "outputId": "37628eb2-2eb7-4559-deac-1c2b7a073118"
      },
      "execution_count": 24,
      "outputs": [
        {
          "output_type": "execute_result",
          "data": {
            "text/plain": [
              "count    466256.000000\n",
              "mean        299.482430\n",
              "std          93.974829\n",
              "min        -552.000000\n",
              "25%         243.000000\n",
              "50%         285.000000\n",
              "75%         345.000000\n",
              "max         647.000000\n",
              "Name: mths_since_earliest_cr_line, dtype: float64"
            ]
          },
          "metadata": {},
          "execution_count": 24
        }
      ]
    },
    {
      "cell_type": "code",
      "source": [
        "df.loc[:, [ 'earliest_cr_line', 'mths_since_earliest_cr_line']][df['mths_since_earliest_cr_line'] < 0]"
      ],
      "metadata": {
        "colab": {
          "base_uri": "https://localhost:8080/",
          "height": 0
        },
        "id": "OJhQuoqBPMPx",
        "outputId": "0c79cbb8-9012-40d3-8a0e-fd2a809d8871"
      },
      "execution_count": 25,
      "outputs": [
        {
          "output_type": "execute_result",
          "data": {
            "text/plain": [
              "       earliest_cr_line  mths_since_earliest_cr_line\n",
              "1580         2062-09-01                       -477.0\n",
              "1770         2068-09-01                       -549.0\n",
              "2799         2064-09-01                       -501.0\n",
              "3282         2067-09-01                       -537.0\n",
              "3359         2065-02-01                       -506.0\n",
              "...                 ...                          ...\n",
              "464003       2068-01-01                       -541.0\n",
              "464260       2066-07-01                       -523.0\n",
              "465100       2067-10-01                       -538.0\n",
              "465500       2067-09-01                       -537.0\n",
              "465655       2056-01-01                       -397.0\n",
              "\n",
              "[1169 rows x 2 columns]"
            ],
            "text/html": [
              "\n",
              "  <div id=\"df-5a024108-c4e9-4be4-85d9-bc21f6939c32\">\n",
              "    <div class=\"colab-df-container\">\n",
              "      <div>\n",
              "<style scoped>\n",
              "    .dataframe tbody tr th:only-of-type {\n",
              "        vertical-align: middle;\n",
              "    }\n",
              "\n",
              "    .dataframe tbody tr th {\n",
              "        vertical-align: top;\n",
              "    }\n",
              "\n",
              "    .dataframe thead th {\n",
              "        text-align: right;\n",
              "    }\n",
              "</style>\n",
              "<table border=\"1\" class=\"dataframe\">\n",
              "  <thead>\n",
              "    <tr style=\"text-align: right;\">\n",
              "      <th></th>\n",
              "      <th>earliest_cr_line</th>\n",
              "      <th>mths_since_earliest_cr_line</th>\n",
              "    </tr>\n",
              "  </thead>\n",
              "  <tbody>\n",
              "    <tr>\n",
              "      <th>1580</th>\n",
              "      <td>2062-09-01</td>\n",
              "      <td>-477.0</td>\n",
              "    </tr>\n",
              "    <tr>\n",
              "      <th>1770</th>\n",
              "      <td>2068-09-01</td>\n",
              "      <td>-549.0</td>\n",
              "    </tr>\n",
              "    <tr>\n",
              "      <th>2799</th>\n",
              "      <td>2064-09-01</td>\n",
              "      <td>-501.0</td>\n",
              "    </tr>\n",
              "    <tr>\n",
              "      <th>3282</th>\n",
              "      <td>2067-09-01</td>\n",
              "      <td>-537.0</td>\n",
              "    </tr>\n",
              "    <tr>\n",
              "      <th>3359</th>\n",
              "      <td>2065-02-01</td>\n",
              "      <td>-506.0</td>\n",
              "    </tr>\n",
              "    <tr>\n",
              "      <th>...</th>\n",
              "      <td>...</td>\n",
              "      <td>...</td>\n",
              "    </tr>\n",
              "    <tr>\n",
              "      <th>464003</th>\n",
              "      <td>2068-01-01</td>\n",
              "      <td>-541.0</td>\n",
              "    </tr>\n",
              "    <tr>\n",
              "      <th>464260</th>\n",
              "      <td>2066-07-01</td>\n",
              "      <td>-523.0</td>\n",
              "    </tr>\n",
              "    <tr>\n",
              "      <th>465100</th>\n",
              "      <td>2067-10-01</td>\n",
              "      <td>-538.0</td>\n",
              "    </tr>\n",
              "    <tr>\n",
              "      <th>465500</th>\n",
              "      <td>2067-09-01</td>\n",
              "      <td>-537.0</td>\n",
              "    </tr>\n",
              "    <tr>\n",
              "      <th>465655</th>\n",
              "      <td>2056-01-01</td>\n",
              "      <td>-397.0</td>\n",
              "    </tr>\n",
              "  </tbody>\n",
              "</table>\n",
              "<p>1169 rows × 2 columns</p>\n",
              "</div>\n",
              "      <button class=\"colab-df-convert\" onclick=\"convertToInteractive('df-5a024108-c4e9-4be4-85d9-bc21f6939c32')\"\n",
              "              title=\"Convert this dataframe to an interactive table.\"\n",
              "              style=\"display:none;\">\n",
              "        \n",
              "  <svg xmlns=\"http://www.w3.org/2000/svg\" height=\"24px\"viewBox=\"0 0 24 24\"\n",
              "       width=\"24px\">\n",
              "    <path d=\"M0 0h24v24H0V0z\" fill=\"none\"/>\n",
              "    <path d=\"M18.56 5.44l.94 2.06.94-2.06 2.06-.94-2.06-.94-.94-2.06-.94 2.06-2.06.94zm-11 1L8.5 8.5l.94-2.06 2.06-.94-2.06-.94L8.5 2.5l-.94 2.06-2.06.94zm10 10l.94 2.06.94-2.06 2.06-.94-2.06-.94-.94-2.06-.94 2.06-2.06.94z\"/><path d=\"M17.41 7.96l-1.37-1.37c-.4-.4-.92-.59-1.43-.59-.52 0-1.04.2-1.43.59L10.3 9.45l-7.72 7.72c-.78.78-.78 2.05 0 2.83L4 21.41c.39.39.9.59 1.41.59.51 0 1.02-.2 1.41-.59l7.78-7.78 2.81-2.81c.8-.78.8-2.07 0-2.86zM5.41 20L4 18.59l7.72-7.72 1.47 1.35L5.41 20z\"/>\n",
              "  </svg>\n",
              "      </button>\n",
              "      \n",
              "  <style>\n",
              "    .colab-df-container {\n",
              "      display:flex;\n",
              "      flex-wrap:wrap;\n",
              "      gap: 12px;\n",
              "    }\n",
              "\n",
              "    .colab-df-convert {\n",
              "      background-color: #E8F0FE;\n",
              "      border: none;\n",
              "      border-radius: 50%;\n",
              "      cursor: pointer;\n",
              "      display: none;\n",
              "      fill: #1967D2;\n",
              "      height: 32px;\n",
              "      padding: 0 0 0 0;\n",
              "      width: 32px;\n",
              "    }\n",
              "\n",
              "    .colab-df-convert:hover {\n",
              "      background-color: #E2EBFA;\n",
              "      box-shadow: 0px 1px 2px rgba(60, 64, 67, 0.3), 0px 1px 3px 1px rgba(60, 64, 67, 0.15);\n",
              "      fill: #174EA6;\n",
              "    }\n",
              "\n",
              "    [theme=dark] .colab-df-convert {\n",
              "      background-color: #3B4455;\n",
              "      fill: #D2E3FC;\n",
              "    }\n",
              "\n",
              "    [theme=dark] .colab-df-convert:hover {\n",
              "      background-color: #434B5C;\n",
              "      box-shadow: 0px 1px 3px 1px rgba(0, 0, 0, 0.15);\n",
              "      filter: drop-shadow(0px 1px 2px rgba(0, 0, 0, 0.3));\n",
              "      fill: #FFFFFF;\n",
              "    }\n",
              "  </style>\n",
              "\n",
              "      <script>\n",
              "        const buttonEl =\n",
              "          document.querySelector('#df-5a024108-c4e9-4be4-85d9-bc21f6939c32 button.colab-df-convert');\n",
              "        buttonEl.style.display =\n",
              "          google.colab.kernel.accessAllowed ? 'block' : 'none';\n",
              "\n",
              "        async function convertToInteractive(key) {\n",
              "          const element = document.querySelector('#df-5a024108-c4e9-4be4-85d9-bc21f6939c32');\n",
              "          const dataTable =\n",
              "            await google.colab.kernel.invokeFunction('convertToInteractive',\n",
              "                                                     [key], {});\n",
              "          if (!dataTable) return;\n",
              "\n",
              "          const docLinkHtml = 'Like what you see? Visit the ' +\n",
              "            '<a target=\"_blank\" href=https://colab.research.google.com/notebooks/data_table.ipynb>data table notebook</a>'\n",
              "            + ' to learn more about interactive tables.';\n",
              "          element.innerHTML = '';\n",
              "          dataTable['output_type'] = 'display_data';\n",
              "          await google.colab.output.renderOutput(dataTable, element);\n",
              "          const docLink = document.createElement('div');\n",
              "          docLink.innerHTML = docLinkHtml;\n",
              "          element.appendChild(docLink);\n",
              "        }\n",
              "      </script>\n",
              "    </div>\n",
              "  </div>\n",
              "  "
            ]
          },
          "metadata": {},
          "execution_count": 25
        }
      ]
    },
    {
      "cell_type": "markdown",
      "source": [
        "Dari kolom 'earliest_cr_line' dapat kita lihat bahwa terdapat waktu/tahun melebihi dari waktu saat data dikumpulkan. Sehingga bernilai negatif."
      ],
      "metadata": {
        "id": "T5HGemt7QtZl"
      }
    },
    {
      "cell_type": "code",
      "source": [
        "df['mths_since_earliest_cr_line'][df['mths_since_earliest_cr_line'] < 0] = df['mths_since_earliest_cr_line'].max() # menghapus data yang bernilai negatif\n",
        "min(df['mths_since_earliest_cr_line'])"
      ],
      "metadata": {
        "colab": {
          "base_uri": "https://localhost:8080/"
        },
        "id": "Veno3rqzG4Ve",
        "outputId": "f6ef552e-c0f4-44e2-933e-391e93c59660"
      },
      "execution_count": 26,
      "outputs": [
        {
          "output_type": "stream",
          "name": "stderr",
          "text": [
            "<ipython-input-26-d26235fd4a1c>:1: SettingWithCopyWarning: \n",
            "A value is trying to be set on a copy of a slice from a DataFrame\n",
            "\n",
            "See the caveats in the documentation: https://pandas.pydata.org/pandas-docs/stable/user_guide/indexing.html#returning-a-view-versus-a-copy\n",
            "  df['mths_since_earliest_cr_line'][df['mths_since_earliest_cr_line'] < 0] = df['mths_since_earliest_cr_line'].max() # menghapus data yang bernilai negatif\n"
          ]
        },
        {
          "output_type": "execute_result",
          "data": {
            "text/plain": [
              "133.0"
            ]
          },
          "metadata": {},
          "execution_count": 26
        }
      ]
    },
    {
      "cell_type": "code",
      "source": [
        "df['mths_since_earliest_cr_line'].describe()"
      ],
      "metadata": {
        "colab": {
          "base_uri": "https://localhost:8080/"
        },
        "id": "tiaNqdMMhj3B",
        "outputId": "23e16874-5ea1-4c69-f6e4-4c1df77dc893"
      },
      "execution_count": 27,
      "outputs": [
        {
          "output_type": "execute_result",
          "data": {
            "text/plain": [
              "count    466256.000000\n",
              "mean        302.385374\n",
              "std          86.460310\n",
              "min         133.000000\n",
              "25%         244.000000\n",
              "50%         286.000000\n",
              "75%         345.000000\n",
              "max         647.000000\n",
              "Name: mths_since_earliest_cr_line, dtype: float64"
            ]
          },
          "metadata": {},
          "execution_count": 27
        }
      ]
    },
    {
      "cell_type": "code",
      "source": [
        "df.drop(['earliest_cr_line'], axis=1, inplace=True)"
      ],
      "metadata": {
        "id": "_TpgIwSR80kW"
      },
      "execution_count": 28,
      "outputs": []
    },
    {
      "cell_type": "markdown",
      "source": [
        "## last_pymnt_d"
      ],
      "metadata": {
        "id": "gSoaM6-12QEq"
      }
    },
    {
      "cell_type": "code",
      "source": [
        "df['last_pymnt_d']"
      ],
      "metadata": {
        "colab": {
          "base_uri": "https://localhost:8080/"
        },
        "id": "xJrCHcL_2jGb",
        "outputId": "bf412870-c555-4e33-a303-0478826aa90c"
      },
      "execution_count": 29,
      "outputs": [
        {
          "output_type": "execute_result",
          "data": {
            "text/plain": [
              "0         Jan-15\n",
              "1         Apr-13\n",
              "2         Jun-14\n",
              "3         Jan-15\n",
              "4         Jan-16\n",
              "           ...  \n",
              "466280    Jan-16\n",
              "466281    Dec-14\n",
              "466282    Jan-16\n",
              "466283    Dec-14\n",
              "466284    Jan-16\n",
              "Name: last_pymnt_d, Length: 466285, dtype: object"
            ]
          },
          "metadata": {},
          "execution_count": 29
        }
      ]
    },
    {
      "cell_type": "code",
      "source": [
        "df['last_pymnt_d'] = pd.to_datetime(df['last_pymnt_d'], format = '%b-%y')"
      ],
      "metadata": {
        "id": "P8HnQuR02srY"
      },
      "execution_count": 30,
      "outputs": []
    },
    {
      "cell_type": "code",
      "source": [
        "df['mths_since_last_pymnt_d'] = round(pd.to_numeric((pd.to_datetime('2022-12-3') - df['last_pymnt_d'])/np.timedelta64(1, 'M') ))\n",
        "df['mths_since_last_pymnt_d'].describe()"
      ],
      "metadata": {
        "colab": {
          "base_uri": "https://localhost:8080/"
        },
        "id": "9pSKZ2oy21vy",
        "outputId": "ad9fea50-e859-4024-a486-2ea3a619024c"
      },
      "execution_count": 31,
      "outputs": [
        {
          "output_type": "execute_result",
          "data": {
            "text/plain": [
              "count    465909.000000\n",
              "mean         91.294369\n",
              "std          12.809898\n",
              "min          83.000000\n",
              "25%          83.000000\n",
              "50%          84.000000\n",
              "75%          95.000000\n",
              "max         180.000000\n",
              "Name: mths_since_last_pymnt_d, dtype: float64"
            ]
          },
          "metadata": {},
          "execution_count": 31
        }
      ]
    },
    {
      "cell_type": "code",
      "source": [
        "df['mths_since_last_pymnt_d']"
      ],
      "metadata": {
        "colab": {
          "base_uri": "https://localhost:8080/"
        },
        "id": "CLhHAByY3MKN",
        "outputId": "aaf0a21c-5a16-43d0-bcb3-7a383dd51928"
      },
      "execution_count": 32,
      "outputs": [
        {
          "output_type": "execute_result",
          "data": {
            "text/plain": [
              "0          95.0\n",
              "1         116.0\n",
              "2         102.0\n",
              "3          95.0\n",
              "4          83.0\n",
              "          ...  \n",
              "466280     83.0\n",
              "466281     96.0\n",
              "466282     83.0\n",
              "466283     96.0\n",
              "466284     83.0\n",
              "Name: mths_since_last_pymnt_d, Length: 466285, dtype: float64"
            ]
          },
          "metadata": {},
          "execution_count": 32
        }
      ]
    },
    {
      "cell_type": "code",
      "source": [
        "df.drop(['last_pymnt_d'], axis=1, inplace=True)"
      ],
      "metadata": {
        "id": "zEMwnh2Z9E0a"
      },
      "execution_count": 33,
      "outputs": []
    },
    {
      "cell_type": "markdown",
      "source": [
        "## last_credit_pull_d"
      ],
      "metadata": {
        "id": "heug10cc2gvJ"
      }
    },
    {
      "cell_type": "code",
      "source": [
        "df['last_credit_pull_d']"
      ],
      "metadata": {
        "colab": {
          "base_uri": "https://localhost:8080/"
        },
        "id": "FoKtNiHL3Qdc",
        "outputId": "711b1378-9d60-4f14-bf4f-740305f3b9b4"
      },
      "execution_count": 34,
      "outputs": [
        {
          "output_type": "execute_result",
          "data": {
            "text/plain": [
              "0         Jan-16\n",
              "1         Sep-13\n",
              "2         Jan-16\n",
              "3         Jan-15\n",
              "4         Jan-16\n",
              "           ...  \n",
              "466280    Jan-16\n",
              "466281    Jan-16\n",
              "466282    Dec-15\n",
              "466283    Apr-15\n",
              "466284    Jan-16\n",
              "Name: last_credit_pull_d, Length: 466285, dtype: object"
            ]
          },
          "metadata": {},
          "execution_count": 34
        }
      ]
    },
    {
      "cell_type": "code",
      "source": [
        "df['last_credit_pull_d'] = pd.to_datetime(df['last_credit_pull_d'], format = '%b-%y')"
      ],
      "metadata": {
        "id": "JI9Gsp773UWq"
      },
      "execution_count": 35,
      "outputs": []
    },
    {
      "cell_type": "code",
      "source": [
        "df['mths_since_last_credit_pull_d'] = round(pd.to_numeric((pd.to_datetime('2022-12-3') \n",
        "- df['last_credit_pull_d'])/np.timedelta64(1, 'M') ))\n",
        "df['mths_since_last_credit_pull_d'].describe()"
      ],
      "metadata": {
        "colab": {
          "base_uri": "https://localhost:8080/"
        },
        "id": "g7iPX_x83efx",
        "outputId": "9e6d292e-acab-4543-bf03-dfaaaaff72ee"
      },
      "execution_count": 36,
      "outputs": [
        {
          "output_type": "execute_result",
          "data": {
            "text/plain": [
              "count    466243.000000\n",
              "mean         87.045588\n",
              "std           9.636423\n",
              "min          83.000000\n",
              "25%          83.000000\n",
              "50%          83.000000\n",
              "75%          85.000000\n",
              "max         187.000000\n",
              "Name: mths_since_last_credit_pull_d, dtype: float64"
            ]
          },
          "metadata": {},
          "execution_count": 36
        }
      ]
    },
    {
      "cell_type": "code",
      "source": [
        "df['mths_since_last_credit_pull_d']"
      ],
      "metadata": {
        "colab": {
          "base_uri": "https://localhost:8080/"
        },
        "id": "30j0RP2R3pbz",
        "outputId": "e914b620-6957-4411-84d6-766ffd267b4f"
      },
      "execution_count": 37,
      "outputs": [
        {
          "output_type": "execute_result",
          "data": {
            "text/plain": [
              "0          83.0\n",
              "1         111.0\n",
              "2          83.0\n",
              "3          95.0\n",
              "4          83.0\n",
              "          ...  \n",
              "466280     83.0\n",
              "466281     83.0\n",
              "466282     84.0\n",
              "466283     92.0\n",
              "466284     83.0\n",
              "Name: mths_since_last_credit_pull_d, Length: 466285, dtype: float64"
            ]
          },
          "metadata": {},
          "execution_count": 37
        }
      ]
    },
    {
      "cell_type": "code",
      "source": [
        "df.drop(['last_credit_pull_d'], axis=1, inplace=True)"
      ],
      "metadata": {
        "id": "kQ2YujDh9MRT"
      },
      "execution_count": 38,
      "outputs": []
    },
    {
      "cell_type": "markdown",
      "source": [
        "## Cek Outliers annual_inc"
      ],
      "metadata": {
        "id": "SfTr3JMuyKAp"
      }
    },
    {
      "cell_type": "code",
      "source": [
        "sns.boxplot(x='annual_inc', data=df)"
      ],
      "metadata": {
        "colab": {
          "base_uri": "https://localhost:8080/",
          "height": 297
        },
        "id": "mgNlcd7QwlUk",
        "outputId": "0cd5cc30-2060-4724-c94b-f53f691cc53a"
      },
      "execution_count": 39,
      "outputs": [
        {
          "output_type": "execute_result",
          "data": {
            "text/plain": [
              "<matplotlib.axes._subplots.AxesSubplot at 0x7ff1c7bbc0a0>"
            ]
          },
          "metadata": {},
          "execution_count": 39
        },
        {
          "output_type": "display_data",
          "data": {
            "text/plain": [
              "<Figure size 432x288 with 1 Axes>"
            ],
            "image/png": "[encoded data removed]"
          },
          "metadata": {
            "needs_background": "light"
          }
        }
      ]
    },
    {
      "cell_type": "markdown",
      "source": [
        "terdapat outliers pada variable annual_inc"
      ],
      "metadata": {
        "id": "BOaXwWRWwrAk"
      }
    },
    {
      "cell_type": "code",
      "source": [
        "print('Jumlah baris sebelum memfilter outlier:', len(df))\n",
        "\n",
        "Q1 = df['annual_inc'].quantile(0.25)\n",
        "Q3 = df['annual_inc'].quantile(0.75)\n",
        "\n",
        "IQR = Q3-Q1\n",
        "\n",
        "low_limit = Q1 - 1.5*IQR\n",
        "high_limit = Q3 + 1.5*IQR\n",
        "\n",
        "df = df[(df[\"annual_inc\"] >= low_limit) &\n",
        "        (df[\"annual_inc\"] <= high_limit)\n",
        "        ]\n",
        "\n",
        "print(f'Jumlah baris setelah memfilter outlier: {len(df)}')"
      ],
      "metadata": {
        "colab": {
          "base_uri": "https://localhost:8080/"
        },
        "id": "Ys3dBZYGw2mc",
        "outputId": "24d3cebe-144b-4324-8239-bc2a49ef3aa8"
      },
      "execution_count": 40,
      "outputs": [
        {
          "output_type": "stream",
          "name": "stdout",
          "text": [
            "Jumlah baris sebelum memfilter outlier: 466285\n",
            "Jumlah baris setelah memfilter outlier: 446382\n"
          ]
        }
      ]
    },
    {
      "cell_type": "code",
      "source": [
        "sns.boxplot(x='annual_inc', data=df)"
      ],
      "metadata": {
        "colab": {
          "base_uri": "https://localhost:8080/",
          "height": 297
        },
        "id": "GAaOVGxyxAtB",
        "outputId": "c9b6180f-1c59-4fd2-cbe8-821a9a6b9220"
      },
      "execution_count": 41,
      "outputs": [
        {
          "output_type": "execute_result",
          "data": {
            "text/plain": [
              "<matplotlib.axes._subplots.AxesSubplot at 0x7ff1c6bfd370>"
            ]
          },
          "metadata": {},
          "execution_count": 41
        },
        {
          "output_type": "display_data",
          "data": {
            "text/plain": [
              "<Figure size 432x288 with 1 Axes>"
            ],
            "image/png": "[encoded data removed]"
          },
          "metadata": {
            "needs_background": "light"
          }
        }
      ]
    },
    {
      "cell_type": "markdown",
      "source": [
        "## Cek outliers revol_bal"
      ],
      "metadata": {
        "id": "KJgGlu97yshr"
      }
    },
    {
      "cell_type": "code",
      "source": [
        "sns.boxplot(x='revol_bal', data=df)"
      ],
      "metadata": {
        "colab": {
          "base_uri": "https://localhost:8080/",
          "height": 297
        },
        "id": "LwgoFB2dx64C",
        "outputId": "467cc288-71d6-4002-f335-e4f401459d53"
      },
      "execution_count": 42,
      "outputs": [
        {
          "output_type": "execute_result",
          "data": {
            "text/plain": [
              "<matplotlib.axes._subplots.AxesSubplot at 0x7ff1c7d355b0>"
            ]
          },
          "metadata": {},
          "execution_count": 42
        },
        {
          "output_type": "display_data",
          "data": {
            "text/plain": [
              "<Figure size 432x288 with 1 Axes>"
            ],
            "image/png": "[encoded data removed]"
          },
          "metadata": {
            "needs_background": "light"
          }
        }
      ]
    },
    {
      "cell_type": "code",
      "source": [
        "print('Jumlah baris sebelum memfilter outlier:', len(df))\n",
        "\n",
        "Q1 = df['revol_bal'].quantile(0.25)\n",
        "Q3 = df['revol_bal'].quantile(0.75)\n",
        "\n",
        "IQR = Q3-Q1\n",
        "\n",
        "low_limit = Q1 - 1.5*IQR\n",
        "high_limit = Q3 + 1.5*IQR\n",
        "\n",
        "df = df[(df[\"revol_bal\"] >= low_limit) &\n",
        "        (df[\"revol_bal\"] <= high_limit)\n",
        "        ]\n",
        "\n",
        "print(f'Jumlah baris setelah memfilter outlier: {len(df)}')\n",
        "\n",
        "sns.boxplot(x='revol_bal', data=df)"
      ],
      "metadata": {
        "colab": {
          "base_uri": "https://localhost:8080/",
          "height": 332
        },
        "id": "SL5m0TKDyhKB",
        "outputId": "22bbdab8-4adc-4d39-c3d1-74feb8093c10"
      },
      "execution_count": 43,
      "outputs": [
        {
          "output_type": "stream",
          "name": "stdout",
          "text": [
            "Jumlah baris sebelum memfilter outlier: 446382\n",
            "Jumlah baris setelah memfilter outlier: 426354\n"
          ]
        },
        {
          "output_type": "execute_result",
          "data": {
            "text/plain": [
              "<matplotlib.axes._subplots.AxesSubplot at 0x7ff1c7d54340>"
            ]
          },
          "metadata": {},
          "execution_count": 43
        },
        {
          "output_type": "display_data",
          "data": {
            "text/plain": [
              "<Figure size 432x288 with 1 Axes>"
            ],
            "image/png": "[encoded data removed]"
          },
          "metadata": {
            "needs_background": "light"
          }
        }
      ]
    },
    {
      "cell_type": "markdown",
      "source": [
        "## Cek Outliers total_pymnt"
      ],
      "metadata": {
        "id": "UzeqwNajzf3E"
      }
    },
    {
      "cell_type": "code",
      "source": [
        "sns.boxplot(x='total_pymnt', data=df)"
      ],
      "metadata": {
        "colab": {
          "base_uri": "https://localhost:8080/",
          "height": 297
        },
        "id": "AesCgW8oy2vZ",
        "outputId": "fea69652-7a88-4fa0-b6a8-dded19bc036f"
      },
      "execution_count": 44,
      "outputs": [
        {
          "output_type": "execute_result",
          "data": {
            "text/plain": [
              "<matplotlib.axes._subplots.AxesSubplot at 0x7ff1c7dee820>"
            ]
          },
          "metadata": {},
          "execution_count": 44
        },
        {
          "output_type": "display_data",
          "data": {
            "text/plain": [
              "<Figure size 432x288 with 1 Axes>"
            ],
            "image/png": "[encoded data removed]"
          },
          "metadata": {
            "needs_background": "light"
          }
        }
      ]
    },
    {
      "cell_type": "code",
      "source": [
        "print('Jumlah baris sebelum memfilter outlier:', len(df))\n",
        "\n",
        "Q1 = df['total_pymnt'].quantile(0.25)\n",
        "Q3 = df['total_pymnt'].quantile(0.75)\n",
        "\n",
        "IQR = Q3-Q1\n",
        "\n",
        "low_limit = Q1 - 1.5*IQR\n",
        "high_limit = Q3 + 1.5*IQR\n",
        "\n",
        "df = df[(df[\"total_pymnt\"] >= low_limit) &\n",
        "        (df[\"total_pymnt\"] <= high_limit)\n",
        "        ]\n",
        "\n",
        "print(f'Jumlah baris setelah memfilter outlier: {len(df)}')\n",
        "\n",
        "sns.boxplot(x='total_pymnt', data=df)"
      ],
      "metadata": {
        "colab": {
          "base_uri": "https://localhost:8080/",
          "height": 332
        },
        "id": "Zy-V_AEDy_a0",
        "outputId": "986d77aa-c38d-4290-ef95-cacebb320fdf"
      },
      "execution_count": 45,
      "outputs": [
        {
          "output_type": "stream",
          "name": "stdout",
          "text": [
            "Jumlah baris sebelum memfilter outlier: 426354\n",
            "Jumlah baris setelah memfilter outlier: 409400\n"
          ]
        },
        {
          "output_type": "execute_result",
          "data": {
            "text/plain": [
              "<matplotlib.axes._subplots.AxesSubplot at 0x7ff1c7e9c8b0>"
            ]
          },
          "metadata": {},
          "execution_count": 45
        },
        {
          "output_type": "display_data",
          "data": {
            "text/plain": [
              "<Figure size 432x288 with 1 Axes>"
            ],
            "image/png": "[encoded data removed]"
          },
          "metadata": {
            "needs_background": "light"
          }
        }
      ]
    },
    {
      "cell_type": "markdown",
      "source": [
        "## Cek Outliers total_rec_int"
      ],
      "metadata": {
        "id": "6hlyw-oqzy3u"
      }
    },
    {
      "cell_type": "code",
      "source": [
        "sns.boxplot(x='total_rec_int', data=df)"
      ],
      "metadata": {
        "colab": {
          "base_uri": "https://localhost:8080/",
          "height": 297
        },
        "outputId": "ee224076-f0ff-445d-edcb-6d1a0a0f430c",
        "id": "bt5SGI7Czy3u"
      },
      "execution_count": 46,
      "outputs": [
        {
          "output_type": "execute_result",
          "data": {
            "text/plain": [
              "<matplotlib.axes._subplots.AxesSubplot at 0x7ff1c80793d0>"
            ]
          },
          "metadata": {},
          "execution_count": 46
        },
        {
          "output_type": "display_data",
          "data": {
            "text/plain": [
              "<Figure size 432x288 with 1 Axes>"
            ],
            "image/png": "[encoded data removed]"
          },
          "metadata": {
            "needs_background": "light"
          }
        }
      ]
    },
    {
      "cell_type": "code",
      "source": [
        "print('Jumlah baris sebelum memfilter outlier:', len(df))\n",
        "\n",
        "Q1 = df['total_rec_int'].quantile(0.25)\n",
        "Q3 = df['total_rec_int'].quantile(0.75)\n",
        "\n",
        "IQR = Q3-Q1\n",
        "\n",
        "low_limit = Q1 - 1.5*IQR\n",
        "high_limit = Q3 + 1.5*IQR\n",
        "\n",
        "df = df[(df[\"total_rec_int\"] >= low_limit) &\n",
        "        (df[\"total_rec_int\"] <= high_limit)\n",
        "        ]\n",
        "\n",
        "print(f'Jumlah baris setelah memfilter outlier: {len(df)}')\n",
        "\n",
        "sns.boxplot(x='total_rec_int', data=df)"
      ],
      "metadata": {
        "colab": {
          "base_uri": "https://localhost:8080/",
          "height": 332
        },
        "outputId": "d0d69470-3a96-45fb-93dc-aa1abfc301e5",
        "id": "HX5udiR2zy3v"
      },
      "execution_count": 47,
      "outputs": [
        {
          "output_type": "stream",
          "name": "stdout",
          "text": [
            "Jumlah baris sebelum memfilter outlier: 409400\n",
            "Jumlah baris setelah memfilter outlier: 383761\n"
          ]
        },
        {
          "output_type": "execute_result",
          "data": {
            "text/plain": [
              "<matplotlib.axes._subplots.AxesSubplot at 0x7ff1c71990d0>"
            ]
          },
          "metadata": {},
          "execution_count": 47
        },
        {
          "output_type": "display_data",
          "data": {
            "text/plain": [
              "<Figure size 432x288 with 1 Axes>"
            ],
            "image/png": "[encoded data removed]"
          },
          "metadata": {
            "needs_background": "light"
          }
        }
      ]
    },
    {
      "cell_type": "markdown",
      "source": [
        "## Cek Outliers tot_cur_bal"
      ],
      "metadata": {
        "id": "GaeaTAH70WBn"
      }
    },
    {
      "cell_type": "code",
      "source": [
        "sns.boxplot(x='tot_cur_bal', data=df)"
      ],
      "metadata": {
        "colab": {
          "base_uri": "https://localhost:8080/",
          "height": 297
        },
        "outputId": "928fc097-f427-41e6-e619-cd2f0b48a4dc",
        "id": "BgYRH4K10WBo"
      },
      "execution_count": 48,
      "outputs": [
        {
          "output_type": "execute_result",
          "data": {
            "text/plain": [
              "<matplotlib.axes._subplots.AxesSubplot at 0x7ff1c6f75ca0>"
            ]
          },
          "metadata": {},
          "execution_count": 48
        },
        {
          "output_type": "display_data",
          "data": {
            "text/plain": [
              "<Figure size 432x288 with 1 Axes>"
            ],
            "image/png": "[encoded data removed]"
          },
          "metadata": {
            "needs_background": "light"
          }
        }
      ]
    },
    {
      "cell_type": "code",
      "source": [
        "print('Jumlah baris sebelum memfilter outlier:', len(df))\n",
        "\n",
        "Q1 = df['tot_cur_bal'].quantile(0.25)\n",
        "Q3 = df['tot_cur_bal'].quantile(0.75)\n",
        "\n",
        "IQR = Q3-Q1\n",
        "\n",
        "low_limit = Q1 - 1.5*IQR\n",
        "high_limit = Q3 + 1.5*IQR\n",
        "\n",
        "df = df[(df[\"tot_cur_bal\"] >= low_limit) &\n",
        "        (df[\"tot_cur_bal\"] <= high_limit)\n",
        "        ]\n",
        "\n",
        "print(f'Jumlah baris setelah memfilter outlier: {len(df)}')\n",
        "\n",
        "sns.boxplot(x='tot_cur_bal', data=df)"
      ],
      "metadata": {
        "colab": {
          "base_uri": "https://localhost:8080/",
          "height": 332
        },
        "outputId": "aaa27967-f83d-4c24-fc30-317d0d260bd7",
        "id": "bfGCHn4-0WBo"
      },
      "execution_count": 49,
      "outputs": [
        {
          "output_type": "stream",
          "name": "stdout",
          "text": [
            "Jumlah baris sebelum memfilter outlier: 383761\n",
            "Jumlah baris setelah memfilter outlier: 317038\n"
          ]
        },
        {
          "output_type": "execute_result",
          "data": {
            "text/plain": [
              "<matplotlib.axes._subplots.AxesSubplot at 0x7ff1c6b94220>"
            ]
          },
          "metadata": {},
          "execution_count": 49
        },
        {
          "output_type": "display_data",
          "data": {
            "text/plain": [
              "<Figure size 432x288 with 1 Axes>"
            ],
            "image/png": "[encoded data removed]"
          },
          "metadata": {
            "needs_background": "light"
          }
        }
      ]
    },
    {
      "cell_type": "markdown",
      "source": [
        "## Cek Outliers total_rev_hi_lim"
      ],
      "metadata": {
        "id": "r4tn8f2T1xBQ"
      }
    },
    {
      "cell_type": "code",
      "source": [
        "sns.boxplot(x='total_rev_hi_lim', data=df)"
      ],
      "metadata": {
        "colab": {
          "base_uri": "https://localhost:8080/",
          "height": 297
        },
        "outputId": "8f0a4d2c-2cfe-4e8b-b3ac-3b2f6a4c3e70",
        "id": "uZQx_5zR1xBR"
      },
      "execution_count": 50,
      "outputs": [
        {
          "output_type": "execute_result",
          "data": {
            "text/plain": [
              "<matplotlib.axes._subplots.AxesSubplot at 0x7ff1c6b30dc0>"
            ]
          },
          "metadata": {},
          "execution_count": 50
        },
        {
          "output_type": "display_data",
          "data": {
            "text/plain": [
              "<Figure size 432x288 with 1 Axes>"
            ],
            "image/png": "[encoded data removed]"
          },
          "metadata": {
            "needs_background": "light"
          }
        }
      ]
    },
    {
      "cell_type": "code",
      "source": [
        "print('Jumlah baris sebelum memfilter outlier:', len(df))\n",
        "\n",
        "Q1 = df['total_rev_hi_lim'].quantile(0.25)\n",
        "Q3 = df['total_rev_hi_lim'].quantile(0.75)\n",
        "\n",
        "IQR = Q3-Q1\n",
        "\n",
        "low_limit = Q1 - 1.5*IQR\n",
        "high_limit = Q3 + 1.5*IQR\n",
        "\n",
        "df = df[(df[\"total_rev_hi_lim\"] >= low_limit) &\n",
        "        (df[\"total_rev_hi_lim\"] <= high_limit)\n",
        "        ]\n",
        "\n",
        "print(f'Jumlah baris setelah memfilter outlier: {len(df)}')\n",
        "\n",
        "sns.boxplot(x='total_rev_hi_lim', data=df)"
      ],
      "metadata": {
        "colab": {
          "base_uri": "https://localhost:8080/",
          "height": 332
        },
        "outputId": "278f1689-5dae-4f44-cdb5-b30ce5962be8",
        "id": "73LagJn-1xBR"
      },
      "execution_count": 51,
      "outputs": [
        {
          "output_type": "stream",
          "name": "stdout",
          "text": [
            "Jumlah baris sebelum memfilter outlier: 317038\n",
            "Jumlah baris setelah memfilter outlier: 303593\n"
          ]
        },
        {
          "output_type": "execute_result",
          "data": {
            "text/plain": [
              "<matplotlib.axes._subplots.AxesSubplot at 0x7ff1c697cb20>"
            ]
          },
          "metadata": {},
          "execution_count": 51
        },
        {
          "output_type": "display_data",
          "data": {
            "text/plain": [
              "<Figure size 432x288 with 1 Axes>"
            ],
            "image/png": "[encoded data removed]"
          },
          "metadata": {
            "needs_background": "light"
          }
        }
      ]
    },
    {
      "cell_type": "markdown",
      "source": [
        "# Feature Selection"
      ],
      "metadata": {
        "id": "nsmOs7gJsBI-"
      }
    },
    {
      "cell_type": "code",
      "source": [
        "# Mengecek data NULL\n",
        "\n",
        "df.isnull().sum()"
      ],
      "metadata": {
        "colab": {
          "base_uri": "https://localhost:8080/"
        },
        "id": "v_yqVtbkslBZ",
        "outputId": "e59c5a87-e7b4-410b-c28c-e95e25a168cc"
      },
      "execution_count": 52,
      "outputs": [
        {
          "output_type": "execute_result",
          "data": {
            "text/plain": [
              "Unnamed: 0                         0\n",
              "id                                 0\n",
              "member_id                          0\n",
              "loan_amnt                          0\n",
              "funded_amnt                        0\n",
              "                                ... \n",
              "good_bad                           0\n",
              "mths_since_issue_d                 0\n",
              "mths_since_earliest_cr_line        0\n",
              "mths_since_last_pymnt_d          233\n",
              "mths_since_last_credit_pull_d     30\n",
              "Length: 75, dtype: int64"
            ]
          },
          "metadata": {},
          "execution_count": 52
        }
      ]
    },
    {
      "cell_type": "code",
      "source": [
        "df.info()"
      ],
      "metadata": {
        "colab": {
          "base_uri": "https://localhost:8080/"
        },
        "id": "lVOcnjijtLqn",
        "outputId": "5f58bf43-6a0d-4498-e6df-e4c458ec2fa5"
      },
      "execution_count": 53,
      "outputs": [
        {
          "output_type": "stream",
          "name": "stdout",
          "text": [
            "<class 'pandas.core.frame.DataFrame'>\n",
            "Int64Index: 303593 entries, 42535 to 466284\n",
            "Data columns (total 75 columns):\n",
            " #   Column                         Non-Null Count   Dtype  \n",
            "---  ------                         --------------   -----  \n",
            " 0   Unnamed: 0                     303593 non-null  int64  \n",
            " 1   id                             303593 non-null  int64  \n",
            " 2   member_id                      303593 non-null  int64  \n",
            " 3   loan_amnt                      303593 non-null  int64  \n",
            " 4   funded_amnt                    303593 non-null  int64  \n",
            " 5   funded_amnt_inv                303593 non-null  float64\n",
            " 6   term                           303593 non-null  int64  \n",
            " 7   int_rate                       303593 non-null  float64\n",
            " 8   installment                    303593 non-null  float64\n",
            " 9   grade                          303593 non-null  object \n",
            " 10  sub_grade                      303593 non-null  object \n",
            " 11  emp_title                      284674 non-null  object \n",
            " 12  emp_length                     287401 non-null  float64\n",
            " 13  home_ownership                 303593 non-null  object \n",
            " 14  annual_inc                     303593 non-null  float64\n",
            " 15  verification_status            303593 non-null  object \n",
            " 16  pymnt_plan                     303593 non-null  object \n",
            " 17  url                            303593 non-null  object \n",
            " 18  desc                           58771 non-null   object \n",
            " 19  purpose                        303593 non-null  object \n",
            " 20  title                          303588 non-null  object \n",
            " 21  zip_code                       303593 non-null  object \n",
            " 22  addr_state                     303593 non-null  object \n",
            " 23  dti                            303593 non-null  float64\n",
            " 24  delinq_2yrs                    303593 non-null  float64\n",
            " 25  inq_last_6mths                 303593 non-null  float64\n",
            " 26  mths_since_last_delinq         147922 non-null  float64\n",
            " 27  mths_since_last_record         51481 non-null   float64\n",
            " 28  open_acc                       303593 non-null  float64\n",
            " 29  pub_rec                        303593 non-null  float64\n",
            " 30  revol_bal                      303593 non-null  int64  \n",
            " 31  revol_util                     303439 non-null  float64\n",
            " 32  total_acc                      303593 non-null  float64\n",
            " 33  initial_list_status            303593 non-null  object \n",
            " 34  out_prncp                      303593 non-null  float64\n",
            " 35  out_prncp_inv                  303593 non-null  float64\n",
            " 36  total_pymnt                    303593 non-null  float64\n",
            " 37  total_pymnt_inv                303593 non-null  float64\n",
            " 38  total_rec_prncp                303593 non-null  float64\n",
            " 39  total_rec_int                  303593 non-null  float64\n",
            " 40  total_rec_late_fee             303593 non-null  float64\n",
            " 41  recoveries                     303593 non-null  float64\n",
            " 42  collection_recovery_fee        303593 non-null  float64\n",
            " 43  last_pymnt_amnt                303593 non-null  float64\n",
            " 44  next_pymnt_d                   174707 non-null  object \n",
            " 45  collections_12_mths_ex_med     303593 non-null  float64\n",
            " 46  mths_since_last_major_derog    80267 non-null   float64\n",
            " 47  policy_code                    303593 non-null  int64  \n",
            " 48  application_type               303593 non-null  object \n",
            " 49  annual_inc_joint               0 non-null       float64\n",
            " 50  dti_joint                      0 non-null       float64\n",
            " 51  verification_status_joint      0 non-null       float64\n",
            " 52  acc_now_delinq                 303593 non-null  float64\n",
            " 53  tot_coll_amt                   303593 non-null  float64\n",
            " 54  tot_cur_bal                    303593 non-null  float64\n",
            " 55  open_acc_6m                    0 non-null       float64\n",
            " 56  open_il_6m                     0 non-null       float64\n",
            " 57  open_il_12m                    0 non-null       float64\n",
            " 58  open_il_24m                    0 non-null       float64\n",
            " 59  mths_since_rcnt_il             0 non-null       float64\n",
            " 60  total_bal_il                   0 non-null       float64\n",
            " 61  il_util                        0 non-null       float64\n",
            " 62  open_rv_12m                    0 non-null       float64\n",
            " 63  open_rv_24m                    0 non-null       float64\n",
            " 64  max_bal_bc                     0 non-null       float64\n",
            " 65  all_util                       0 non-null       float64\n",
            " 66  total_rev_hi_lim               303593 non-null  float64\n",
            " 67  inq_fi                         0 non-null       float64\n",
            " 68  total_cu_tl                    0 non-null       float64\n",
            " 69  inq_last_12m                   0 non-null       float64\n",
            " 70  good_bad                       303593 non-null  int64  \n",
            " 71  mths_since_issue_d             303593 non-null  float64\n",
            " 72  mths_since_earliest_cr_line    303593 non-null  float64\n",
            " 73  mths_since_last_pymnt_d        303360 non-null  float64\n",
            " 74  mths_since_last_credit_pull_d  303563 non-null  float64\n",
            "dtypes: float64(51), int64(9), object(15)\n",
            "memory usage: 176.0+ MB\n"
          ]
        }
      ]
    },
    {
      "cell_type": "code",
      "source": [
        "# menghapus kolom dengan NULL banyak\n",
        "\n",
        "df.drop(['annual_inc_joint', 'dti_joint', 'verification_status_joint', 'open_acc_6m','open_il_6m',\n",
        "         'open_il_12m', 'open_il_24m', 'mths_since_rcnt_il', 'total_bal_il', 'il_util', 'open_rv_12m', \n",
        "         'open_rv_24m', 'max_bal_bc', 'all_util', 'inq_fi', 'total_cu_tl', 'inq_last_12m', \n",
        "         'mths_since_last_delinq', 'mths_since_last_record', 'mths_since_last_major_derog']\n",
        "        ,axis=1, inplace=True)"
      ],
      "metadata": {
        "id": "vCL1bTJIs42p"
      },
      "execution_count": 54,
      "outputs": []
    },
    {
      "cell_type": "code",
      "source": [
        "# menghapus identitas, high cardinality, memiliki 1  nilai unik, free text, dan yang dominan\n",
        "df.drop(['Unnamed: 0', 'id', 'member_id', 'sub_grade','url', 'desc', 'emp_title', \n",
        "         'title', 'zip_code', 'addr_state', 'pymnt_plan', 'next_pymnt_d', 'recoveries', \n",
        "         'collection_recovery_fee', 'total_rec_prncp', \n",
        "         'total_rec_late_fee', 'policy_code', 'application_type'], axis=1, inplace=True)"
      ],
      "metadata": {
        "id": "bhFwdHpcucdw"
      },
      "execution_count": 55,
      "outputs": []
    },
    {
      "cell_type": "code",
      "source": [
        "df.info()"
      ],
      "metadata": {
        "colab": {
          "base_uri": "https://localhost:8080/"
        },
        "id": "ZiEGoa2luMGg",
        "outputId": "bb7cb3d5-dfde-4dcb-b6a4-53974c433017"
      },
      "execution_count": 56,
      "outputs": [
        {
          "output_type": "stream",
          "name": "stdout",
          "text": [
            "<class 'pandas.core.frame.DataFrame'>\n",
            "Int64Index: 303593 entries, 42535 to 466284\n",
            "Data columns (total 37 columns):\n",
            " #   Column                         Non-Null Count   Dtype  \n",
            "---  ------                         --------------   -----  \n",
            " 0   loan_amnt                      303593 non-null  int64  \n",
            " 1   funded_amnt                    303593 non-null  int64  \n",
            " 2   funded_amnt_inv                303593 non-null  float64\n",
            " 3   term                           303593 non-null  int64  \n",
            " 4   int_rate                       303593 non-null  float64\n",
            " 5   installment                    303593 non-null  float64\n",
            " 6   grade                          303593 non-null  object \n",
            " 7   emp_length                     287401 non-null  float64\n",
            " 8   home_ownership                 303593 non-null  object \n",
            " 9   annual_inc                     303593 non-null  float64\n",
            " 10  verification_status            303593 non-null  object \n",
            " 11  purpose                        303593 non-null  object \n",
            " 12  dti                            303593 non-null  float64\n",
            " 13  delinq_2yrs                    303593 non-null  float64\n",
            " 14  inq_last_6mths                 303593 non-null  float64\n",
            " 15  open_acc                       303593 non-null  float64\n",
            " 16  pub_rec                        303593 non-null  float64\n",
            " 17  revol_bal                      303593 non-null  int64  \n",
            " 18  revol_util                     303439 non-null  float64\n",
            " 19  total_acc                      303593 non-null  float64\n",
            " 20  initial_list_status            303593 non-null  object \n",
            " 21  out_prncp                      303593 non-null  float64\n",
            " 22  out_prncp_inv                  303593 non-null  float64\n",
            " 23  total_pymnt                    303593 non-null  float64\n",
            " 24  total_pymnt_inv                303593 non-null  float64\n",
            " 25  total_rec_int                  303593 non-null  float64\n",
            " 26  last_pymnt_amnt                303593 non-null  float64\n",
            " 27  collections_12_mths_ex_med     303593 non-null  float64\n",
            " 28  acc_now_delinq                 303593 non-null  float64\n",
            " 29  tot_coll_amt                   303593 non-null  float64\n",
            " 30  tot_cur_bal                    303593 non-null  float64\n",
            " 31  total_rev_hi_lim               303593 non-null  float64\n",
            " 32  good_bad                       303593 non-null  int64  \n",
            " 33  mths_since_issue_d             303593 non-null  float64\n",
            " 34  mths_since_earliest_cr_line    303593 non-null  float64\n",
            " 35  mths_since_last_pymnt_d        303360 non-null  float64\n",
            " 36  mths_since_last_credit_pull_d  303563 non-null  float64\n",
            "dtypes: float64(27), int64(5), object(5)\n",
            "memory usage: 88.0+ MB\n"
          ]
        }
      ]
    },
    {
      "cell_type": "markdown",
      "source": [
        "## Mengecek Korelasi"
      ],
      "metadata": {
        "id": "Bejtsj1Jcv6U"
      }
    },
    {
      "cell_type": "code",
      "source": [
        "df_num = df.select_dtypes(include = 'number').copy()\n",
        "df_num"
      ],
      "metadata": {
        "colab": {
          "base_uri": "https://localhost:8080/",
          "height": 488
        },
        "id": "-TeMoDkfc3sc",
        "outputId": "b0a2481f-7540-4d43-a0ce-5757d7c968e6"
      },
      "execution_count": 57,
      "outputs": [
        {
          "output_type": "execute_result",
          "data": {
            "text/plain": [
              "        loan_amnt  funded_amnt  funded_amnt_inv  term  int_rate  installment  \\\n",
              "42535       27050        27050          27050.0    36     10.99       885.46   \n",
              "42536        9750         9750           9750.0    36     13.98       333.14   \n",
              "42537       12000        12000          12000.0    36      6.62       368.45   \n",
              "42538       12000        12000          12000.0    36     13.53       407.40   \n",
              "42539       15000        15000          15000.0    36      8.90       476.30   \n",
              "...           ...          ...              ...   ...       ...          ...   \n",
              "466278      10000        10000          10000.0    36     18.25       362.78   \n",
              "466279      15000        15000          15000.0    36     13.53       509.25   \n",
              "466280      18400        18400          18400.0    60     14.47       432.64   \n",
              "466281      22000        22000          22000.0    60     19.97       582.50   \n",
              "466284      10000        10000           9975.0    36     19.20       367.58   \n",
              "\n",
              "        emp_length  annual_inc    dti  delinq_2yrs  ...  \\\n",
              "42535         10.0     55000.0  22.87          0.0  ...   \n",
              "42536          1.0     26000.0  25.12          0.0  ...   \n",
              "42537         10.0    105000.0  14.05          0.0  ...   \n",
              "42538         10.0     40000.0  16.94          0.0  ...   \n",
              "42539          2.0     63000.0  16.51          0.0  ...   \n",
              "...            ...         ...    ...          ...  ...   \n",
              "466278        10.0     42000.0  11.57          0.0  ...   \n",
              "466279         4.0     66000.0  16.22          0.0  ...   \n",
              "466280         4.0    110000.0  19.85          0.0  ...   \n",
              "466281        10.0     78000.0  18.45          0.0  ...   \n",
              "466284        10.0     46000.0  22.78          1.0  ...   \n",
              "\n",
              "        collections_12_mths_ex_med  acc_now_delinq  tot_coll_amt  tot_cur_bal  \\\n",
              "42535                          0.0             0.0           0.0     114834.0   \n",
              "42536                          0.0             0.0           0.0      14123.0   \n",
              "42537                          0.0             0.0           0.0     267646.0   \n",
              "42538                          0.0             0.0       15386.0      13605.0   \n",
              "42539                          0.0             0.0        1514.0     272492.0   \n",
              "...                            ...             ...           ...          ...   \n",
              "466278                         0.0             0.0           0.0      10170.0   \n",
              "466279                         0.0             0.0           0.0      20140.0   \n",
              "466280                         0.0             0.0           0.0     294998.0   \n",
              "466281                         0.0             0.0           0.0     221830.0   \n",
              "466284                         0.0             0.0           0.0      57477.0   \n",
              "\n",
              "        total_rev_hi_lim  good_bad  mths_since_issue_d  \\\n",
              "42535            59900.0         1               108.0   \n",
              "42536            15100.0         1               108.0   \n",
              "42537            61100.0         1               108.0   \n",
              "42538             8100.0         1               108.0   \n",
              "42539            15400.0         1               108.0   \n",
              "...                  ...       ...                 ...   \n",
              "466278           11100.0         1               107.0   \n",
              "466279           17600.0         1               107.0   \n",
              "466280           29900.0         1               107.0   \n",
              "466281           39400.0         0               107.0   \n",
              "466284           16000.0         1               107.0   \n",
              "\n",
              "        mths_since_earliest_cr_line  mths_since_last_pymnt_d  \\\n",
              "42535                         434.0                     83.0   \n",
              "42536                         191.0                     83.0   \n",
              "42537                         345.0                     83.0   \n",
              "42538                         290.0                     87.0   \n",
              "42539                         297.0                     83.0   \n",
              "...                             ...                      ...   \n",
              "466278                        246.0                     87.0   \n",
              "466279                        280.0                     83.0   \n",
              "466280                        236.0                     83.0   \n",
              "466281                        306.0                     96.0   \n",
              "466284                        274.0                     83.0   \n",
              "\n",
              "        mths_since_last_credit_pull_d  \n",
              "42535                            84.0  \n",
              "42536                            83.0  \n",
              "42537                            83.0  \n",
              "42538                            83.0  \n",
              "42539                            83.0  \n",
              "...                               ...  \n",
              "466278                           83.0  \n",
              "466279                           83.0  \n",
              "466280                           83.0  \n",
              "466281                           83.0  \n",
              "466284                           83.0  \n",
              "\n",
              "[303593 rows x 32 columns]"
            ],
            "text/html": [
              "\n",
              "  <div id=\"df-5223b636-a8a7-4c5f-b3b3-4a801afada50\">\n",
              "    <div class=\"colab-df-container\">\n",
              "      <div>\n",
              "<style scoped>\n",
              "    .dataframe tbody tr th:only-of-type {\n",
              "        vertical-align: middle;\n",
              "    }\n",
              "\n",
              "    .dataframe tbody tr th {\n",
              "        vertical-align: top;\n",
              "    }\n",
              "\n",
              "    .dataframe thead th {\n",
              "        text-align: right;\n",
              "    }\n",
              "</style>\n",
              "<table border=\"1\" class=\"dataframe\">\n",
              "  <thead>\n",
              "    <tr style=\"text-align: right;\">\n",
              "      <th></th>\n",
              "      <th>loan_amnt</th>\n",
              "      <th>funded_amnt</th>\n",
              "      <th>funded_amnt_inv</th>\n",
              "      <th>term</th>\n",
              "      <th>int_rate</th>\n",
              "      <th>installment</th>\n",
              "      <th>emp_length</th>\n",
              "      <th>annual_inc</th>\n",
              "      <th>dti</th>\n",
              "      <th>delinq_2yrs</th>\n",
              "      <th>...</th>\n",
              "      <th>collections_12_mths_ex_med</th>\n",
              "      <th>acc_now_delinq</th>\n",
              "      <th>tot_coll_amt</th>\n",
              "      <th>tot_cur_bal</th>\n",
              "      <th>total_rev_hi_lim</th>\n",
              "      <th>good_bad</th>\n",
              "      <th>mths_since_issue_d</th>\n",
              "      <th>mths_since_earliest_cr_line</th>\n",
              "      <th>mths_since_last_pymnt_d</th>\n",
              "      <th>mths_since_last_credit_pull_d</th>\n",
              "    </tr>\n",
              "  </thead>\n",
              "  <tbody>\n",
              "    <tr>\n",
              "      <th>42535</th>\n",
              "      <td>27050</td>\n",
              "      <td>27050</td>\n",
              "      <td>27050.0</td>\n",
              "      <td>36</td>\n",
              "      <td>10.99</td>\n",
              "      <td>885.46</td>\n",
              "      <td>10.0</td>\n",
              "      <td>55000.0</td>\n",
              "      <td>22.87</td>\n",
              "      <td>0.0</td>\n",
              "      <td>...</td>\n",
              "      <td>0.0</td>\n",
              "      <td>0.0</td>\n",
              "      <td>0.0</td>\n",
              "      <td>114834.0</td>\n",
              "      <td>59900.0</td>\n",
              "      <td>1</td>\n",
              "      <td>108.0</td>\n",
              "      <td>434.0</td>\n",
              "      <td>83.0</td>\n",
              "      <td>84.0</td>\n",
              "    </tr>\n",
              "    <tr>\n",
              "      <th>42536</th>\n",
              "      <td>9750</td>\n",
              "      <td>9750</td>\n",
              "      <td>9750.0</td>\n",
              "      <td>36</td>\n",
              "      <td>13.98</td>\n",
              "      <td>333.14</td>\n",
              "      <td>1.0</td>\n",
              "      <td>26000.0</td>\n",
              "      <td>25.12</td>\n",
              "      <td>0.0</td>\n",
              "      <td>...</td>\n",
              "      <td>0.0</td>\n",
              "      <td>0.0</td>\n",
              "      <td>0.0</td>\n",
              "      <td>14123.0</td>\n",
              "      <td>15100.0</td>\n",
              "      <td>1</td>\n",
              "      <td>108.0</td>\n",
              "      <td>191.0</td>\n",
              "      <td>83.0</td>\n",
              "      <td>83.0</td>\n",
              "    </tr>\n",
              "    <tr>\n",
              "      <th>42537</th>\n",
              "      <td>12000</td>\n",
              "      <td>12000</td>\n",
              "      <td>12000.0</td>\n",
              "      <td>36</td>\n",
              "      <td>6.62</td>\n",
              "      <td>368.45</td>\n",
              "      <td>10.0</td>\n",
              "      <td>105000.0</td>\n",
              "      <td>14.05</td>\n",
              "      <td>0.0</td>\n",
              "      <td>...</td>\n",
              "      <td>0.0</td>\n",
              "      <td>0.0</td>\n",
              "      <td>0.0</td>\n",
              "      <td>267646.0</td>\n",
              "      <td>61100.0</td>\n",
              "      <td>1</td>\n",
              "      <td>108.0</td>\n",
              "      <td>345.0</td>\n",
              "      <td>83.0</td>\n",
              "      <td>83.0</td>\n",
              "    </tr>\n",
              "    <tr>\n",
              "      <th>42538</th>\n",
              "      <td>12000</td>\n",
              "      <td>12000</td>\n",
              "      <td>12000.0</td>\n",
              "      <td>36</td>\n",
              "      <td>13.53</td>\n",
              "      <td>407.40</td>\n",
              "      <td>10.0</td>\n",
              "      <td>40000.0</td>\n",
              "      <td>16.94</td>\n",
              "      <td>0.0</td>\n",
              "      <td>...</td>\n",
              "      <td>0.0</td>\n",
              "      <td>0.0</td>\n",
              "      <td>15386.0</td>\n",
              "      <td>13605.0</td>\n",
              "      <td>8100.0</td>\n",
              "      <td>1</td>\n",
              "      <td>108.0</td>\n",
              "      <td>290.0</td>\n",
              "      <td>87.0</td>\n",
              "      <td>83.0</td>\n",
              "    </tr>\n",
              "    <tr>\n",
              "      <th>42539</th>\n",
              "      <td>15000</td>\n",
              "      <td>15000</td>\n",
              "      <td>15000.0</td>\n",
              "      <td>36</td>\n",
              "      <td>8.90</td>\n",
              "      <td>476.30</td>\n",
              "      <td>2.0</td>\n",
              "      <td>63000.0</td>\n",
              "      <td>16.51</td>\n",
              "      <td>0.0</td>\n",
              "      <td>...</td>\n",
              "      <td>0.0</td>\n",
              "      <td>0.0</td>\n",
              "      <td>1514.0</td>\n",
              "      <td>272492.0</td>\n",
              "      <td>15400.0</td>\n",
              "      <td>1</td>\n",
              "      <td>108.0</td>\n",
              "      <td>297.0</td>\n",
              "      <td>83.0</td>\n",
              "      <td>83.0</td>\n",
              "    </tr>\n",
              "    <tr>\n",
              "      <th>...</th>\n",
              "      <td>...</td>\n",
              "      <td>...</td>\n",
              "      <td>...</td>\n",
              "      <td>...</td>\n",
              "      <td>...</td>\n",
              "      <td>...</td>\n",
              "      <td>...</td>\n",
              "      <td>...</td>\n",
              "      <td>...</td>\n",
              "      <td>...</td>\n",
              "      <td>...</td>\n",
              "      <td>...</td>\n",
              "      <td>...</td>\n",
              "      <td>...</td>\n",
              "      <td>...</td>\n",
              "      <td>...</td>\n",
              "      <td>...</td>\n",
              "      <td>...</td>\n",
              "      <td>...</td>\n",
              "      <td>...</td>\n",
              "      <td>...</td>\n",
              "    </tr>\n",
              "    <tr>\n",
              "      <th>466278</th>\n",
              "      <td>10000</td>\n",
              "      <td>10000</td>\n",
              "      <td>10000.0</td>\n",
              "      <td>36</td>\n",
              "      <td>18.25</td>\n",
              "      <td>362.78</td>\n",
              "      <td>10.0</td>\n",
              "      <td>42000.0</td>\n",
              "      <td>11.57</td>\n",
              "      <td>0.0</td>\n",
              "      <td>...</td>\n",
              "      <td>0.0</td>\n",
              "      <td>0.0</td>\n",
              "      <td>0.0</td>\n",
              "      <td>10170.0</td>\n",
              "      <td>11100.0</td>\n",
              "      <td>1</td>\n",
              "      <td>107.0</td>\n",
              "      <td>246.0</td>\n",
              "      <td>87.0</td>\n",
              "      <td>83.0</td>\n",
              "    </tr>\n",
              "    <tr>\n",
              "      <th>466279</th>\n",
              "      <td>15000</td>\n",
              "      <td>15000</td>\n",
              "      <td>15000.0</td>\n",
              "      <td>36</td>\n",
              "      <td>13.53</td>\n",
              "      <td>509.25</td>\n",
              "      <td>4.0</td>\n",
              "      <td>66000.0</td>\n",
              "      <td>16.22</td>\n",
              "      <td>0.0</td>\n",
              "      <td>...</td>\n",
              "      <td>0.0</td>\n",
              "      <td>0.0</td>\n",
              "      <td>0.0</td>\n",
              "      <td>20140.0</td>\n",
              "      <td>17600.0</td>\n",
              "      <td>1</td>\n",
              "      <td>107.0</td>\n",
              "      <td>280.0</td>\n",
              "      <td>83.0</td>\n",
              "      <td>83.0</td>\n",
              "    </tr>\n",
              "    <tr>\n",
              "      <th>466280</th>\n",
              "      <td>18400</td>\n",
              "      <td>18400</td>\n",
              "      <td>18400.0</td>\n",
              "      <td>60</td>\n",
              "      <td>14.47</td>\n",
              "      <td>432.64</td>\n",
              "      <td>4.0</td>\n",
              "      <td>110000.0</td>\n",
              "      <td>19.85</td>\n",
              "      <td>0.0</td>\n",
              "      <td>...</td>\n",
              "      <td>0.0</td>\n",
              "      <td>0.0</td>\n",
              "      <td>0.0</td>\n",
              "      <td>294998.0</td>\n",
              "      <td>29900.0</td>\n",
              "      <td>1</td>\n",
              "      <td>107.0</td>\n",
              "      <td>236.0</td>\n",
              "      <td>83.0</td>\n",
              "      <td>83.0</td>\n",
              "    </tr>\n",
              "    <tr>\n",
              "      <th>466281</th>\n",
              "      <td>22000</td>\n",
              "      <td>22000</td>\n",
              "      <td>22000.0</td>\n",
              "      <td>60</td>\n",
              "      <td>19.97</td>\n",
              "      <td>582.50</td>\n",
              "      <td>10.0</td>\n",
              "      <td>78000.0</td>\n",
              "      <td>18.45</td>\n",
              "      <td>0.0</td>\n",
              "      <td>...</td>\n",
              "      <td>0.0</td>\n",
              "      <td>0.0</td>\n",
              "      <td>0.0</td>\n",
              "      <td>221830.0</td>\n",
              "      <td>39400.0</td>\n",
              "      <td>0</td>\n",
              "      <td>107.0</td>\n",
              "      <td>306.0</td>\n",
              "      <td>96.0</td>\n",
              "      <td>83.0</td>\n",
              "    </tr>\n",
              "    <tr>\n",
              "      <th>466284</th>\n",
              "      <td>10000</td>\n",
              "      <td>10000</td>\n",
              "      <td>9975.0</td>\n",
              "      <td>36</td>\n",
              "      <td>19.20</td>\n",
              "      <td>367.58</td>\n",
              "      <td>10.0</td>\n",
              "      <td>46000.0</td>\n",
              "      <td>22.78</td>\n",
              "      <td>1.0</td>\n",
              "      <td>...</td>\n",
              "      <td>0.0</td>\n",
              "      <td>0.0</td>\n",
              "      <td>0.0</td>\n",
              "      <td>57477.0</td>\n",
              "      <td>16000.0</td>\n",
              "      <td>1</td>\n",
              "      <td>107.0</td>\n",
              "      <td>274.0</td>\n",
              "      <td>83.0</td>\n",
              "      <td>83.0</td>\n",
              "    </tr>\n",
              "  </tbody>\n",
              "</table>\n",
              "<p>303593 rows × 32 columns</p>\n",
              "</div>\n",
              "      <button class=\"colab-df-convert\" onclick=\"convertToInteractive('df-5223b636-a8a7-4c5f-b3b3-4a801afada50')\"\n",
              "              title=\"Convert this dataframe to an interactive table.\"\n",
              "              style=\"display:none;\">\n",
              "        \n",
              "  <svg xmlns=\"http://www.w3.org/2000/svg\" height=\"24px\"viewBox=\"0 0 24 24\"\n",
              "       width=\"24px\">\n",
              "    <path d=\"M0 0h24v24H0V0z\" fill=\"none\"/>\n",
              "    <path d=\"M18.56 5.44l.94 2.06.94-2.06 2.06-.94-2.06-.94-.94-2.06-.94 2.06-2.06.94zm-11 1L8.5 8.5l.94-2.06 2.06-.94-2.06-.94L8.5 2.5l-.94 2.06-2.06.94zm10 10l.94 2.06.94-2.06 2.06-.94-2.06-.94-.94-2.06-.94 2.06-2.06.94z\"/><path d=\"M17.41 7.96l-1.37-1.37c-.4-.4-.92-.59-1.43-.59-.52 0-1.04.2-1.43.59L10.3 9.45l-7.72 7.72c-.78.78-.78 2.05 0 2.83L4 21.41c.39.39.9.59 1.41.59.51 0 1.02-.2 1.41-.59l7.78-7.78 2.81-2.81c.8-.78.8-2.07 0-2.86zM5.41 20L4 18.59l7.72-7.72 1.47 1.35L5.41 20z\"/>\n",
              "  </svg>\n",
              "      </button>\n",
              "      \n",
              "  <style>\n",
              "    .colab-df-container {\n",
              "      display:flex;\n",
              "      flex-wrap:wrap;\n",
              "      gap: 12px;\n",
              "    }\n",
              "\n",
              "    .colab-df-convert {\n",
              "      background-color: #E8F0FE;\n",
              "      border: none;\n",
              "      border-radius: 50%;\n",
              "      cursor: pointer;\n",
              "      display: none;\n",
              "      fill: #1967D2;\n",
              "      height: 32px;\n",
              "      padding: 0 0 0 0;\n",
              "      width: 32px;\n",
              "    }\n",
              "\n",
              "    .colab-df-convert:hover {\n",
              "      background-color: #E2EBFA;\n",
              "      box-shadow: 0px 1px 2px rgba(60, 64, 67, 0.3), 0px 1px 3px 1px rgba(60, 64, 67, 0.15);\n",
              "      fill: #174EA6;\n",
              "    }\n",
              "\n",
              "    [theme=dark] .colab-df-convert {\n",
              "      background-color: #3B4455;\n",
              "      fill: #D2E3FC;\n",
              "    }\n",
              "\n",
              "    [theme=dark] .colab-df-convert:hover {\n",
              "      background-color: #434B5C;\n",
              "      box-shadow: 0px 1px 3px 1px rgba(0, 0, 0, 0.15);\n",
              "      filter: drop-shadow(0px 1px 2px rgba(0, 0, 0, 0.3));\n",
              "      fill: #FFFFFF;\n",
              "    }\n",
              "  </style>\n",
              "\n",
              "      <script>\n",
              "        const buttonEl =\n",
              "          document.querySelector('#df-5223b636-a8a7-4c5f-b3b3-4a801afada50 button.colab-df-convert');\n",
              "        buttonEl.style.display =\n",
              "          google.colab.kernel.accessAllowed ? 'block' : 'none';\n",
              "\n",
              "        async function convertToInteractive(key) {\n",
              "          const element = document.querySelector('#df-5223b636-a8a7-4c5f-b3b3-4a801afada50');\n",
              "          const dataTable =\n",
              "            await google.colab.kernel.invokeFunction('convertToInteractive',\n",
              "                                                     [key], {});\n",
              "          if (!dataTable) return;\n",
              "\n",
              "          const docLinkHtml = 'Like what you see? Visit the ' +\n",
              "            '<a target=\"_blank\" href=https://colab.research.google.com/notebooks/data_table.ipynb>data table notebook</a>'\n",
              "            + ' to learn more about interactive tables.';\n",
              "          element.innerHTML = '';\n",
              "          dataTable['output_type'] = 'display_data';\n",
              "          await google.colab.output.renderOutput(dataTable, element);\n",
              "          const docLink = document.createElement('div');\n",
              "          docLink.innerHTML = docLinkHtml;\n",
              "          element.appendChild(docLink);\n",
              "        }\n",
              "      </script>\n",
              "    </div>\n",
              "  </div>\n",
              "  "
            ]
          },
          "metadata": {},
          "execution_count": 57
        }
      ]
    },
    {
      "cell_type": "code",
      "source": [
        "num_cols = ['mths_since_last_credit_pull_d', 'mths_since_last_pymnt_d', 'mths_since_earliest_cr_line', 'mths_since_issue_d', 'total_rev_hi_lim', 'tot_cur_bal', 'total_acc', 'revol_util', 'revol_bal', 'open_acc', 'inq_last_6mths', 'delinq_2yrs', 'dti', 'annual_inc', 'emp_length', 'installment', 'int_rate', 'term', 'loan_amnt']\n",
        "df_num[num_cols].hist(bins=20, figsize=(13,13), color='blue')\n",
        "plt.show()"
      ],
      "metadata": {
        "colab": {
          "base_uri": "https://localhost:8080/",
          "height": 771
        },
        "id": "TGVXkFiWdX1K",
        "outputId": "48024d36-e37a-4a75-ce43-9571c58581f7"
      },
      "execution_count": 58,
      "outputs": [
        {
          "output_type": "display_data",
          "data": {
            "text/plain": [
              "<Figure size 936x936 with 20 Axes>"
            ],
            "image/png": "[encoded data removed]"
          },
          "metadata": {
            "needs_background": "light"
          }
        }
      ]
    },
    {
      "cell_type": "code",
      "source": [
        "# Numerikal \n",
        "num_corr = df_num.corr('spearman')\n",
        "np.fill_diagonal(num_corr.values, np.nan)\n",
        "num_corr_table = num_corr.unstack().sort_values(ascending = False).drop_duplicates().to_frame()\n",
        "num_corr_table.columns = ['Correlation Coefficient']\n",
        "num_corr_table.head(10)"
      ],
      "metadata": {
        "colab": {
          "base_uri": "https://localhost:8080/",
          "height": 363
        },
        "id": "oemFq1S0dcqR",
        "outputId": "a522a279-3519-4b46-e8a1-f23e0e4d8c09"
      },
      "execution_count": 59,
      "outputs": [
        {
          "output_type": "execute_result",
          "data": {
            "text/plain": [
              "                                  Correlation Coefficient\n",
              "loan_amnt       funded_amnt                      1.000000\n",
              "out_prncp       out_prncp_inv                    1.000000\n",
              "total_pymnt     total_pymnt_inv                  0.999995\n",
              "funded_amnt     funded_amnt_inv                  0.999811\n",
              "funded_amnt_inv loan_amnt                        0.999811\n",
              "funded_amnt     installment                      0.954986\n",
              "loan_amnt       installment                      0.954986\n",
              "funded_amnt_inv installment                      0.954788\n",
              "revol_bal       total_rev_hi_lim                 0.754865\n",
              "installment     total_pymnt_inv                  0.747075"
            ],
            "text/html": [
              "\n",
              "  <div id=\"df-91e049fe-cd49-4b7b-b729-223ce8c29a96\">\n",
              "    <div class=\"colab-df-container\">\n",
              "      <div>\n",
              "<style scoped>\n",
              "    .dataframe tbody tr th:only-of-type {\n",
              "        vertical-align: middle;\n",
              "    }\n",
              "\n",
              "    .dataframe tbody tr th {\n",
              "        vertical-align: top;\n",
              "    }\n",
              "\n",
              "    .dataframe thead th {\n",
              "        text-align: right;\n",
              "    }\n",
              "</style>\n",
              "<table border=\"1\" class=\"dataframe\">\n",
              "  <thead>\n",
              "    <tr style=\"text-align: right;\">\n",
              "      <th></th>\n",
              "      <th></th>\n",
              "      <th>Correlation Coefficient</th>\n",
              "    </tr>\n",
              "  </thead>\n",
              "  <tbody>\n",
              "    <tr>\n",
              "      <th>loan_amnt</th>\n",
              "      <th>funded_amnt</th>\n",
              "      <td>1.000000</td>\n",
              "    </tr>\n",
              "    <tr>\n",
              "      <th>out_prncp</th>\n",
              "      <th>out_prncp_inv</th>\n",
              "      <td>1.000000</td>\n",
              "    </tr>\n",
              "    <tr>\n",
              "      <th>total_pymnt</th>\n",
              "      <th>total_pymnt_inv</th>\n",
              "      <td>0.999995</td>\n",
              "    </tr>\n",
              "    <tr>\n",
              "      <th>funded_amnt</th>\n",
              "      <th>funded_amnt_inv</th>\n",
              "      <td>0.999811</td>\n",
              "    </tr>\n",
              "    <tr>\n",
              "      <th>funded_amnt_inv</th>\n",
              "      <th>loan_amnt</th>\n",
              "      <td>0.999811</td>\n",
              "    </tr>\n",
              "    <tr>\n",
              "      <th>funded_amnt</th>\n",
              "      <th>installment</th>\n",
              "      <td>0.954986</td>\n",
              "    </tr>\n",
              "    <tr>\n",
              "      <th>loan_amnt</th>\n",
              "      <th>installment</th>\n",
              "      <td>0.954986</td>\n",
              "    </tr>\n",
              "    <tr>\n",
              "      <th>funded_amnt_inv</th>\n",
              "      <th>installment</th>\n",
              "      <td>0.954788</td>\n",
              "    </tr>\n",
              "    <tr>\n",
              "      <th>revol_bal</th>\n",
              "      <th>total_rev_hi_lim</th>\n",
              "      <td>0.754865</td>\n",
              "    </tr>\n",
              "    <tr>\n",
              "      <th>installment</th>\n",
              "      <th>total_pymnt_inv</th>\n",
              "      <td>0.747075</td>\n",
              "    </tr>\n",
              "  </tbody>\n",
              "</table>\n",
              "</div>\n",
              "      <button class=\"colab-df-convert\" onclick=\"convertToInteractive('df-91e049fe-cd49-4b7b-b729-223ce8c29a96')\"\n",
              "              title=\"Convert this dataframe to an interactive table.\"\n",
              "              style=\"display:none;\">\n",
              "        \n",
              "  <svg xmlns=\"http://www.w3.org/2000/svg\" height=\"24px\"viewBox=\"0 0 24 24\"\n",
              "       width=\"24px\">\n",
              "    <path d=\"M0 0h24v24H0V0z\" fill=\"none\"/>\n",
              "    <path d=\"M18.56 5.44l.94 2.06.94-2.06 2.06-.94-2.06-.94-.94-2.06-.94 2.06-2.06.94zm-11 1L8.5 8.5l.94-2.06 2.06-.94-2.06-.94L8.5 2.5l-.94 2.06-2.06.94zm10 10l.94 2.06.94-2.06 2.06-.94-2.06-.94-.94-2.06-.94 2.06-2.06.94z\"/><path d=\"M17.41 7.96l-1.37-1.37c-.4-.4-.92-.59-1.43-.59-.52 0-1.04.2-1.43.59L10.3 9.45l-7.72 7.72c-.78.78-.78 2.05 0 2.83L4 21.41c.39.39.9.59 1.41.59.51 0 1.02-.2 1.41-.59l7.78-7.78 2.81-2.81c.8-.78.8-2.07 0-2.86zM5.41 20L4 18.59l7.72-7.72 1.47 1.35L5.41 20z\"/>\n",
              "  </svg>\n",
              "      </button>\n",
              "      \n",
              "  <style>\n",
              "    .colab-df-container {\n",
              "      display:flex;\n",
              "      flex-wrap:wrap;\n",
              "      gap: 12px;\n",
              "    }\n",
              "\n",
              "    .colab-df-convert {\n",
              "      background-color: #E8F0FE;\n",
              "      border: none;\n",
              "      border-radius: 50%;\n",
              "      cursor: pointer;\n",
              "      display: none;\n",
              "      fill: #1967D2;\n",
              "      height: 32px;\n",
              "      padding: 0 0 0 0;\n",
              "      width: 32px;\n",
              "    }\n",
              "\n",
              "    .colab-df-convert:hover {\n",
              "      background-color: #E2EBFA;\n",
              "      box-shadow: 0px 1px 2px rgba(60, 64, 67, 0.3), 0px 1px 3px 1px rgba(60, 64, 67, 0.15);\n",
              "      fill: #174EA6;\n",
              "    }\n",
              "\n",
              "    [theme=dark] .colab-df-convert {\n",
              "      background-color: #3B4455;\n",
              "      fill: #D2E3FC;\n",
              "    }\n",
              "\n",
              "    [theme=dark] .colab-df-convert:hover {\n",
              "      background-color: #434B5C;\n",
              "      box-shadow: 0px 1px 3px 1px rgba(0, 0, 0, 0.15);\n",
              "      filter: drop-shadow(0px 1px 2px rgba(0, 0, 0, 0.3));\n",
              "      fill: #FFFFFF;\n",
              "    }\n",
              "  </style>\n",
              "\n",
              "      <script>\n",
              "        const buttonEl =\n",
              "          document.querySelector('#df-91e049fe-cd49-4b7b-b729-223ce8c29a96 button.colab-df-convert');\n",
              "        buttonEl.style.display =\n",
              "          google.colab.kernel.accessAllowed ? 'block' : 'none';\n",
              "\n",
              "        async function convertToInteractive(key) {\n",
              "          const element = document.querySelector('#df-91e049fe-cd49-4b7b-b729-223ce8c29a96');\n",
              "          const dataTable =\n",
              "            await google.colab.kernel.invokeFunction('convertToInteractive',\n",
              "                                                     [key], {});\n",
              "          if (!dataTable) return;\n",
              "\n",
              "          const docLinkHtml = 'Like what you see? Visit the ' +\n",
              "            '<a target=\"_blank\" href=https://colab.research.google.com/notebooks/data_table.ipynb>data table notebook</a>'\n",
              "            + ' to learn more about interactive tables.';\n",
              "          element.innerHTML = '';\n",
              "          dataTable['output_type'] = 'display_data';\n",
              "          await google.colab.output.renderOutput(dataTable, element);\n",
              "          const docLink = document.createElement('div');\n",
              "          docLink.innerHTML = docLinkHtml;\n",
              "          element.appendChild(docLink);\n",
              "        }\n",
              "      </script>\n",
              "    </div>\n",
              "  </div>\n",
              "  "
            ]
          },
          "metadata": {},
          "execution_count": 59
        }
      ]
    },
    {
      "cell_type": "code",
      "source": [
        "plt.figure(figsize=(10,6))\n",
        "sns.heatmap(data=df_num.corr(), annot=False, cmap='YlGnBu')\n",
        "plt.savefig(\"num_corr.png\")"
      ],
      "metadata": {
        "colab": {
          "base_uri": "https://localhost:8080/",
          "height": 516
        },
        "id": "-QZeybdtMkin",
        "outputId": "2127d59c-31bf-4413-c9a6-093634389323"
      },
      "execution_count": 63,
      "outputs": [
        {
          "output_type": "display_data",
          "data": {
            "text/plain": [
              "<Figure size 720x432 with 2 Axes>"
            ],
            "image/png": "[encoded data removed]"
          },
          "metadata": {
            "needs_background": "light"
          }
        }
      ]
    },
    {
      "cell_type": "markdown",
      "source": [
        "Berdasarkan heat map, variabel yang memiliki korelasi tinggi adalah funded_amnt, funded_amnt_inv, out_prncp_inv dan total_pymnt_inv. Sehingga akan dikeluarkan dari model."
      ],
      "metadata": {
        "id": "YgLb-A1LRerP"
      }
    },
    {
      "cell_type": "code",
      "source": [
        "df_num.drop(columns = ['funded_amnt', 'funded_amnt_inv', 'out_prncp_inv', 'total_pymnt_inv'], inplace = True)"
      ],
      "metadata": {
        "id": "BnGjPSoJRB-P"
      },
      "execution_count": 64,
      "outputs": []
    },
    {
      "cell_type": "code",
      "source": [
        "df.drop(columns = ['funded_amnt', 'funded_amnt_inv', \n",
        "                   'out_prncp_inv', 'total_pymnt_inv'], \n",
        "        inplace = True)"
      ],
      "metadata": {
        "id": "l0UhvRUoWnus"
      },
      "execution_count": 65,
      "outputs": []
    },
    {
      "cell_type": "code",
      "source": [
        "df_cat = df.select_dtypes(include = 'object').copy()\n",
        "df_cat"
      ],
      "metadata": {
        "colab": {
          "base_uri": "https://localhost:8080/",
          "height": 424
        },
        "id": "QPLiXeCNJSdL",
        "outputId": "b2e408b2-fc45-4326-de87-41da8b540256"
      },
      "execution_count": 66,
      "outputs": [
        {
          "output_type": "execute_result",
          "data": {
            "text/plain": [
              "       grade home_ownership verification_status             purpose  \\\n",
              "42535      B            OWN            Verified  debt_consolidation   \n",
              "42536      C           RENT        Not Verified  debt_consolidation   \n",
              "42537      A       MORTGAGE        Not Verified  debt_consolidation   \n",
              "42538      B           RENT     Source Verified  debt_consolidation   \n",
              "42539      A       MORTGAGE        Not Verified  debt_consolidation   \n",
              "...      ...            ...                 ...                 ...   \n",
              "466278     D           RENT     Source Verified            vacation   \n",
              "466279     B           RENT     Source Verified         credit_card   \n",
              "466280     C       MORTGAGE     Source Verified  debt_consolidation   \n",
              "466281     D       MORTGAGE            Verified  debt_consolidation   \n",
              "466284     D       MORTGAGE            Verified               other   \n",
              "\n",
              "       initial_list_status  \n",
              "42535                    w  \n",
              "42536                    f  \n",
              "42537                    w  \n",
              "42538                    w  \n",
              "42539                    w  \n",
              "...                    ...  \n",
              "466278                   f  \n",
              "466279                   w  \n",
              "466280                   w  \n",
              "466281                   f  \n",
              "466284                   f  \n",
              "\n",
              "[303593 rows x 5 columns]"
            ],
            "text/html": [
              "\n",
              "  <div id=\"df-3e0fbccd-404d-4b2f-9681-f9dbac76c315\">\n",
              "    <div class=\"colab-df-container\">\n",
              "      <div>\n",
              "<style scoped>\n",
              "    .dataframe tbody tr th:only-of-type {\n",
              "        vertical-align: middle;\n",
              "    }\n",
              "\n",
              "    .dataframe tbody tr th {\n",
              "        vertical-align: top;\n",
              "    }\n",
              "\n",
              "    .dataframe thead th {\n",
              "        text-align: right;\n",
              "    }\n",
              "</style>\n",
              "<table border=\"1\" class=\"dataframe\">\n",
              "  <thead>\n",
              "    <tr style=\"text-align: right;\">\n",
              "      <th></th>\n",
              "      <th>grade</th>\n",
              "      <th>home_ownership</th>\n",
              "      <th>verification_status</th>\n",
              "      <th>purpose</th>\n",
              "      <th>initial_list_status</th>\n",
              "    </tr>\n",
              "  </thead>\n",
              "  <tbody>\n",
              "    <tr>\n",
              "      <th>42535</th>\n",
              "      <td>B</td>\n",
              "      <td>OWN</td>\n",
              "      <td>Verified</td>\n",
              "      <td>debt_consolidation</td>\n",
              "      <td>w</td>\n",
              "    </tr>\n",
              "    <tr>\n",
              "      <th>42536</th>\n",
              "      <td>C</td>\n",
              "      <td>RENT</td>\n",
              "      <td>Not Verified</td>\n",
              "      <td>debt_consolidation</td>\n",
              "      <td>f</td>\n",
              "    </tr>\n",
              "    <tr>\n",
              "      <th>42537</th>\n",
              "      <td>A</td>\n",
              "      <td>MORTGAGE</td>\n",
              "      <td>Not Verified</td>\n",
              "      <td>debt_consolidation</td>\n",
              "      <td>w</td>\n",
              "    </tr>\n",
              "    <tr>\n",
              "      <th>42538</th>\n",
              "      <td>B</td>\n",
              "      <td>RENT</td>\n",
              "      <td>Source Verified</td>\n",
              "      <td>debt_consolidation</td>\n",
              "      <td>w</td>\n",
              "    </tr>\n",
              "    <tr>\n",
              "      <th>42539</th>\n",
              "      <td>A</td>\n",
              "      <td>MORTGAGE</td>\n",
              "      <td>Not Verified</td>\n",
              "      <td>debt_consolidation</td>\n",
              "      <td>w</td>\n",
              "    </tr>\n",
              "    <tr>\n",
              "      <th>...</th>\n",
              "      <td>...</td>\n",
              "      <td>...</td>\n",
              "      <td>...</td>\n",
              "      <td>...</td>\n",
              "      <td>...</td>\n",
              "    </tr>\n",
              "    <tr>\n",
              "      <th>466278</th>\n",
              "      <td>D</td>\n",
              "      <td>RENT</td>\n",
              "      <td>Source Verified</td>\n",
              "      <td>vacation</td>\n",
              "      <td>f</td>\n",
              "    </tr>\n",
              "    <tr>\n",
              "      <th>466279</th>\n",
              "      <td>B</td>\n",
              "      <td>RENT</td>\n",
              "      <td>Source Verified</td>\n",
              "      <td>credit_card</td>\n",
              "      <td>w</td>\n",
              "    </tr>\n",
              "    <tr>\n",
              "      <th>466280</th>\n",
              "      <td>C</td>\n",
              "      <td>MORTGAGE</td>\n",
              "      <td>Source Verified</td>\n",
              "      <td>debt_consolidation</td>\n",
              "      <td>w</td>\n",
              "    </tr>\n",
              "    <tr>\n",
              "      <th>466281</th>\n",
              "      <td>D</td>\n",
              "      <td>MORTGAGE</td>\n",
              "      <td>Verified</td>\n",
              "      <td>debt_consolidation</td>\n",
              "      <td>f</td>\n",
              "    </tr>\n",
              "    <tr>\n",
              "      <th>466284</th>\n",
              "      <td>D</td>\n",
              "      <td>MORTGAGE</td>\n",
              "      <td>Verified</td>\n",
              "      <td>other</td>\n",
              "      <td>f</td>\n",
              "    </tr>\n",
              "  </tbody>\n",
              "</table>\n",
              "<p>303593 rows × 5 columns</p>\n",
              "</div>\n",
              "      <button class=\"colab-df-convert\" onclick=\"convertToInteractive('df-3e0fbccd-404d-4b2f-9681-f9dbac76c315')\"\n",
              "              title=\"Convert this dataframe to an interactive table.\"\n",
              "              style=\"display:none;\">\n",
              "        \n",
              "  <svg xmlns=\"http://www.w3.org/2000/svg\" height=\"24px\"viewBox=\"0 0 24 24\"\n",
              "       width=\"24px\">\n",
              "    <path d=\"M0 0h24v24H0V0z\" fill=\"none\"/>\n",
              "    <path d=\"M18.56 5.44l.94 2.06.94-2.06 2.06-.94-2.06-.94-.94-2.06-.94 2.06-2.06.94zm-11 1L8.5 8.5l.94-2.06 2.06-.94-2.06-.94L8.5 2.5l-.94 2.06-2.06.94zm10 10l.94 2.06.94-2.06 2.06-.94-2.06-.94-.94-2.06-.94 2.06-2.06.94z\"/><path d=\"M17.41 7.96l-1.37-1.37c-.4-.4-.92-.59-1.43-.59-.52 0-1.04.2-1.43.59L10.3 9.45l-7.72 7.72c-.78.78-.78 2.05 0 2.83L4 21.41c.39.39.9.59 1.41.59.51 0 1.02-.2 1.41-.59l7.78-7.78 2.81-2.81c.8-.78.8-2.07 0-2.86zM5.41 20L4 18.59l7.72-7.72 1.47 1.35L5.41 20z\"/>\n",
              "  </svg>\n",
              "      </button>\n",
              "      \n",
              "  <style>\n",
              "    .colab-df-container {\n",
              "      display:flex;\n",
              "      flex-wrap:wrap;\n",
              "      gap: 12px;\n",
              "    }\n",
              "\n",
              "    .colab-df-convert {\n",
              "      background-color: #E8F0FE;\n",
              "      border: none;\n",
              "      border-radius: 50%;\n",
              "      cursor: pointer;\n",
              "      display: none;\n",
              "      fill: #1967D2;\n",
              "      height: 32px;\n",
              "      padding: 0 0 0 0;\n",
              "      width: 32px;\n",
              "    }\n",
              "\n",
              "    .colab-df-convert:hover {\n",
              "      background-color: #E2EBFA;\n",
              "      box-shadow: 0px 1px 2px rgba(60, 64, 67, 0.3), 0px 1px 3px 1px rgba(60, 64, 67, 0.15);\n",
              "      fill: #174EA6;\n",
              "    }\n",
              "\n",
              "    [theme=dark] .colab-df-convert {\n",
              "      background-color: #3B4455;\n",
              "      fill: #D2E3FC;\n",
              "    }\n",
              "\n",
              "    [theme=dark] .colab-df-convert:hover {\n",
              "      background-color: #434B5C;\n",
              "      box-shadow: 0px 1px 3px 1px rgba(0, 0, 0, 0.15);\n",
              "      filter: drop-shadow(0px 1px 2px rgba(0, 0, 0, 0.3));\n",
              "      fill: #FFFFFF;\n",
              "    }\n",
              "  </style>\n",
              "\n",
              "      <script>\n",
              "        const buttonEl =\n",
              "          document.querySelector('#df-3e0fbccd-404d-4b2f-9681-f9dbac76c315 button.colab-df-convert');\n",
              "        buttonEl.style.display =\n",
              "          google.colab.kernel.accessAllowed ? 'block' : 'none';\n",
              "\n",
              "        async function convertToInteractive(key) {\n",
              "          const element = document.querySelector('#df-3e0fbccd-404d-4b2f-9681-f9dbac76c315');\n",
              "          const dataTable =\n",
              "            await google.colab.kernel.invokeFunction('convertToInteractive',\n",
              "                                                     [key], {});\n",
              "          if (!dataTable) return;\n",
              "\n",
              "          const docLinkHtml = 'Like what you see? Visit the ' +\n",
              "            '<a target=\"_blank\" href=https://colab.research.google.com/notebooks/data_table.ipynb>data table notebook</a>'\n",
              "            + ' to learn more about interactive tables.';\n",
              "          element.innerHTML = '';\n",
              "          dataTable['output_type'] = 'display_data';\n",
              "          await google.colab.output.renderOutput(dataTable, element);\n",
              "          const docLink = document.createElement('div');\n",
              "          docLink.innerHTML = docLinkHtml;\n",
              "          element.appendChild(docLink);\n",
              "        }\n",
              "      </script>\n",
              "    </div>\n",
              "  </div>\n",
              "  "
            ]
          },
          "metadata": {},
          "execution_count": 66
        }
      ]
    },
    {
      "cell_type": "code",
      "source": [
        "sns.countplot(data=df_cat, x='grade')\n",
        "plt.title('Grade')"
      ],
      "metadata": {
        "colab": {
          "base_uri": "https://localhost:8080/",
          "height": 312
        },
        "id": "sDQ-FxGIZ29P",
        "outputId": "97c5b570-83e7-4a0e-e50f-4f3693d285f7"
      },
      "execution_count": 67,
      "outputs": [
        {
          "output_type": "execute_result",
          "data": {
            "text/plain": [
              "Text(0.5, 1.0, 'Grade')"
            ]
          },
          "metadata": {},
          "execution_count": 67
        },
        {
          "output_type": "display_data",
          "data": {
            "text/plain": [
              "<Figure size 432x288 with 1 Axes>"
            ],
            "image/png": "[encoded data removed]"
          },
          "metadata": {
            "needs_background": "light"
          }
        }
      ]
    },
    {
      "cell_type": "code",
      "source": [
        "sns.countplot(data=df_cat, x='home_ownership')\n",
        "plt.title('Home Ownership')"
      ],
      "metadata": {
        "colab": {
          "base_uri": "https://localhost:8080/",
          "height": 313
        },
        "id": "515XdejBZoVg",
        "outputId": "3c5d7764-9f53-4694-bfc1-cbe039dee8fc"
      },
      "execution_count": 68,
      "outputs": [
        {
          "output_type": "execute_result",
          "data": {
            "text/plain": [
              "Text(0.5, 1.0, 'Home Ownership')"
            ]
          },
          "metadata": {},
          "execution_count": 68
        },
        {
          "output_type": "display_data",
          "data": {
            "text/plain": [
              "<Figure size 432x288 with 1 Axes>"
            ],
            "image/png": "[encoded data removed]"
          },
          "metadata": {
            "needs_background": "light"
          }
        }
      ]
    },
    {
      "cell_type": "code",
      "source": [
        "sns.countplot(data=df_cat, x='verification_status')\n",
        "plt.title('Verification Status')"
      ],
      "metadata": {
        "colab": {
          "base_uri": "https://localhost:8080/",
          "height": 313
        },
        "id": "S80FrJg7YuYl",
        "outputId": "13216661-b433-4485-9fb7-3ab2fa1f6dc8"
      },
      "execution_count": 69,
      "outputs": [
        {
          "output_type": "execute_result",
          "data": {
            "text/plain": [
              "Text(0.5, 1.0, 'Verification Status')"
            ]
          },
          "metadata": {},
          "execution_count": 69
        },
        {
          "output_type": "display_data",
          "data": {
            "text/plain": [
              "<Figure size 432x288 with 1 Axes>"
            ],
            "image/png": "[encoded data removed]"
          },
          "metadata": {
            "needs_background": "light"
          }
        }
      ]
    },
    {
      "cell_type": "code",
      "source": [
        "sns.countplot(data=df_cat, x='purpose')\n",
        "plt.title('Purpose')"
      ],
      "metadata": {
        "colab": {
          "base_uri": "https://localhost:8080/",
          "height": 313
        },
        "id": "ATR0T-qPYmls",
        "outputId": "71d995c0-7305-4f96-a480-4149f5c58665"
      },
      "execution_count": 70,
      "outputs": [
        {
          "output_type": "execute_result",
          "data": {
            "text/plain": [
              "Text(0.5, 1.0, 'Purpose')"
            ]
          },
          "metadata": {},
          "execution_count": 70
        },
        {
          "output_type": "display_data",
          "data": {
            "text/plain": [
              "<Figure size 432x288 with 1 Axes>"
            ],
            "image/png": "[encoded data removed]"
          },
          "metadata": {
            "needs_background": "light"
          }
        }
      ]
    },
    {
      "cell_type": "code",
      "source": [
        "sns.countplot(data=df_cat, x='initial_list_status')\n",
        "plt.title('Initial List Status')"
      ],
      "metadata": {
        "colab": {
          "base_uri": "https://localhost:8080/",
          "height": 313
        },
        "id": "mZBX2SRGWMOL",
        "outputId": "a868a4b7-b23d-45bf-f309-2328d3b68a14"
      },
      "execution_count": 71,
      "outputs": [
        {
          "output_type": "execute_result",
          "data": {
            "text/plain": [
              "Text(0.5, 1.0, 'Initial List Status')"
            ]
          },
          "metadata": {},
          "execution_count": 71
        },
        {
          "output_type": "display_data",
          "data": {
            "text/plain": [
              "<Figure size 432x288 with 1 Axes>"
            ],
            "image/png": "[encoded data removed]"
          },
          "metadata": {
            "needs_background": "light"
          }
        }
      ]
    },
    {
      "cell_type": "markdown",
      "source": [
        "## Handling Missing Value"
      ],
      "metadata": {
        "id": "LNllYv4E4V_h"
      }
    },
    {
      "cell_type": "code",
      "source": [
        "df.isna().sum()"
      ],
      "metadata": {
        "colab": {
          "base_uri": "https://localhost:8080/"
        },
        "id": "9T9ZtXcF4tb0",
        "outputId": "8ccbbfbc-782e-4491-f885-2bd695900012"
      },
      "execution_count": 72,
      "outputs": [
        {
          "output_type": "execute_result",
          "data": {
            "text/plain": [
              "loan_amnt                            0\n",
              "term                                 0\n",
              "int_rate                             0\n",
              "installment                          0\n",
              "grade                                0\n",
              "emp_length                       16192\n",
              "home_ownership                       0\n",
              "annual_inc                           0\n",
              "verification_status                  0\n",
              "purpose                              0\n",
              "dti                                  0\n",
              "delinq_2yrs                          0\n",
              "inq_last_6mths                       0\n",
              "open_acc                             0\n",
              "pub_rec                              0\n",
              "revol_bal                            0\n",
              "revol_util                         154\n",
              "total_acc                            0\n",
              "initial_list_status                  0\n",
              "out_prncp                            0\n",
              "total_pymnt                          0\n",
              "total_rec_int                        0\n",
              "last_pymnt_amnt                      0\n",
              "collections_12_mths_ex_med           0\n",
              "acc_now_delinq                       0\n",
              "tot_coll_amt                         0\n",
              "tot_cur_bal                          0\n",
              "total_rev_hi_lim                     0\n",
              "good_bad                             0\n",
              "mths_since_issue_d                   0\n",
              "mths_since_earliest_cr_line          0\n",
              "mths_since_last_pymnt_d            233\n",
              "mths_since_last_credit_pull_d       30\n",
              "dtype: int64"
            ]
          },
          "metadata": {},
          "execution_count": 72
        }
      ]
    },
    {
      "cell_type": "code",
      "source": [
        "# mengecek kolom x baris sebelum handling missing value\n",
        "df.shape"
      ],
      "metadata": {
        "colab": {
          "base_uri": "https://localhost:8080/"
        },
        "id": "EvGw2PRL48F-",
        "outputId": "2bb987a4-069f-41b5-d786-cfcc4333b7a8"
      },
      "execution_count": 73,
      "outputs": [
        {
          "output_type": "execute_result",
          "data": {
            "text/plain": [
              "(303593, 33)"
            ]
          },
          "metadata": {},
          "execution_count": 73
        }
      ]
    },
    {
      "cell_type": "code",
      "source": [
        "# menghapus data yang memiliki missing value\n",
        "df.dropna(inplace=True)\n",
        "df.shape"
      ],
      "metadata": {
        "colab": {
          "base_uri": "https://localhost:8080/"
        },
        "id": "7C0h4A4c4zre",
        "outputId": "97aa3aaa-54b4-43f4-a2ef-d370df8910a5"
      },
      "execution_count": 74,
      "outputs": [
        {
          "output_type": "execute_result",
          "data": {
            "text/plain": [
              "(287009, 33)"
            ]
          },
          "metadata": {},
          "execution_count": 74
        }
      ]
    },
    {
      "cell_type": "code",
      "source": [
        "# mengecek kembali apakah sudah tidak terdapat missing value atau tidak\n",
        "df.isna().sum()"
      ],
      "metadata": {
        "colab": {
          "base_uri": "https://localhost:8080/"
        },
        "id": "KnsRBAdB5WZC",
        "outputId": "2faf9185-267a-4239-8381-4af34c333fbb"
      },
      "execution_count": 75,
      "outputs": [
        {
          "output_type": "execute_result",
          "data": {
            "text/plain": [
              "loan_amnt                        0\n",
              "term                             0\n",
              "int_rate                         0\n",
              "installment                      0\n",
              "grade                            0\n",
              "emp_length                       0\n",
              "home_ownership                   0\n",
              "annual_inc                       0\n",
              "verification_status              0\n",
              "purpose                          0\n",
              "dti                              0\n",
              "delinq_2yrs                      0\n",
              "inq_last_6mths                   0\n",
              "open_acc                         0\n",
              "pub_rec                          0\n",
              "revol_bal                        0\n",
              "revol_util                       0\n",
              "total_acc                        0\n",
              "initial_list_status              0\n",
              "out_prncp                        0\n",
              "total_pymnt                      0\n",
              "total_rec_int                    0\n",
              "last_pymnt_amnt                  0\n",
              "collections_12_mths_ex_med       0\n",
              "acc_now_delinq                   0\n",
              "tot_coll_amt                     0\n",
              "tot_cur_bal                      0\n",
              "total_rev_hi_lim                 0\n",
              "good_bad                         0\n",
              "mths_since_issue_d               0\n",
              "mths_since_earliest_cr_line      0\n",
              "mths_since_last_pymnt_d          0\n",
              "mths_since_last_credit_pull_d    0\n",
              "dtype: int64"
            ]
          },
          "metadata": {},
          "execution_count": 75
        }
      ]
    },
    {
      "cell_type": "markdown",
      "source": [
        "sudah tidak terdapat missing value di semua variabel"
      ],
      "metadata": {
        "id": "jcY2uVkK5pcu"
      }
    },
    {
      "cell_type": "markdown",
      "source": [
        "# Feature Scaling & Encoding"
      ],
      "metadata": {
        "id": "7u9Z4Pkj5z9g"
      }
    },
    {
      "cell_type": "markdown",
      "source": [
        "## One Hot-Encoding"
      ],
      "metadata": {
        "id": "5WSEyFaixjgi"
      }
    },
    {
      "cell_type": "code",
      "source": [
        "# Membuat variable dummy untuk variabel kategorikal\n",
        "\n",
        "df_dummies = [pd.get_dummies(df['grade'], prefix = 'grade', prefix_sep = ':'),\n",
        "              pd.get_dummies(df['home_ownership'], prefix = 'home_ownership', prefix_sep = ':'),\n",
        "              pd.get_dummies(df['verification_status'], prefix = 'verification_status', prefix_sep = ':'),\n",
        "              pd.get_dummies(df['purpose'], prefix = 'purpose', prefix_sep = ':'),\n",
        "              pd.get_dummies(df['initial_list_status'], prefix = 'initial_list_status', prefix_sep = ':') ]\n"
      ],
      "metadata": {
        "id": "BpfuLlqrrsKJ"
      },
      "execution_count": 76,
      "outputs": []
    },
    {
      "cell_type": "code",
      "source": [
        "df_dummies = pd.concat(df_dummies, axis = 1)\n",
        "type(df_dummies)"
      ],
      "metadata": {
        "id": "bBfI6wyvJm-O",
        "colab": {
          "base_uri": "https://localhost:8080/"
        },
        "outputId": "f365c3f5-afd9-42c8-a228-e7ad3b3dc5e0"
      },
      "execution_count": 77,
      "outputs": [
        {
          "output_type": "execute_result",
          "data": {
            "text/plain": [
              "pandas.core.frame.DataFrame"
            ]
          },
          "metadata": {},
          "execution_count": 77
        }
      ]
    },
    {
      "cell_type": "code",
      "source": [
        "df = pd.concat([df, df_dummies], axis = 1)\n",
        "\n",
        "df.drop(['grade', 'home_ownership', 'verification_status', 'purpose', 'initial_list_status'], axis=1, inplace=True)"
      ],
      "metadata": {
        "id": "7Q5LZAlEcUmx"
      },
      "execution_count": 78,
      "outputs": []
    },
    {
      "cell_type": "code",
      "source": [
        "df"
      ],
      "metadata": {
        "colab": {
          "base_uri": "https://localhost:8080/",
          "height": 488
        },
        "id": "avWs28lbr5OM",
        "outputId": "309beb36-55f7-4071-848c-897df3cdfd3f"
      },
      "execution_count": 79,
      "outputs": [
        {
          "output_type": "execute_result",
          "data": {
            "text/plain": [
              "        loan_amnt  term  int_rate  installment  emp_length  annual_inc    dti  \\\n",
              "42535       27050    36     10.99       885.46        10.0     55000.0  22.87   \n",
              "42536        9750    36     13.98       333.14         1.0     26000.0  25.12   \n",
              "42537       12000    36      6.62       368.45        10.0    105000.0  14.05   \n",
              "42538       12000    36     13.53       407.40        10.0     40000.0  16.94   \n",
              "42539       15000    36      8.90       476.30         2.0     63000.0  16.51   \n",
              "...           ...   ...       ...          ...         ...         ...    ...   \n",
              "466278      10000    36     18.25       362.78        10.0     42000.0  11.57   \n",
              "466279      15000    36     13.53       509.25         4.0     66000.0  16.22   \n",
              "466280      18400    60     14.47       432.64         4.0    110000.0  19.85   \n",
              "466281      22000    60     19.97       582.50        10.0     78000.0  18.45   \n",
              "466284      10000    36     19.20       367.58        10.0     46000.0  22.78   \n",
              "\n",
              "        delinq_2yrs  inq_last_6mths  open_acc  ...  purpose:major_purchase  \\\n",
              "42535           0.0             0.0      14.0  ...                       0   \n",
              "42536           0.0             0.0      12.0  ...                       0   \n",
              "42537           0.0             1.0      12.0  ...                       0   \n",
              "42538           0.0             0.0       7.0  ...                       0   \n",
              "42539           0.0             0.0       8.0  ...                       0   \n",
              "...             ...             ...       ...  ...                     ...   \n",
              "466278          0.0             0.0       9.0  ...                       0   \n",
              "466279          0.0             0.0       8.0  ...                       0   \n",
              "466280          0.0             2.0      18.0  ...                       0   \n",
              "466281          0.0             5.0      18.0  ...                       0   \n",
              "466284          1.0             0.0       6.0  ...                       0   \n",
              "\n",
              "        purpose:medical  purpose:moving  purpose:other  \\\n",
              "42535                 0               0              0   \n",
              "42536                 0               0              0   \n",
              "42537                 0               0              0   \n",
              "42538                 0               0              0   \n",
              "42539                 0               0              0   \n",
              "...                 ...             ...            ...   \n",
              "466278                0               0              0   \n",
              "466279                0               0              0   \n",
              "466280                0               0              0   \n",
              "466281                0               0              0   \n",
              "466284                0               0              1   \n",
              "\n",
              "        purpose:renewable_energy  purpose:small_business  purpose:vacation  \\\n",
              "42535                          0                       0                 0   \n",
              "42536                          0                       0                 0   \n",
              "42537                          0                       0                 0   \n",
              "42538                          0                       0                 0   \n",
              "42539                          0                       0                 0   \n",
              "...                          ...                     ...               ...   \n",
              "466278                         0                       0                 1   \n",
              "466279                         0                       0                 0   \n",
              "466280                         0                       0                 0   \n",
              "466281                         0                       0                 0   \n",
              "466284                         0                       0                 0   \n",
              "\n",
              "        purpose:wedding  initial_list_status:f  initial_list_status:w  \n",
              "42535                 0                      0                      1  \n",
              "42536                 0                      1                      0  \n",
              "42537                 0                      0                      1  \n",
              "42538                 0                      0                      1  \n",
              "42539                 0                      0                      1  \n",
              "...                 ...                    ...                    ...  \n",
              "466278                0                      1                      0  \n",
              "466279                0                      0                      1  \n",
              "466280                0                      0                      1  \n",
              "466281                0                      1                      0  \n",
              "466284                0                      1                      0  \n",
              "\n",
              "[287009 rows x 59 columns]"
            ],
            "text/html": [
              "\n",
              "  <div id=\"df-45e2eb66-e816-4afb-a728-9282d74985e5\">\n",
              "    <div class=\"colab-df-container\">\n",
              "      <div>\n",
              "<style scoped>\n",
              "    .dataframe tbody tr th:only-of-type {\n",
              "        vertical-align: middle;\n",
              "    }\n",
              "\n",
              "    .dataframe tbody tr th {\n",
              "        vertical-align: top;\n",
              "    }\n",
              "\n",
              "    .dataframe thead th {\n",
              "        text-align: right;\n",
              "    }\n",
              "</style>\n",
              "<table border=\"1\" class=\"dataframe\">\n",
              "  <thead>\n",
              "    <tr style=\"text-align: right;\">\n",
              "      <th></th>\n",
              "      <th>loan_amnt</th>\n",
              "      <th>term</th>\n",
              "      <th>int_rate</th>\n",
              "      <th>installment</th>\n",
              "      <th>emp_length</th>\n",
              "      <th>annual_inc</th>\n",
              "      <th>dti</th>\n",
              "      <th>delinq_2yrs</th>\n",
              "      <th>inq_last_6mths</th>\n",
              "      <th>open_acc</th>\n",
              "      <th>...</th>\n",
              "      <th>purpose:major_purchase</th>\n",
              "      <th>purpose:medical</th>\n",
              "      <th>purpose:moving</th>\n",
              "      <th>purpose:other</th>\n",
              "      <th>purpose:renewable_energy</th>\n",
              "      <th>purpose:small_business</th>\n",
              "      <th>purpose:vacation</th>\n",
              "      <th>purpose:wedding</th>\n",
              "      <th>initial_list_status:f</th>\n",
              "      <th>initial_list_status:w</th>\n",
              "    </tr>\n",
              "  </thead>\n",
              "  <tbody>\n",
              "    <tr>\n",
              "      <th>42535</th>\n",
              "      <td>27050</td>\n",
              "      <td>36</td>\n",
              "      <td>10.99</td>\n",
              "      <td>885.46</td>\n",
              "      <td>10.0</td>\n",
              "      <td>55000.0</td>\n",
              "      <td>22.87</td>\n",
              "      <td>0.0</td>\n",
              "      <td>0.0</td>\n",
              "      <td>14.0</td>\n",
              "      <td>...</td>\n",
              "      <td>0</td>\n",
              "      <td>0</td>\n",
              "      <td>0</td>\n",
              "      <td>0</td>\n",
              "      <td>0</td>\n",
              "      <td>0</td>\n",
              "      <td>0</td>\n",
              "      <td>0</td>\n",
              "      <td>0</td>\n",
              "      <td>1</td>\n",
              "    </tr>\n",
              "    <tr>\n",
              "      <th>42536</th>\n",
              "      <td>9750</td>\n",
              "      <td>36</td>\n",
              "      <td>13.98</td>\n",
              "      <td>333.14</td>\n",
              "      <td>1.0</td>\n",
              "      <td>26000.0</td>\n",
              "      <td>25.12</td>\n",
              "      <td>0.0</td>\n",
              "      <td>0.0</td>\n",
              "      <td>12.0</td>\n",
              "      <td>...</td>\n",
              "      <td>0</td>\n",
              "      <td>0</td>\n",
              "      <td>0</td>\n",
              "      <td>0</td>\n",
              "      <td>0</td>\n",
              "      <td>0</td>\n",
              "      <td>0</td>\n",
              "      <td>0</td>\n",
              "      <td>1</td>\n",
              "      <td>0</td>\n",
              "    </tr>\n",
              "    <tr>\n",
              "      <th>42537</th>\n",
              "      <td>12000</td>\n",
              "      <td>36</td>\n",
              "      <td>6.62</td>\n",
              "      <td>368.45</td>\n",
              "      <td>10.0</td>\n",
              "      <td>105000.0</td>\n",
              "      <td>14.05</td>\n",
              "      <td>0.0</td>\n",
              "      <td>1.0</td>\n",
              "      <td>12.0</td>\n",
              "      <td>...</td>\n",
              "      <td>0</td>\n",
              "      <td>0</td>\n",
              "      <td>0</td>\n",
              "      <td>0</td>\n",
              "      <td>0</td>\n",
              "      <td>0</td>\n",
              "      <td>0</td>\n",
              "      <td>0</td>\n",
              "      <td>0</td>\n",
              "      <td>1</td>\n",
              "    </tr>\n",
              "    <tr>\n",
              "      <th>42538</th>\n",
              "      <td>12000</td>\n",
              "      <td>36</td>\n",
              "      <td>13.53</td>\n",
              "      <td>407.40</td>\n",
              "      <td>10.0</td>\n",
              "      <td>40000.0</td>\n",
              "      <td>16.94</td>\n",
              "      <td>0.0</td>\n",
              "      <td>0.0</td>\n",
              "      <td>7.0</td>\n",
              "      <td>...</td>\n",
              "      <td>0</td>\n",
              "      <td>0</td>\n",
              "      <td>0</td>\n",
              "      <td>0</td>\n",
              "      <td>0</td>\n",
              "      <td>0</td>\n",
              "      <td>0</td>\n",
              "      <td>0</td>\n",
              "      <td>0</td>\n",
              "      <td>1</td>\n",
              "    </tr>\n",
              "    <tr>\n",
              "      <th>42539</th>\n",
              "      <td>15000</td>\n",
              "      <td>36</td>\n",
              "      <td>8.90</td>\n",
              "      <td>476.30</td>\n",
              "      <td>2.0</td>\n",
              "      <td>63000.0</td>\n",
              "      <td>16.51</td>\n",
              "      <td>0.0</td>\n",
              "      <td>0.0</td>\n",
              "      <td>8.0</td>\n",
              "      <td>...</td>\n",
              "      <td>0</td>\n",
              "      <td>0</td>\n",
              "      <td>0</td>\n",
              "      <td>0</td>\n",
              "      <td>0</td>\n",
              "      <td>0</td>\n",
              "      <td>0</td>\n",
              "      <td>0</td>\n",
              "      <td>0</td>\n",
              "      <td>1</td>\n",
              "    </tr>\n",
              "    <tr>\n",
              "      <th>...</th>\n",
              "      <td>...</td>\n",
              "      <td>...</td>\n",
              "      <td>...</td>\n",
              "      <td>...</td>\n",
              "      <td>...</td>\n",
              "      <td>...</td>\n",
              "      <td>...</td>\n",
              "      <td>...</td>\n",
              "      <td>...</td>\n",
              "      <td>...</td>\n",
              "      <td>...</td>\n",
              "      <td>...</td>\n",
              "      <td>...</td>\n",
              "      <td>...</td>\n",
              "      <td>...</td>\n",
              "      <td>...</td>\n",
              "      <td>...</td>\n",
              "      <td>...</td>\n",
              "      <td>...</td>\n",
              "      <td>...</td>\n",
              "      <td>...</td>\n",
              "    </tr>\n",
              "    <tr>\n",
              "      <th>466278</th>\n",
              "      <td>10000</td>\n",
              "      <td>36</td>\n",
              "      <td>18.25</td>\n",
              "      <td>362.78</td>\n",
              "      <td>10.0</td>\n",
              "      <td>42000.0</td>\n",
              "      <td>11.57</td>\n",
              "      <td>0.0</td>\n",
              "      <td>0.0</td>\n",
              "      <td>9.0</td>\n",
              "      <td>...</td>\n",
              "      <td>0</td>\n",
              "      <td>0</td>\n",
              "      <td>0</td>\n",
              "      <td>0</td>\n",
              "      <td>0</td>\n",
              "      <td>0</td>\n",
              "      <td>1</td>\n",
              "      <td>0</td>\n",
              "      <td>1</td>\n",
              "      <td>0</td>\n",
              "    </tr>\n",
              "    <tr>\n",
              "      <th>466279</th>\n",
              "      <td>15000</td>\n",
              "      <td>36</td>\n",
              "      <td>13.53</td>\n",
              "      <td>509.25</td>\n",
              "      <td>4.0</td>\n",
              "      <td>66000.0</td>\n",
              "      <td>16.22</td>\n",
              "      <td>0.0</td>\n",
              "      <td>0.0</td>\n",
              "      <td>8.0</td>\n",
              "      <td>...</td>\n",
              "      <td>0</td>\n",
              "      <td>0</td>\n",
              "      <td>0</td>\n",
              "      <td>0</td>\n",
              "      <td>0</td>\n",
              "      <td>0</td>\n",
              "      <td>0</td>\n",
              "      <td>0</td>\n",
              "      <td>0</td>\n",
              "      <td>1</td>\n",
              "    </tr>\n",
              "    <tr>\n",
              "      <th>466280</th>\n",
              "      <td>18400</td>\n",
              "      <td>60</td>\n",
              "      <td>14.47</td>\n",
              "      <td>432.64</td>\n",
              "      <td>4.0</td>\n",
              "      <td>110000.0</td>\n",
              "      <td>19.85</td>\n",
              "      <td>0.0</td>\n",
              "      <td>2.0</td>\n",
              "      <td>18.0</td>\n",
              "      <td>...</td>\n",
              "      <td>0</td>\n",
              "      <td>0</td>\n",
              "      <td>0</td>\n",
              "      <td>0</td>\n",
              "      <td>0</td>\n",
              "      <td>0</td>\n",
              "      <td>0</td>\n",
              "      <td>0</td>\n",
              "      <td>0</td>\n",
              "      <td>1</td>\n",
              "    </tr>\n",
              "    <tr>\n",
              "      <th>466281</th>\n",
              "      <td>22000</td>\n",
              "      <td>60</td>\n",
              "      <td>19.97</td>\n",
              "      <td>582.50</td>\n",
              "      <td>10.0</td>\n",
              "      <td>78000.0</td>\n",
              "      <td>18.45</td>\n",
              "      <td>0.0</td>\n",
              "      <td>5.0</td>\n",
              "      <td>18.0</td>\n",
              "      <td>...</td>\n",
              "      <td>0</td>\n",
              "      <td>0</td>\n",
              "      <td>0</td>\n",
              "      <td>0</td>\n",
              "      <td>0</td>\n",
              "      <td>0</td>\n",
              "      <td>0</td>\n",
              "      <td>0</td>\n",
              "      <td>1</td>\n",
              "      <td>0</td>\n",
              "    </tr>\n",
              "    <tr>\n",
              "      <th>466284</th>\n",
              "      <td>10000</td>\n",
              "      <td>36</td>\n",
              "      <td>19.20</td>\n",
              "      <td>367.58</td>\n",
              "      <td>10.0</td>\n",
              "      <td>46000.0</td>\n",
              "      <td>22.78</td>\n",
              "      <td>1.0</td>\n",
              "      <td>0.0</td>\n",
              "      <td>6.0</td>\n",
              "      <td>...</td>\n",
              "      <td>0</td>\n",
              "      <td>0</td>\n",
              "      <td>0</td>\n",
              "      <td>1</td>\n",
              "      <td>0</td>\n",
              "      <td>0</td>\n",
              "      <td>0</td>\n",
              "      <td>0</td>\n",
              "      <td>1</td>\n",
              "      <td>0</td>\n",
              "    </tr>\n",
              "  </tbody>\n",
              "</table>\n",
              "<p>287009 rows × 59 columns</p>\n",
              "</div>\n",
              "      <button class=\"colab-df-convert\" onclick=\"convertToInteractive('df-45e2eb66-e816-4afb-a728-9282d74985e5')\"\n",
              "              title=\"Convert this dataframe to an interactive table.\"\n",
              "              style=\"display:none;\">\n",
              "        \n",
              "  <svg xmlns=\"http://www.w3.org/2000/svg\" height=\"24px\"viewBox=\"0 0 24 24\"\n",
              "       width=\"24px\">\n",
              "    <path d=\"M0 0h24v24H0V0z\" fill=\"none\"/>\n",
              "    <path d=\"M18.56 5.44l.94 2.06.94-2.06 2.06-.94-2.06-.94-.94-2.06-.94 2.06-2.06.94zm-11 1L8.5 8.5l.94-2.06 2.06-.94-2.06-.94L8.5 2.5l-.94 2.06-2.06.94zm10 10l.94 2.06.94-2.06 2.06-.94-2.06-.94-.94-2.06-.94 2.06-2.06.94z\"/><path d=\"M17.41 7.96l-1.37-1.37c-.4-.4-.92-.59-1.43-.59-.52 0-1.04.2-1.43.59L10.3 9.45l-7.72 7.72c-.78.78-.78 2.05 0 2.83L4 21.41c.39.39.9.59 1.41.59.51 0 1.02-.2 1.41-.59l7.78-7.78 2.81-2.81c.8-.78.8-2.07 0-2.86zM5.41 20L4 18.59l7.72-7.72 1.47 1.35L5.41 20z\"/>\n",
              "  </svg>\n",
              "      </button>\n",
              "      \n",
              "  <style>\n",
              "    .colab-df-container {\n",
              "      display:flex;\n",
              "      flex-wrap:wrap;\n",
              "      gap: 12px;\n",
              "    }\n",
              "\n",
              "    .colab-df-convert {\n",
              "      background-color: #E8F0FE;\n",
              "      border: none;\n",
              "      border-radius: 50%;\n",
              "      cursor: pointer;\n",
              "      display: none;\n",
              "      fill: #1967D2;\n",
              "      height: 32px;\n",
              "      padding: 0 0 0 0;\n",
              "      width: 32px;\n",
              "    }\n",
              "\n",
              "    .colab-df-convert:hover {\n",
              "      background-color: #E2EBFA;\n",
              "      box-shadow: 0px 1px 2px rgba(60, 64, 67, 0.3), 0px 1px 3px 1px rgba(60, 64, 67, 0.15);\n",
              "      fill: #174EA6;\n",
              "    }\n",
              "\n",
              "    [theme=dark] .colab-df-convert {\n",
              "      background-color: #3B4455;\n",
              "      fill: #D2E3FC;\n",
              "    }\n",
              "\n",
              "    [theme=dark] .colab-df-convert:hover {\n",
              "      background-color: #434B5C;\n",
              "      box-shadow: 0px 1px 3px 1px rgba(0, 0, 0, 0.15);\n",
              "      filter: drop-shadow(0px 1px 2px rgba(0, 0, 0, 0.3));\n",
              "      fill: #FFFFFF;\n",
              "    }\n",
              "  </style>\n",
              "\n",
              "      <script>\n",
              "        const buttonEl =\n",
              "          document.querySelector('#df-45e2eb66-e816-4afb-a728-9282d74985e5 button.colab-df-convert');\n",
              "        buttonEl.style.display =\n",
              "          google.colab.kernel.accessAllowed ? 'block' : 'none';\n",
              "\n",
              "        async function convertToInteractive(key) {\n",
              "          const element = document.querySelector('#df-45e2eb66-e816-4afb-a728-9282d74985e5');\n",
              "          const dataTable =\n",
              "            await google.colab.kernel.invokeFunction('convertToInteractive',\n",
              "                                                     [key], {});\n",
              "          if (!dataTable) return;\n",
              "\n",
              "          const docLinkHtml = 'Like what you see? Visit the ' +\n",
              "            '<a target=\"_blank\" href=https://colab.research.google.com/notebooks/data_table.ipynb>data table notebook</a>'\n",
              "            + ' to learn more about interactive tables.';\n",
              "          element.innerHTML = '';\n",
              "          dataTable['output_type'] = 'display_data';\n",
              "          await google.colab.output.renderOutput(dataTable, element);\n",
              "          const docLink = document.createElement('div');\n",
              "          docLink.innerHTML = docLinkHtml;\n",
              "          element.appendChild(docLink);\n",
              "        }\n",
              "      </script>\n",
              "    </div>\n",
              "  </div>\n",
              "  "
            ]
          },
          "metadata": {},
          "execution_count": 79
        }
      ]
    },
    {
      "cell_type": "code",
      "source": [
        "df.info()"
      ],
      "metadata": {
        "colab": {
          "base_uri": "https://localhost:8080/"
        },
        "id": "3S9vnUDQcXMX",
        "outputId": "3c267f5b-cebe-4107-f646-6d49d1490e07"
      },
      "execution_count": 80,
      "outputs": [
        {
          "output_type": "stream",
          "name": "stdout",
          "text": [
            "<class 'pandas.core.frame.DataFrame'>\n",
            "Int64Index: 287009 entries, 42535 to 466284\n",
            "Data columns (total 59 columns):\n",
            " #   Column                               Non-Null Count   Dtype  \n",
            "---  ------                               --------------   -----  \n",
            " 0   loan_amnt                            287009 non-null  int64  \n",
            " 1   term                                 287009 non-null  int64  \n",
            " 2   int_rate                             287009 non-null  float64\n",
            " 3   installment                          287009 non-null  float64\n",
            " 4   emp_length                           287009 non-null  float64\n",
            " 5   annual_inc                           287009 non-null  float64\n",
            " 6   dti                                  287009 non-null  float64\n",
            " 7   delinq_2yrs                          287009 non-null  float64\n",
            " 8   inq_last_6mths                       287009 non-null  float64\n",
            " 9   open_acc                             287009 non-null  float64\n",
            " 10  pub_rec                              287009 non-null  float64\n",
            " 11  revol_bal                            287009 non-null  int64  \n",
            " 12  revol_util                           287009 non-null  float64\n",
            " 13  total_acc                            287009 non-null  float64\n",
            " 14  out_prncp                            287009 non-null  float64\n",
            " 15  total_pymnt                          287009 non-null  float64\n",
            " 16  total_rec_int                        287009 non-null  float64\n",
            " 17  last_pymnt_amnt                      287009 non-null  float64\n",
            " 18  collections_12_mths_ex_med           287009 non-null  float64\n",
            " 19  acc_now_delinq                       287009 non-null  float64\n",
            " 20  tot_coll_amt                         287009 non-null  float64\n",
            " 21  tot_cur_bal                          287009 non-null  float64\n",
            " 22  total_rev_hi_lim                     287009 non-null  float64\n",
            " 23  good_bad                             287009 non-null  int64  \n",
            " 24  mths_since_issue_d                   287009 non-null  float64\n",
            " 25  mths_since_earliest_cr_line          287009 non-null  float64\n",
            " 26  mths_since_last_pymnt_d              287009 non-null  float64\n",
            " 27  mths_since_last_credit_pull_d        287009 non-null  float64\n",
            " 28  grade:A                              287009 non-null  uint8  \n",
            " 29  grade:B                              287009 non-null  uint8  \n",
            " 30  grade:C                              287009 non-null  uint8  \n",
            " 31  grade:D                              287009 non-null  uint8  \n",
            " 32  grade:E                              287009 non-null  uint8  \n",
            " 33  grade:F                              287009 non-null  uint8  \n",
            " 34  grade:G                              287009 non-null  uint8  \n",
            " 35  home_ownership:ANY                   287009 non-null  uint8  \n",
            " 36  home_ownership:MORTGAGE              287009 non-null  uint8  \n",
            " 37  home_ownership:NONE                  287009 non-null  uint8  \n",
            " 38  home_ownership:OTHER                 287009 non-null  uint8  \n",
            " 39  home_ownership:OWN                   287009 non-null  uint8  \n",
            " 40  home_ownership:RENT                  287009 non-null  uint8  \n",
            " 41  verification_status:Not Verified     287009 non-null  uint8  \n",
            " 42  verification_status:Source Verified  287009 non-null  uint8  \n",
            " 43  verification_status:Verified         287009 non-null  uint8  \n",
            " 44  purpose:car                          287009 non-null  uint8  \n",
            " 45  purpose:credit_card                  287009 non-null  uint8  \n",
            " 46  purpose:debt_consolidation           287009 non-null  uint8  \n",
            " 47  purpose:home_improvement             287009 non-null  uint8  \n",
            " 48  purpose:house                        287009 non-null  uint8  \n",
            " 49  purpose:major_purchase               287009 non-null  uint8  \n",
            " 50  purpose:medical                      287009 non-null  uint8  \n",
            " 51  purpose:moving                       287009 non-null  uint8  \n",
            " 52  purpose:other                        287009 non-null  uint8  \n",
            " 53  purpose:renewable_energy             287009 non-null  uint8  \n",
            " 54  purpose:small_business               287009 non-null  uint8  \n",
            " 55  purpose:vacation                     287009 non-null  uint8  \n",
            " 56  purpose:wedding                      287009 non-null  uint8  \n",
            " 57  initial_list_status:f                287009 non-null  uint8  \n",
            " 58  initial_list_status:w                287009 non-null  uint8  \n",
            "dtypes: float64(24), int64(4), uint8(31)\n",
            "memory usage: 72.0 MB\n"
          ]
        }
      ]
    },
    {
      "cell_type": "markdown",
      "source": [
        "## Scaling Menggunakan MinMax Scaler"
      ],
      "metadata": {
        "id": "lfg1lpQwjwJ9"
      }
    },
    {
      "cell_type": "code",
      "source": [
        "# melakukan normalisasi untuk kolom numerikal\n",
        "from sklearn.preprocessing import MinMaxScaler\n",
        "\n",
        "mm = MinMaxScaler()\n",
        "df[['loan_amnt']] = mm.fit_transform(df[['loan_amnt']])\n",
        "df[['term']] = mm.fit_transform(df[['term']])\n",
        "df[['int_rate']] = mm.fit_transform(df[['int_rate']])\n",
        "df[['installment']] = mm.fit_transform(df[['installment']])\n",
        "df[['emp_length']] = mm.fit_transform(df[['emp_length']])\n",
        "df[['annual_inc']] = mm.fit_transform(df[['annual_inc']])\n",
        "df[['dti']] = mm.fit_transform(df[['dti']])\n",
        "df[['delinq_2yrs']] = mm.fit_transform(df[['delinq_2yrs']])\n",
        "df[['inq_last_6mths']] = mm.fit_transform(df[['inq_last_6mths']])\n",
        "df[['open_acc']] = mm.fit_transform(df[['open_acc']])\n",
        "df[['pub_rec']] = mm.fit_transform(df[['pub_rec']])\n",
        "df[['revol_bal']] = mm.fit_transform(df[['revol_bal']])\n",
        "df[['revol_util']] = mm.fit_transform(df[['revol_util']])\n",
        "df[['total_acc']] = mm.fit_transform(df[['total_acc']])\n",
        "df[['out_prncp']] = mm.fit_transform(df[['out_prncp']])\n",
        "df[['total_pymnt']] = mm.fit_transform(df[['total_pymnt']])\n",
        "df[['total_rec_int']] = mm.fit_transform(df[['total_rec_int']])\n",
        "df[['last_pymnt_amnt']] = mm.fit_transform(df[['last_pymnt_amnt']])\n",
        "df[['collections_12_mths_ex_med']] = mm.fit_transform(df[['collections_12_mths_ex_med']])\n",
        "df[['acc_now_delinq']] = mm.fit_transform(df[['acc_now_delinq']])\n",
        "df[['tot_coll_amt']] = mm.fit_transform(df[['tot_coll_amt']])\n",
        "df[['tot_cur_bal']] = mm.fit_transform(df[['tot_cur_bal']])\n",
        "df[['total_rev_hi_lim']] = mm.fit_transform(df[['total_rev_hi_lim']])\n",
        "df[['mths_since_issue_d']] = mm.fit_transform(df[['mths_since_issue_d']])\n",
        "df[['mths_since_earliest_cr_line']] = mm.fit_transform(df[['mths_since_earliest_cr_line']])\n",
        "df[['mths_since_last_pymnt_d']] = mm.fit_transform(df[['mths_since_last_pymnt_d']])\n",
        "df[['mths_since_last_credit_pull_d']] = mm.fit_transform(df[['mths_since_last_credit_pull_d']])"
      ],
      "metadata": {
        "id": "jde7_h1CJd5-"
      },
      "execution_count": 85,
      "outputs": []
    },
    {
      "cell_type": "code",
      "source": [
        "df.head()"
      ],
      "metadata": {
        "colab": {
          "base_uri": "https://localhost:8080/",
          "height": 299
        },
        "id": "DvpPKioN6Qsv",
        "outputId": "0cfea9f2-07ec-43ba-8360-98b558000351"
      },
      "execution_count": 86,
      "outputs": [
        {
          "output_type": "execute_result",
          "data": {
            "text/plain": [
              "       loan_amnt  term  int_rate  installment  emp_length  annual_inc  \\\n",
              "42535   0.766176   0.0  0.248754     0.623089         1.0    0.338107   \n",
              "42536   0.257353   0.0  0.397807     0.223942         0.1    0.145850   \n",
              "42537   0.323529   0.0  0.030907     0.249460         1.0    0.669584   \n",
              "42538   0.323529   0.0  0.375374     0.277608         1.0    0.238663   \n",
              "42539   0.411765   0.0  0.144566     0.327400         0.2    0.391143   \n",
              "\n",
              "            dti  delinq_2yrs  inq_last_6mths  open_acc  ...  \\\n",
              "42535  0.571893          0.0        0.000000  0.245283  ...   \n",
              "42536  0.628157          0.0        0.000000  0.207547  ...   \n",
              "42537  0.351338          0.0        0.142857  0.207547  ...   \n",
              "42538  0.423606          0.0        0.000000  0.113208  ...   \n",
              "42539  0.412853          0.0        0.000000  0.132075  ...   \n",
              "\n",
              "       purpose:major_purchase  purpose:medical  purpose:moving  purpose:other  \\\n",
              "42535                       0                0               0              0   \n",
              "42536                       0                0               0              0   \n",
              "42537                       0                0               0              0   \n",
              "42538                       0                0               0              0   \n",
              "42539                       0                0               0              0   \n",
              "\n",
              "       purpose:renewable_energy  purpose:small_business  purpose:vacation  \\\n",
              "42535                         0                       0                 0   \n",
              "42536                         0                       0                 0   \n",
              "42537                         0                       0                 0   \n",
              "42538                         0                       0                 0   \n",
              "42539                         0                       0                 0   \n",
              "\n",
              "       purpose:wedding  initial_list_status:f  initial_list_status:w  \n",
              "42535                0                      0                      1  \n",
              "42536                0                      1                      0  \n",
              "42537                0                      0                      1  \n",
              "42538                0                      0                      1  \n",
              "42539                0                      0                      1  \n",
              "\n",
              "[5 rows x 59 columns]"
            ],
            "text/html": [
              "\n",
              "  <div id=\"df-f3692310-e4c8-4d3b-a98f-0b379ca55623\">\n",
              "    <div class=\"colab-df-container\">\n",
              "      <div>\n",
              "<style scoped>\n",
              "    .dataframe tbody tr th:only-of-type {\n",
              "        vertical-align: middle;\n",
              "    }\n",
              "\n",
              "    .dataframe tbody tr th {\n",
              "        vertical-align: top;\n",
              "    }\n",
              "\n",
              "    .dataframe thead th {\n",
              "        text-align: right;\n",
              "    }\n",
              "</style>\n",
              "<table border=\"1\" class=\"dataframe\">\n",
              "  <thead>\n",
              "    <tr style=\"text-align: right;\">\n",
              "      <th></th>\n",
              "      <th>loan_amnt</th>\n",
              "      <th>term</th>\n",
              "      <th>int_rate</th>\n",
              "      <th>installment</th>\n",
              "      <th>emp_length</th>\n",
              "      <th>annual_inc</th>\n",
              "      <th>dti</th>\n",
              "      <th>delinq_2yrs</th>\n",
              "      <th>inq_last_6mths</th>\n",
              "      <th>open_acc</th>\n",
              "      <th>...</th>\n",
              "      <th>purpose:major_purchase</th>\n",
              "      <th>purpose:medical</th>\n",
              "      <th>purpose:moving</th>\n",
              "      <th>purpose:other</th>\n",
              "      <th>purpose:renewable_energy</th>\n",
              "      <th>purpose:small_business</th>\n",
              "      <th>purpose:vacation</th>\n",
              "      <th>purpose:wedding</th>\n",
              "      <th>initial_list_status:f</th>\n",
              "      <th>initial_list_status:w</th>\n",
              "    </tr>\n",
              "  </thead>\n",
              "  <tbody>\n",
              "    <tr>\n",
              "      <th>42535</th>\n",
              "      <td>0.766176</td>\n",
              "      <td>0.0</td>\n",
              "      <td>0.248754</td>\n",
              "      <td>0.623089</td>\n",
              "      <td>1.0</td>\n",
              "      <td>0.338107</td>\n",
              "      <td>0.571893</td>\n",
              "      <td>0.0</td>\n",
              "      <td>0.000000</td>\n",
              "      <td>0.245283</td>\n",
              "      <td>...</td>\n",
              "      <td>0</td>\n",
              "      <td>0</td>\n",
              "      <td>0</td>\n",
              "      <td>0</td>\n",
              "      <td>0</td>\n",
              "      <td>0</td>\n",
              "      <td>0</td>\n",
              "      <td>0</td>\n",
              "      <td>0</td>\n",
              "      <td>1</td>\n",
              "    </tr>\n",
              "    <tr>\n",
              "      <th>42536</th>\n",
              "      <td>0.257353</td>\n",
              "      <td>0.0</td>\n",
              "      <td>0.397807</td>\n",
              "      <td>0.223942</td>\n",
              "      <td>0.1</td>\n",
              "      <td>0.145850</td>\n",
              "      <td>0.628157</td>\n",
              "      <td>0.0</td>\n",
              "      <td>0.000000</td>\n",
              "      <td>0.207547</td>\n",
              "      <td>...</td>\n",
              "      <td>0</td>\n",
              "      <td>0</td>\n",
              "      <td>0</td>\n",
              "      <td>0</td>\n",
              "      <td>0</td>\n",
              "      <td>0</td>\n",
              "      <td>0</td>\n",
              "      <td>0</td>\n",
              "      <td>1</td>\n",
              "      <td>0</td>\n",
              "    </tr>\n",
              "    <tr>\n",
              "      <th>42537</th>\n",
              "      <td>0.323529</td>\n",
              "      <td>0.0</td>\n",
              "      <td>0.030907</td>\n",
              "      <td>0.249460</td>\n",
              "      <td>1.0</td>\n",
              "      <td>0.669584</td>\n",
              "      <td>0.351338</td>\n",
              "      <td>0.0</td>\n",
              "      <td>0.142857</td>\n",
              "      <td>0.207547</td>\n",
              "      <td>...</td>\n",
              "      <td>0</td>\n",
              "      <td>0</td>\n",
              "      <td>0</td>\n",
              "      <td>0</td>\n",
              "      <td>0</td>\n",
              "      <td>0</td>\n",
              "      <td>0</td>\n",
              "      <td>0</td>\n",
              "      <td>0</td>\n",
              "      <td>1</td>\n",
              "    </tr>\n",
              "    <tr>\n",
              "      <th>42538</th>\n",
              "      <td>0.323529</td>\n",
              "      <td>0.0</td>\n",
              "      <td>0.375374</td>\n",
              "      <td>0.277608</td>\n",
              "      <td>1.0</td>\n",
              "      <td>0.238663</td>\n",
              "      <td>0.423606</td>\n",
              "      <td>0.0</td>\n",
              "      <td>0.000000</td>\n",
              "      <td>0.113208</td>\n",
              "      <td>...</td>\n",
              "      <td>0</td>\n",
              "      <td>0</td>\n",
              "      <td>0</td>\n",
              "      <td>0</td>\n",
              "      <td>0</td>\n",
              "      <td>0</td>\n",
              "      <td>0</td>\n",
              "      <td>0</td>\n",
              "      <td>0</td>\n",
              "      <td>1</td>\n",
              "    </tr>\n",
              "    <tr>\n",
              "      <th>42539</th>\n",
              "      <td>0.411765</td>\n",
              "      <td>0.0</td>\n",
              "      <td>0.144566</td>\n",
              "      <td>0.327400</td>\n",
              "      <td>0.2</td>\n",
              "      <td>0.391143</td>\n",
              "      <td>0.412853</td>\n",
              "      <td>0.0</td>\n",
              "      <td>0.000000</td>\n",
              "      <td>0.132075</td>\n",
              "      <td>...</td>\n",
              "      <td>0</td>\n",
              "      <td>0</td>\n",
              "      <td>0</td>\n",
              "      <td>0</td>\n",
              "      <td>0</td>\n",
              "      <td>0</td>\n",
              "      <td>0</td>\n",
              "      <td>0</td>\n",
              "      <td>0</td>\n",
              "      <td>1</td>\n",
              "    </tr>\n",
              "  </tbody>\n",
              "</table>\n",
              "<p>5 rows × 59 columns</p>\n",
              "</div>\n",
              "      <button class=\"colab-df-convert\" onclick=\"convertToInteractive('df-f3692310-e4c8-4d3b-a98f-0b379ca55623')\"\n",
              "              title=\"Convert this dataframe to an interactive table.\"\n",
              "              style=\"display:none;\">\n",
              "        \n",
              "  <svg xmlns=\"http://www.w3.org/2000/svg\" height=\"24px\"viewBox=\"0 0 24 24\"\n",
              "       width=\"24px\">\n",
              "    <path d=\"M0 0h24v24H0V0z\" fill=\"none\"/>\n",
              "    <path d=\"M18.56 5.44l.94 2.06.94-2.06 2.06-.94-2.06-.94-.94-2.06-.94 2.06-2.06.94zm-11 1L8.5 8.5l.94-2.06 2.06-.94-2.06-.94L8.5 2.5l-.94 2.06-2.06.94zm10 10l.94 2.06.94-2.06 2.06-.94-2.06-.94-.94-2.06-.94 2.06-2.06.94z\"/><path d=\"M17.41 7.96l-1.37-1.37c-.4-.4-.92-.59-1.43-.59-.52 0-1.04.2-1.43.59L10.3 9.45l-7.72 7.72c-.78.78-.78 2.05 0 2.83L4 21.41c.39.39.9.59 1.41.59.51 0 1.02-.2 1.41-.59l7.78-7.78 2.81-2.81c.8-.78.8-2.07 0-2.86zM5.41 20L4 18.59l7.72-7.72 1.47 1.35L5.41 20z\"/>\n",
              "  </svg>\n",
              "      </button>\n",
              "      \n",
              "  <style>\n",
              "    .colab-df-container {\n",
              "      display:flex;\n",
              "      flex-wrap:wrap;\n",
              "      gap: 12px;\n",
              "    }\n",
              "\n",
              "    .colab-df-convert {\n",
              "      background-color: #E8F0FE;\n",
              "      border: none;\n",
              "      border-radius: 50%;\n",
              "      cursor: pointer;\n",
              "      display: none;\n",
              "      fill: #1967D2;\n",
              "      height: 32px;\n",
              "      padding: 0 0 0 0;\n",
              "      width: 32px;\n",
              "    }\n",
              "\n",
              "    .colab-df-convert:hover {\n",
              "      background-color: #E2EBFA;\n",
              "      box-shadow: 0px 1px 2px rgba(60, 64, 67, 0.3), 0px 1px 3px 1px rgba(60, 64, 67, 0.15);\n",
              "      fill: #174EA6;\n",
              "    }\n",
              "\n",
              "    [theme=dark] .colab-df-convert {\n",
              "      background-color: #3B4455;\n",
              "      fill: #D2E3FC;\n",
              "    }\n",
              "\n",
              "    [theme=dark] .colab-df-convert:hover {\n",
              "      background-color: #434B5C;\n",
              "      box-shadow: 0px 1px 3px 1px rgba(0, 0, 0, 0.15);\n",
              "      filter: drop-shadow(0px 1px 2px rgba(0, 0, 0, 0.3));\n",
              "      fill: #FFFFFF;\n",
              "    }\n",
              "  </style>\n",
              "\n",
              "      <script>\n",
              "        const buttonEl =\n",
              "          document.querySelector('#df-f3692310-e4c8-4d3b-a98f-0b379ca55623 button.colab-df-convert');\n",
              "        buttonEl.style.display =\n",
              "          google.colab.kernel.accessAllowed ? 'block' : 'none';\n",
              "\n",
              "        async function convertToInteractive(key) {\n",
              "          const element = document.querySelector('#df-f3692310-e4c8-4d3b-a98f-0b379ca55623');\n",
              "          const dataTable =\n",
              "            await google.colab.kernel.invokeFunction('convertToInteractive',\n",
              "                                                     [key], {});\n",
              "          if (!dataTable) return;\n",
              "\n",
              "          const docLinkHtml = 'Like what you see? Visit the ' +\n",
              "            '<a target=\"_blank\" href=https://colab.research.google.com/notebooks/data_table.ipynb>data table notebook</a>'\n",
              "            + ' to learn more about interactive tables.';\n",
              "          element.innerHTML = '';\n",
              "          dataTable['output_type'] = 'display_data';\n",
              "          await google.colab.output.renderOutput(dataTable, element);\n",
              "          const docLink = document.createElement('div');\n",
              "          docLink.innerHTML = docLinkHtml;\n",
              "          element.appendChild(docLink);\n",
              "        }\n",
              "      </script>\n",
              "    </div>\n",
              "  </div>\n",
              "  "
            ]
          },
          "metadata": {},
          "execution_count": 86
        }
      ]
    },
    {
      "cell_type": "markdown",
      "source": [
        "# Train-Test Split"
      ],
      "metadata": {
        "id": "oJsrRSIeFRKk"
      }
    },
    {
      "cell_type": "code",
      "source": [
        "X = df.drop('good_bad', axis = 1)\n",
        "y = df['good_bad']\n",
        "X_train, X_test, y_train, y_test = train_test_split(X, y, test_size = 0.25, random_state = 10)"
      ],
      "metadata": {
        "id": "ohVGeeSWsppd"
      },
      "execution_count": 156,
      "outputs": []
    },
    {
      "cell_type": "code",
      "source": [
        "X_train, X_test = X_train.copy(), X_test.copy()"
      ],
      "metadata": {
        "id": "bc00gRL_H37t"
      },
      "execution_count": 157,
      "outputs": []
    },
    {
      "cell_type": "code",
      "source": [
        "print(y.value_counts())"
      ],
      "metadata": {
        "colab": {
          "base_uri": "https://localhost:8080/"
        },
        "id": "j45xHOQZf0nv",
        "outputId": "0eadc722-0e6a-4195-e9e5-3aaf16291c2e"
      },
      "execution_count": 158,
      "outputs": [
        {
          "output_type": "stream",
          "name": "stdout",
          "text": [
            "1    256038\n",
            "0     30971\n",
            "Name: good_bad, dtype: int64\n"
          ]
        }
      ]
    },
    {
      "cell_type": "code",
      "source": [
        "y_test.value_counts()"
      ],
      "metadata": {
        "colab": {
          "base_uri": "https://localhost:8080/"
        },
        "id": "2NSlqcx_bK2_",
        "outputId": "e211880c-94d9-4663-9ed7-b1689bdb22d1"
      },
      "execution_count": 161,
      "outputs": [
        {
          "output_type": "execute_result",
          "data": {
            "text/plain": [
              "1    64083\n",
              "0     7670\n",
              "Name: good_bad, dtype: int64"
            ]
          },
          "metadata": {},
          "execution_count": 161
        }
      ]
    },
    {
      "cell_type": "code",
      "source": [
        "plt.figure(figsize = (12, 6))\n",
        "\n",
        "plt.title('Persentase Good Bad Loan', size = 13, fontweight = 'bold', color = 'black')\n",
        "labels = 'good', 'bad'\n",
        "plt.pie(y.value_counts(), autopct = '%.0f%%', \n",
        "        textprops = {'color': 'w', 'fontsize': 17}, explode = (0.1,0), shadow = True)\n",
        "plt.legend(labels, loc='lower left', fontsize = 11)\n",
        "\n",
        "plt.savefig('y.png')\n",
        "plt.show()"
      ],
      "metadata": {
        "colab": {
          "base_uri": "https://localhost:8080/",
          "height": 373
        },
        "id": "Kp-T53DWgNKW",
        "outputId": "cd95079a-12c9-4a90-d022-0edf184f7f52"
      },
      "execution_count": 160,
      "outputs": [
        {
          "output_type": "display_data",
          "data": {
            "text/plain": [
              "<Figure size 864x432 with 1 Axes>"
            ],
            "image/png": "[encoded data removed]"
          },
          "metadata": {}
        }
      ]
    },
    {
      "cell_type": "markdown",
      "source": [
        "# Modelling"
      ],
      "metadata": {
        "id": "zL2S2IRHb99O"
      }
    },
    {
      "cell_type": "markdown",
      "source": [
        "## Logistic Regression"
      ],
      "metadata": {
        "id": "GjtYhg_zNECi"
      }
    },
    {
      "cell_type": "code",
      "source": [
        "# Logistic Regression\n",
        "\n",
        "lr = LogisticRegression()\n",
        "lr.fit(X_train, y_train)\n",
        "y_pred_lr = lr.predict(X_test)\n",
        "print('Classification_Report: ')\n",
        "print(classification_report(y_test, y_pred_lr))"
      ],
      "metadata": {
        "colab": {
          "base_uri": "https://localhost:8080/"
        },
        "id": "aVBZgp4aKx5j",
        "outputId": "68971a92-8a06-47b0-84a8-af183d6c3318"
      },
      "execution_count": 179,
      "outputs": [
        {
          "output_type": "stream",
          "name": "stdout",
          "text": [
            "Classification_Report: \n",
            "              precision    recall  f1-score   support\n",
            "\n",
            "           0       0.98      0.79      0.88      7670\n",
            "           1       0.98      1.00      0.99     64083\n",
            "\n",
            "    accuracy                           0.98     71753\n",
            "   macro avg       0.98      0.90      0.93     71753\n",
            "weighted avg       0.98      0.98      0.97     71753\n",
            "\n"
          ]
        },
        {
          "output_type": "stream",
          "name": "stderr",
          "text": [
            "/usr/local/lib/python3.8/dist-packages/sklearn/linear_model/_logistic.py:814: ConvergenceWarning: lbfgs failed to converge (status=1):\n",
            "STOP: TOTAL NO. of ITERATIONS REACHED LIMIT.\n",
            "\n",
            "Increase the number of iterations (max_iter) or scale the data as shown in:\n",
            "    https://scikit-learn.org/stable/modules/preprocessing.html\n",
            "Please also refer to the documentation for alternative solver options:\n",
            "    https://scikit-learn.org/stable/modules/linear_model.html#logistic-regression\n",
            "  n_iter_i = _check_optimize_result(\n"
          ]
        }
      ]
    },
    {
      "cell_type": "code",
      "source": [
        "roc_auc = roc_auc_score(y_test, y_pred_lr)\n",
        "print(\"Area under ROC Curve: \",roc_auc,\"\" )\n",
        "\n",
        "fpr, tpr, _ = roc_curve(y_test, y_pred_lr)\n",
        "plt.plot(fpr, tpr, label = 'auc = ' + str(roc_auc))\n",
        "plt.plot([0, 1], [0,1], color = 'navy', linestyle = '--')\n",
        "plt.xlim([0.0, 1.0])\n",
        "plt.ylim([0.0, 1])\n",
        "plt.xlabel('False Positive Rate')\n",
        "plt.ylabel('True Positive Rate')\n",
        "plt.title('ROC Curve')\n"
      ],
      "metadata": {
        "colab": {
          "base_uri": "https://localhost:8080/",
          "height": 330
        },
        "id": "AxjCTHx5J5WO",
        "outputId": "7e00b748-87eb-44ed-852d-5418b91ce50b"
      },
      "execution_count": 180,
      "outputs": [
        {
          "output_type": "stream",
          "name": "stdout",
          "text": [
            "Area under ROC Curve:  0.8961045375455368 \n"
          ]
        },
        {
          "output_type": "execute_result",
          "data": {
            "text/plain": [
              "Text(0.5, 1.0, 'ROC Curve')"
            ]
          },
          "metadata": {},
          "execution_count": 180
        },
        {
          "output_type": "display_data",
          "data": {
            "text/plain": [
              "<Figure size 432x288 with 1 Axes>"
            ],
            "image/png": "[encoded data removed]"
          },
          "metadata": {
            "needs_background": "light"
          }
        }
      ]
    },
    {
      "cell_type": "code",
      "source": [
        "lr.fit(X / np.std(X, 0), y)\n",
        "importance_lr = pd.DataFrame(data={\n",
        "    'feature': X_train.columns,\n",
        "    'importance': lr.coef_[0]\n",
        "})\n",
        "importance_lr = importance_lr.sort_values(by='importance', ascending=False)\n",
        "importance_lr.head(10)"
      ],
      "metadata": {
        "colab": {
          "base_uri": "https://localhost:8080/",
          "height": 522
        },
        "id": "CW8Dn_WzHSlA",
        "outputId": "688ea3a2-4f09-442e-80db-af1746043b20"
      },
      "execution_count": 166,
      "outputs": [
        {
          "output_type": "stream",
          "name": "stderr",
          "text": [
            "/usr/local/lib/python3.8/dist-packages/sklearn/linear_model/_logistic.py:814: ConvergenceWarning: lbfgs failed to converge (status=1):\n",
            "STOP: TOTAL NO. of ITERATIONS REACHED LIMIT.\n",
            "\n",
            "Increase the number of iterations (max_iter) or scale the data as shown in:\n",
            "    https://scikit-learn.org/stable/modules/preprocessing.html\n",
            "Please also refer to the documentation for alternative solver options:\n",
            "    https://scikit-learn.org/stable/modules/linear_model.html#logistic-regression\n",
            "  n_iter_i = _check_optimize_result(\n"
          ]
        },
        {
          "output_type": "execute_result",
          "data": {
            "text/plain": [
              "                          feature  importance\n",
              "15                    total_pymnt   19.355455\n",
              "14                      out_prncp   14.243698\n",
              "17                last_pymnt_amnt   12.216939\n",
              "26  mths_since_last_credit_pull_d    1.247823\n",
              "56          initial_list_status:f    0.257514\n",
              "20                   tot_coll_amt    0.249550\n",
              "57          initial_list_status:w    0.248308\n",
              "35        home_ownership:MORTGAGE    0.231539\n",
              "31                        grade:E    0.218675\n",
              "39            home_ownership:RENT    0.197426"
            ],
            "text/html": [
              "\n",
              "  <div id=\"df-5834d853-4d4d-4d10-9ade-2088c67ec69f\">\n",
              "    <div class=\"colab-df-container\">\n",
              "      <div>\n",
              "<style scoped>\n",
              "    .dataframe tbody tr th:only-of-type {\n",
              "        vertical-align: middle;\n",
              "    }\n",
              "\n",
              "    .dataframe tbody tr th {\n",
              "        vertical-align: top;\n",
              "    }\n",
              "\n",
              "    .dataframe thead th {\n",
              "        text-align: right;\n",
              "    }\n",
              "</style>\n",
              "<table border=\"1\" class=\"dataframe\">\n",
              "  <thead>\n",
              "    <tr style=\"text-align: right;\">\n",
              "      <th></th>\n",
              "      <th>feature</th>\n",
              "      <th>importance</th>\n",
              "    </tr>\n",
              "  </thead>\n",
              "  <tbody>\n",
              "    <tr>\n",
              "      <th>15</th>\n",
              "      <td>total_pymnt</td>\n",
              "      <td>19.355455</td>\n",
              "    </tr>\n",
              "    <tr>\n",
              "      <th>14</th>\n",
              "      <td>out_prncp</td>\n",
              "      <td>14.243698</td>\n",
              "    </tr>\n",
              "    <tr>\n",
              "      <th>17</th>\n",
              "      <td>last_pymnt_amnt</td>\n",
              "      <td>12.216939</td>\n",
              "    </tr>\n",
              "    <tr>\n",
              "      <th>26</th>\n",
              "      <td>mths_since_last_credit_pull_d</td>\n",
              "      <td>1.247823</td>\n",
              "    </tr>\n",
              "    <tr>\n",
              "      <th>56</th>\n",
              "      <td>initial_list_status:f</td>\n",
              "      <td>0.257514</td>\n",
              "    </tr>\n",
              "    <tr>\n",
              "      <th>20</th>\n",
              "      <td>tot_coll_amt</td>\n",
              "      <td>0.249550</td>\n",
              "    </tr>\n",
              "    <tr>\n",
              "      <th>57</th>\n",
              "      <td>initial_list_status:w</td>\n",
              "      <td>0.248308</td>\n",
              "    </tr>\n",
              "    <tr>\n",
              "      <th>35</th>\n",
              "      <td>home_ownership:MORTGAGE</td>\n",
              "      <td>0.231539</td>\n",
              "    </tr>\n",
              "    <tr>\n",
              "      <th>31</th>\n",
              "      <td>grade:E</td>\n",
              "      <td>0.218675</td>\n",
              "    </tr>\n",
              "    <tr>\n",
              "      <th>39</th>\n",
              "      <td>home_ownership:RENT</td>\n",
              "      <td>0.197426</td>\n",
              "    </tr>\n",
              "  </tbody>\n",
              "</table>\n",
              "</div>\n",
              "      <button class=\"colab-df-convert\" onclick=\"convertToInteractive('df-5834d853-4d4d-4d10-9ade-2088c67ec69f')\"\n",
              "              title=\"Convert this dataframe to an interactive table.\"\n",
              "              style=\"display:none;\">\n",
              "        \n",
              "  <svg xmlns=\"http://www.w3.org/2000/svg\" height=\"24px\"viewBox=\"0 0 24 24\"\n",
              "       width=\"24px\">\n",
              "    <path d=\"M0 0h24v24H0V0z\" fill=\"none\"/>\n",
              "    <path d=\"M18.56 5.44l.94 2.06.94-2.06 2.06-.94-2.06-.94-.94-2.06-.94 2.06-2.06.94zm-11 1L8.5 8.5l.94-2.06 2.06-.94-2.06-.94L8.5 2.5l-.94 2.06-2.06.94zm10 10l.94 2.06.94-2.06 2.06-.94-2.06-.94-.94-2.06-.94 2.06-2.06.94z\"/><path d=\"M17.41 7.96l-1.37-1.37c-.4-.4-.92-.59-1.43-.59-.52 0-1.04.2-1.43.59L10.3 9.45l-7.72 7.72c-.78.78-.78 2.05 0 2.83L4 21.41c.39.39.9.59 1.41.59.51 0 1.02-.2 1.41-.59l7.78-7.78 2.81-2.81c.8-.78.8-2.07 0-2.86zM5.41 20L4 18.59l7.72-7.72 1.47 1.35L5.41 20z\"/>\n",
              "  </svg>\n",
              "      </button>\n",
              "      \n",
              "  <style>\n",
              "    .colab-df-container {\n",
              "      display:flex;\n",
              "      flex-wrap:wrap;\n",
              "      gap: 12px;\n",
              "    }\n",
              "\n",
              "    .colab-df-convert {\n",
              "      background-color: #E8F0FE;\n",
              "      border: none;\n",
              "      border-radius: 50%;\n",
              "      cursor: pointer;\n",
              "      display: none;\n",
              "      fill: #1967D2;\n",
              "      height: 32px;\n",
              "      padding: 0 0 0 0;\n",
              "      width: 32px;\n",
              "    }\n",
              "\n",
              "    .colab-df-convert:hover {\n",
              "      background-color: #E2EBFA;\n",
              "      box-shadow: 0px 1px 2px rgba(60, 64, 67, 0.3), 0px 1px 3px 1px rgba(60, 64, 67, 0.15);\n",
              "      fill: #174EA6;\n",
              "    }\n",
              "\n",
              "    [theme=dark] .colab-df-convert {\n",
              "      background-color: #3B4455;\n",
              "      fill: #D2E3FC;\n",
              "    }\n",
              "\n",
              "    [theme=dark] .colab-df-convert:hover {\n",
              "      background-color: #434B5C;\n",
              "      box-shadow: 0px 1px 3px 1px rgba(0, 0, 0, 0.15);\n",
              "      filter: drop-shadow(0px 1px 2px rgba(0, 0, 0, 0.3));\n",
              "      fill: #FFFFFF;\n",
              "    }\n",
              "  </style>\n",
              "\n",
              "      <script>\n",
              "        const buttonEl =\n",
              "          document.querySelector('#df-5834d853-4d4d-4d10-9ade-2088c67ec69f button.colab-df-convert');\n",
              "        buttonEl.style.display =\n",
              "          google.colab.kernel.accessAllowed ? 'block' : 'none';\n",
              "\n",
              "        async function convertToInteractive(key) {\n",
              "          const element = document.querySelector('#df-5834d853-4d4d-4d10-9ade-2088c67ec69f');\n",
              "          const dataTable =\n",
              "            await google.colab.kernel.invokeFunction('convertToInteractive',\n",
              "                                                     [key], {});\n",
              "          if (!dataTable) return;\n",
              "\n",
              "          const docLinkHtml = 'Like what you see? Visit the ' +\n",
              "            '<a target=\"_blank\" href=https://colab.research.google.com/notebooks/data_table.ipynb>data table notebook</a>'\n",
              "            + ' to learn more about interactive tables.';\n",
              "          element.innerHTML = '';\n",
              "          dataTable['output_type'] = 'display_data';\n",
              "          await google.colab.output.renderOutput(dataTable, element);\n",
              "          const docLink = document.createElement('div');\n",
              "          docLink.innerHTML = docLinkHtml;\n",
              "          element.appendChild(docLink);\n",
              "        }\n",
              "      </script>\n",
              "    </div>\n",
              "  </div>\n",
              "  "
            ]
          },
          "metadata": {},
          "execution_count": 166
        }
      ]
    },
    {
      "cell_type": "code",
      "source": [
        "plt.figure(figsize=(10,5))\n",
        "plt.plot(y_test[:30].values, label='Aktual', marker=\"x\")\n",
        "plt.plot(y_pred_lr[:30], label='Prediksi')\n",
        "plt.title('Perbandingan Data Aktual vs Data Prediksi LR', fontsize=(15))\n",
        "plt.legend()"
      ],
      "metadata": {
        "colab": {
          "base_uri": "https://localhost:8080/",
          "height": 355
        },
        "id": "wQKXRCVnjFNc",
        "outputId": "225c2fdd-fc64-4139-e7c6-2c420401353c"
      },
      "execution_count": 187,
      "outputs": [
        {
          "output_type": "execute_result",
          "data": {
            "text/plain": [
              "<matplotlib.legend.Legend at 0x7ff1c14b7490>"
            ]
          },
          "metadata": {},
          "execution_count": 187
        },
        {
          "output_type": "display_data",
          "data": {
            "text/plain": [
              "<Figure size 720x360 with 1 Axes>"
            ],
            "image/png": "[encoded data removed]"
          },
          "metadata": {
            "needs_background": "light"
          }
        }
      ]
    },
    {
      "cell_type": "code",
      "source": [
        "confusion_matrix_df = pd.DataFrame((confusion_matrix(y_test, y_pred_lr)), ('Bad', 'Good'), ('Bad', 'Good'))\n",
        "\n",
        "# Plot confusion matrix\n",
        "plt.figure()\n",
        "heatmap = sns.heatmap(confusion_matrix_df, annot=True, annot_kws={'size': 14}, fmt='d', cmap='YlGnBu')\n",
        "heatmap.yaxis.set_ticklabels(heatmap.yaxis.get_ticklabels(), rotation=0, ha='right', fontsize=14)\n",
        "heatmap.xaxis.set_ticklabels(heatmap.xaxis.get_ticklabels(), rotation=0, ha='right', fontsize=14)\n",
        "\n",
        "plt.title('Confusion Matrix Logistic Regression', fontsize=18, color='darkblue')\n",
        "plt.ylabel('True label', fontsize=14)\n",
        "plt.xlabel('Predicted label', fontsize=14)\n",
        "plt.show()"
      ],
      "metadata": {
        "colab": {
          "base_uri": "https://localhost:8080/",
          "height": 307
        },
        "id": "aCveK-At2337",
        "outputId": "71f2b2c7-c541-49ec-ff7b-049e1765eef4"
      },
      "execution_count": 193,
      "outputs": [
        {
          "output_type": "display_data",
          "data": {
            "text/plain": [
              "<Figure size 432x288 with 2 Axes>"
            ],
            "image/png": "[encoded data removed]"
          },
          "metadata": {
            "needs_background": "light"
          }
        }
      ]
    },
    {
      "cell_type": "markdown",
      "source": [
        "## XGBoost "
      ],
      "metadata": {
        "id": "axb2ZdS1NgoU"
      }
    },
    {
      "cell_type": "code",
      "source": [
        "# xgboost classifier\n",
        "xgb = XGBClassifier()\n",
        "xgb.fit(X_train, y_train)\n",
        "y_pred_xgb = xgb.predict(X_test)\n",
        "print('Classification_Report: ')\n",
        "print(classification_report(y_test, y_pred_xgb))"
      ],
      "metadata": {
        "colab": {
          "base_uri": "https://localhost:8080/"
        },
        "id": "82n1Pgx0diZb",
        "outputId": "72d12bab-5988-49b5-8f54-6f9b89b63f17"
      },
      "execution_count": 182,
      "outputs": [
        {
          "output_type": "stream",
          "name": "stdout",
          "text": [
            "Classification_Report: \n",
            "              precision    recall  f1-score   support\n",
            "\n",
            "           0       0.99      0.95      0.97      7670\n",
            "           1       0.99      1.00      1.00     64083\n",
            "\n",
            "    accuracy                           0.99     71753\n",
            "   macro avg       0.99      0.97      0.98     71753\n",
            "weighted avg       0.99      0.99      0.99     71753\n",
            "\n"
          ]
        }
      ]
    },
    {
      "cell_type": "code",
      "source": [
        "roc_auc = roc_auc_score(y_test, y_pred_xgb)\n",
        "print(\"Area under ROC Curve: \",roc_auc,\"\" )\n",
        "\n",
        "fpr, tpr, _ = roc_curve(y_test, y_pred_xgb)\n",
        "plt.plot(fpr, tpr, label = 'auc = ' + str(roc_auc))\n",
        "plt.plot([0, 1], [0,1], color = 'navy', linestyle = '--')\n",
        "plt.xlim([0.0, 1.0])\n",
        "plt.ylim([0.0, 1])\n",
        "plt.xlabel('False Positive Rate')\n",
        "plt.ylabel('True Positive Rate')\n",
        "plt.title('ROC Curve')\n"
      ],
      "metadata": {
        "colab": {
          "base_uri": "https://localhost:8080/",
          "height": 330
        },
        "id": "aUhWjrJlBiDq",
        "outputId": "a31becb3-d58d-4f86-d6a9-14d8d14bf83b"
      },
      "execution_count": 183,
      "outputs": [
        {
          "output_type": "stream",
          "name": "stdout",
          "text": [
            "Area under ROC Curve:  0.9749739606968725 \n"
          ]
        },
        {
          "output_type": "execute_result",
          "data": {
            "text/plain": [
              "Text(0.5, 1.0, 'ROC Curve')"
            ]
          },
          "metadata": {},
          "execution_count": 183
        },
        {
          "output_type": "display_data",
          "data": {
            "text/plain": [
              "<Figure size 432x288 with 1 Axes>"
            ],
            "image/png": "[encoded data removed]"
          },
          "metadata": {
            "needs_background": "light"
          }
        }
      ]
    },
    {
      "cell_type": "code",
      "source": [
        "# Feature Importance\n",
        "\n",
        "importance_xgb = pd.DataFrame(data={\n",
        "    'feature': X_train.columns,\n",
        "    'importance': xgb.feature_importances_\n",
        "})\n",
        "importance_xgb = importance_xgb.sort_values(by='importance', ascending=False)\n",
        "importance_xgb.head(10)"
      ],
      "metadata": {
        "colab": {
          "base_uri": "https://localhost:8080/",
          "height": 363
        },
        "id": "SaQaRLhjnbt2",
        "outputId": "8396b528-2950-4ab1-c200-2d87c57e679c"
      },
      "execution_count": 172,
      "outputs": [
        {
          "output_type": "execute_result",
          "data": {
            "text/plain": [
              "                          feature  importance\n",
              "17                last_pymnt_amnt    0.472253\n",
              "25        mths_since_last_pymnt_d    0.143938\n",
              "23             mths_since_issue_d    0.121708\n",
              "3                     installment    0.056270\n",
              "15                    total_pymnt    0.054184\n",
              "0                       loan_amnt    0.044373\n",
              "16                  total_rec_int    0.041694\n",
              "26  mths_since_last_credit_pull_d    0.033694\n",
              "14                      out_prncp    0.027253\n",
              "2                        int_rate    0.002996"
            ],
            "text/html": [
              "\n",
              "  <div id=\"df-3e4d61d4-667d-404a-b28f-7b1353a95d8d\">\n",
              "    <div class=\"colab-df-container\">\n",
              "      <div>\n",
              "<style scoped>\n",
              "    .dataframe tbody tr th:only-of-type {\n",
              "        vertical-align: middle;\n",
              "    }\n",
              "\n",
              "    .dataframe tbody tr th {\n",
              "        vertical-align: top;\n",
              "    }\n",
              "\n",
              "    .dataframe thead th {\n",
              "        text-align: right;\n",
              "    }\n",
              "</style>\n",
              "<table border=\"1\" class=\"dataframe\">\n",
              "  <thead>\n",
              "    <tr style=\"text-align: right;\">\n",
              "      <th></th>\n",
              "      <th>feature</th>\n",
              "      <th>importance</th>\n",
              "    </tr>\n",
              "  </thead>\n",
              "  <tbody>\n",
              "    <tr>\n",
              "      <th>17</th>\n",
              "      <td>last_pymnt_amnt</td>\n",
              "      <td>0.472253</td>\n",
              "    </tr>\n",
              "    <tr>\n",
              "      <th>25</th>\n",
              "      <td>mths_since_last_pymnt_d</td>\n",
              "      <td>0.143938</td>\n",
              "    </tr>\n",
              "    <tr>\n",
              "      <th>23</th>\n",
              "      <td>mths_since_issue_d</td>\n",
              "      <td>0.121708</td>\n",
              "    </tr>\n",
              "    <tr>\n",
              "      <th>3</th>\n",
              "      <td>installment</td>\n",
              "      <td>0.056270</td>\n",
              "    </tr>\n",
              "    <tr>\n",
              "      <th>15</th>\n",
              "      <td>total_pymnt</td>\n",
              "      <td>0.054184</td>\n",
              "    </tr>\n",
              "    <tr>\n",
              "      <th>0</th>\n",
              "      <td>loan_amnt</td>\n",
              "      <td>0.044373</td>\n",
              "    </tr>\n",
              "    <tr>\n",
              "      <th>16</th>\n",
              "      <td>total_rec_int</td>\n",
              "      <td>0.041694</td>\n",
              "    </tr>\n",
              "    <tr>\n",
              "      <th>26</th>\n",
              "      <td>mths_since_last_credit_pull_d</td>\n",
              "      <td>0.033694</td>\n",
              "    </tr>\n",
              "    <tr>\n",
              "      <th>14</th>\n",
              "      <td>out_prncp</td>\n",
              "      <td>0.027253</td>\n",
              "    </tr>\n",
              "    <tr>\n",
              "      <th>2</th>\n",
              "      <td>int_rate</td>\n",
              "      <td>0.002996</td>\n",
              "    </tr>\n",
              "  </tbody>\n",
              "</table>\n",
              "</div>\n",
              "      <button class=\"colab-df-convert\" onclick=\"convertToInteractive('df-3e4d61d4-667d-404a-b28f-7b1353a95d8d')\"\n",
              "              title=\"Convert this dataframe to an interactive table.\"\n",
              "              style=\"display:none;\">\n",
              "        \n",
              "  <svg xmlns=\"http://www.w3.org/2000/svg\" height=\"24px\"viewBox=\"0 0 24 24\"\n",
              "       width=\"24px\">\n",
              "    <path d=\"M0 0h24v24H0V0z\" fill=\"none\"/>\n",
              "    <path d=\"M18.56 5.44l.94 2.06.94-2.06 2.06-.94-2.06-.94-.94-2.06-.94 2.06-2.06.94zm-11 1L8.5 8.5l.94-2.06 2.06-.94-2.06-.94L8.5 2.5l-.94 2.06-2.06.94zm10 10l.94 2.06.94-2.06 2.06-.94-2.06-.94-.94-2.06-.94 2.06-2.06.94z\"/><path d=\"M17.41 7.96l-1.37-1.37c-.4-.4-.92-.59-1.43-.59-.52 0-1.04.2-1.43.59L10.3 9.45l-7.72 7.72c-.78.78-.78 2.05 0 2.83L4 21.41c.39.39.9.59 1.41.59.51 0 1.02-.2 1.41-.59l7.78-7.78 2.81-2.81c.8-.78.8-2.07 0-2.86zM5.41 20L4 18.59l7.72-7.72 1.47 1.35L5.41 20z\"/>\n",
              "  </svg>\n",
              "      </button>\n",
              "      \n",
              "  <style>\n",
              "    .colab-df-container {\n",
              "      display:flex;\n",
              "      flex-wrap:wrap;\n",
              "      gap: 12px;\n",
              "    }\n",
              "\n",
              "    .colab-df-convert {\n",
              "      background-color: #E8F0FE;\n",
              "      border: none;\n",
              "      border-radius: 50%;\n",
              "      cursor: pointer;\n",
              "      display: none;\n",
              "      fill: #1967D2;\n",
              "      height: 32px;\n",
              "      padding: 0 0 0 0;\n",
              "      width: 32px;\n",
              "    }\n",
              "\n",
              "    .colab-df-convert:hover {\n",
              "      background-color: #E2EBFA;\n",
              "      box-shadow: 0px 1px 2px rgba(60, 64, 67, 0.3), 0px 1px 3px 1px rgba(60, 64, 67, 0.15);\n",
              "      fill: #174EA6;\n",
              "    }\n",
              "\n",
              "    [theme=dark] .colab-df-convert {\n",
              "      background-color: #3B4455;\n",
              "      fill: #D2E3FC;\n",
              "    }\n",
              "\n",
              "    [theme=dark] .colab-df-convert:hover {\n",
              "      background-color: #434B5C;\n",
              "      box-shadow: 0px 1px 3px 1px rgba(0, 0, 0, 0.15);\n",
              "      filter: drop-shadow(0px 1px 2px rgba(0, 0, 0, 0.3));\n",
              "      fill: #FFFFFF;\n",
              "    }\n",
              "  </style>\n",
              "\n",
              "      <script>\n",
              "        const buttonEl =\n",
              "          document.querySelector('#df-3e4d61d4-667d-404a-b28f-7b1353a95d8d button.colab-df-convert');\n",
              "        buttonEl.style.display =\n",
              "          google.colab.kernel.accessAllowed ? 'block' : 'none';\n",
              "\n",
              "        async function convertToInteractive(key) {\n",
              "          const element = document.querySelector('#df-3e4d61d4-667d-404a-b28f-7b1353a95d8d');\n",
              "          const dataTable =\n",
              "            await google.colab.kernel.invokeFunction('convertToInteractive',\n",
              "                                                     [key], {});\n",
              "          if (!dataTable) return;\n",
              "\n",
              "          const docLinkHtml = 'Like what you see? Visit the ' +\n",
              "            '<a target=\"_blank\" href=https://colab.research.google.com/notebooks/data_table.ipynb>data table notebook</a>'\n",
              "            + ' to learn more about interactive tables.';\n",
              "          element.innerHTML = '';\n",
              "          dataTable['output_type'] = 'display_data';\n",
              "          await google.colab.output.renderOutput(dataTable, element);\n",
              "          const docLink = document.createElement('div');\n",
              "          docLink.innerHTML = docLinkHtml;\n",
              "          element.appendChild(docLink);\n",
              "        }\n",
              "      </script>\n",
              "    </div>\n",
              "  </div>\n",
              "  "
            ]
          },
          "metadata": {},
          "execution_count": 172
        }
      ]
    },
    {
      "cell_type": "code",
      "source": [
        "# Plot \n",
        "\n",
        "plt.figure(figsize=(10,5))\n",
        "plt.plot(y_test[:30].values, label='Aktual', marker=\"x\")\n",
        "plt.plot(y_pred_xgb[:30], label='Prediksi')\n",
        "plt.title('Perbandingan Data Aktual vs Data Prediksi XGBoost')\n",
        "plt.legend()"
      ],
      "metadata": {
        "colab": {
          "base_uri": "https://localhost:8080/",
          "height": 353
        },
        "id": "PveNlcXDh2uo",
        "outputId": "f054311f-4116-4ae7-eef8-d390ebf71d22"
      },
      "execution_count": 188,
      "outputs": [
        {
          "output_type": "execute_result",
          "data": {
            "text/plain": [
              "<matplotlib.legend.Legend at 0x7ff1c7492eb0>"
            ]
          },
          "metadata": {},
          "execution_count": 188
        },
        {
          "output_type": "display_data",
          "data": {
            "text/plain": [
              "<Figure size 720x360 with 1 Axes>"
            ],
            "image/png": "[encoded data removed]"
          },
          "metadata": {
            "needs_background": "light"
          }
        }
      ]
    },
    {
      "cell_type": "code",
      "source": [
        "confusion_matrix_df = pd.DataFrame((confusion_matrix(y_test, y_pred_xgb)), ('Bad', 'Good'), ('Bad', 'Good'))\n",
        "\n",
        "# Plot confusion matrix\n",
        "plt.figure()\n",
        "heatmap = sns.heatmap(confusion_matrix_df, annot=True, annot_kws={'size': 14}, fmt='d', cmap='YlGnBu')\n",
        "heatmap.yaxis.set_ticklabels(heatmap.yaxis.get_ticklabels(), rotation=0, ha='right', fontsize=14)\n",
        "heatmap.xaxis.set_ticklabels(heatmap.xaxis.get_ticklabels(), rotation=0, ha='right', fontsize=14)\n",
        "\n",
        "plt.title('Confusion Matrix XGBoost', fontsize=18, color='darkblue')\n",
        "plt.ylabel('True label', fontsize=14)\n",
        "plt.xlabel('Predicted label', fontsize=14)\n",
        "plt.show()"
      ],
      "metadata": {
        "colab": {
          "base_uri": "https://localhost:8080/",
          "height": 307
        },
        "id": "8UwxmazRuPLj",
        "outputId": "501d893a-d440-4f3f-e491-f6f393aa96c1"
      },
      "execution_count": 192,
      "outputs": [
        {
          "output_type": "display_data",
          "data": {
            "text/plain": [
              "<Figure size 432x288 with 2 Axes>"
            ],
            "image/png": "[encoded data removed]"
          },
          "metadata": {
            "needs_background": "light"
          }
        }
      ]
    }
  ]
}